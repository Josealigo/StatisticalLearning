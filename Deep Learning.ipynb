{
 "cells": [
  {
   "cell_type": "markdown",
   "metadata": {},
   "source": [
    "## Deep Learning\n",
    "### José Ligorría\n",
    "#### Septiembre 2020\n",
    "\n",
    "A countinuación se presentan 3 partes independientes entre sí, cada una correspondiente a un tipo de modelo de Deep Learning (puede trabajarse en 3 notebooks o scripts diferentes,cada uno puede ser usando herramienta o framework diferente):\n",
    "- **Feed Forward Network:**  La primera parte consiste en una red neuronal tipo feedforward(multi-layer-perceptron).\n",
    "    - https://github.com/Josealigo/StatisticalLearning/blob/master/MLP%20Tensorflow%20Keras.ipynb\n",
    "- **Convolutional Network:** La segunda parte consiste en una red neuronal convolucional para datos en distribución espacial(por ejemplo imágenes, o audio).\n",
    "    - https://github.com/Josealigo/StatisticalLearning/blob/master/Convnet%20Sonido%20Ambiente.ipynb\n",
    "- **Recurrent Neural Network:** La tercera parte consiste en una red neuronal tipo recurrente para datos temporales y secuenciales(por ejemplo texto,series de tiempo).\n",
    "    - https://github.com/Josealigo/StatisticalLearning/blob/master/Simple%20RNN%20and%20LSTM.ipynb\n",
    "    \n",
    "**Nota:** No se aportarán dataset ya que son algo pesados en algunos casos, solo se muestra el código. En caso se desee replicar se deben de bajar de la fuente descrita."
   ]
  }
 ],
 "metadata": {
  "kernelspec": {
   "display_name": "Python 3.7 (tensorflowGPU)",
   "language": "python",
   "name": "tensorflow"
  },
  "language_info": {
   "codemirror_mode": {
    "name": "ipython",
    "version": 3
   },
   "file_extension": ".py",
   "mimetype": "text/x-python",
   "name": "python",
   "nbconvert_exporter": "python",
   "pygments_lexer": "ipython3",
   "version": "3.7.9"
  }
 },
 "nbformat": 4,
 "nbformat_minor": 4
}
