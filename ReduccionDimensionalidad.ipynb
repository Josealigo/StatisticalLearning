{
 "cells": [
  {
   "cell_type": "code",
   "execution_count": 1,
   "metadata": {},
   "outputs": [],
   "source": [
    "from tensorflow import keras\n",
    "import pandas as pd\n",
    "import numpy as np\n",
    "import matplotlib.pyplot as plt\n",
    "from datetime import datetime\n",
    "from sklearn.manifold import TSNE\n",
    "from sklearn.cluster import KMeans\n",
    "from sklearn.decomposition import PCA"
   ]
  },
  {
   "cell_type": "markdown",
   "metadata": {},
   "source": [
    "Empezamos preparando el dataset y la variable k que nos indica la cantidad de features finales que vamos a elegir"
   ]
  },
  {
   "cell_type": "code",
   "execution_count": 2,
   "metadata": {},
   "outputs": [],
   "source": [
    "k = 2\n",
    "fashion_mnist = keras.datasets.fashion_mnist\n",
    "(train_images, train_labels), (test_images, test_labels) = fashion_mnist.load_data()"
   ]
  },
  {
   "cell_type": "markdown",
   "metadata": {},
   "source": [
    "Obtenemos una copia del dataset que vamos a utilizar, para éste caso elegimos las imagenes con las que realiza el entrenamiento de el dataset fashion_mnist."
   ]
  },
  {
   "cell_type": "code",
   "execution_count": 3,
   "metadata": {},
   "outputs": [],
   "source": [
    "data_o = train_images.copy()\n",
    "data = train_images.copy()"
   ]
  },
  {
   "cell_type": "markdown",
   "metadata": {},
   "source": [
    "Procedemos con los pasos detallados para realizar PCA con la librería numpy (np)."
   ]
  },
  {
   "cell_type": "markdown",
   "metadata": {},
   "source": [
    "1) Normalizar/escalar los datos\n",
    "restar media\n",
    "dividir por dest. estándar "
   ]
  },
  {
   "cell_type": "code",
   "execution_count": 4,
   "metadata": {},
   "outputs": [],
   "source": [
    "data = data.reshape(60000,784)\n",
    "data_o = data_o.reshape(60000,784)"
   ]
  },
  {
   "cell_type": "code",
   "execution_count": 5,
   "metadata": {},
   "outputs": [],
   "source": [
    "data = (data - np.mean(data,axis=0) ) / np.std(data,axis = 0) "
   ]
  },
  {
   "cell_type": "code",
   "execution_count": 6,
   "metadata": {},
   "outputs": [
    {
     "data": {
      "text/plain": [
       "(60000, 784)"
      ]
     },
     "execution_count": 6,
     "metadata": {},
     "output_type": "execute_result"
    }
   ],
   "source": [
    "data.shape"
   ]
  },
  {
   "cell_type": "markdown",
   "metadata": {},
   "source": [
    "2) Calcular la matriz de coovarianza y calcular: \n",
    "Vectores propios\n",
    "Valores propios de cada vector propio "
   ]
  },
  {
   "cell_type": "code",
   "execution_count": 7,
   "metadata": {},
   "outputs": [],
   "source": [
    "cov_M = np.cov(data.T) / data.shape[0]"
   ]
  },
  {
   "cell_type": "code",
   "execution_count": 8,
   "metadata": {},
   "outputs": [],
   "source": [
    "v, w = np.linalg.eig(cov_M)\n",
    "idx = v.argsort()[::-1] \n",
    "v = v[idx] \n",
    "w = w[:,idx] "
   ]
  },
  {
   "cell_type": "markdown",
   "metadata": {},
   "source": [
    "3) Hacer una proyección ortogonal de los datos normalizados sobre el sub-espacio principal(definido por los eigen-vectors asociados a los eigen-values mayores) "
   ]
  },
  {
   "cell_type": "code",
   "execution_count": 9,
   "metadata": {},
   "outputs": [
    {
     "data": {
      "text/plain": [
       "(60000, 2)"
      ]
     },
     "execution_count": 9,
     "metadata": {},
     "output_type": "execute_result"
    }
   ],
   "source": [
    "data_PCA = data.dot(w[:, :k])\n",
    "data_PCA.shape"
   ]
  },
  {
   "cell_type": "code",
   "execution_count": 10,
   "metadata": {},
   "outputs": [
    {
     "data": {
      "text/plain": [
       "datetime.timedelta(days=-1, seconds=76147, microseconds=482991)"
      ]
     },
     "execution_count": 10,
     "metadata": {},
     "output_type": "execute_result"
    }
   ],
   "source": [
    "tmp = datetime.now()\n",
    "data_PCA_TSNE = TSNE(n_components=k).fit_transform(data)\n",
    "tmp-datetime.now()"
   ]
  },
  {
   "cell_type": "code",
   "execution_count": 11,
   "metadata": {},
   "outputs": [
    {
     "data": {
      "text/plain": [
       "(60000, 2)"
      ]
     },
     "execution_count": 11,
     "metadata": {},
     "output_type": "execute_result"
    }
   ],
   "source": [
    "data_PCA_TSNE.shape"
   ]
  },
  {
   "cell_type": "code",
   "execution_count": 12,
   "metadata": {},
   "outputs": [
    {
     "data": {
      "text/html": [
       "<div>\n",
       "<style scoped>\n",
       "    .dataframe tbody tr th:only-of-type {\n",
       "        vertical-align: middle;\n",
       "    }\n",
       "\n",
       "    .dataframe tbody tr th {\n",
       "        vertical-align: top;\n",
       "    }\n",
       "\n",
       "    .dataframe thead th {\n",
       "        text-align: right;\n",
       "    }\n",
       "</style>\n",
       "<table border=\"1\" class=\"dataframe\">\n",
       "  <thead>\n",
       "    <tr style=\"text-align: right;\">\n",
       "      <th></th>\n",
       "      <th>0</th>\n",
       "      <th>1</th>\n",
       "    </tr>\n",
       "  </thead>\n",
       "  <tbody>\n",
       "    <tr>\n",
       "      <th>0</th>\n",
       "      <td>25.029808</td>\n",
       "      <td>38.470676</td>\n",
       "    </tr>\n",
       "    <tr>\n",
       "      <th>1</th>\n",
       "      <td>0.596339</td>\n",
       "      <td>35.355629</td>\n",
       "    </tr>\n",
       "    <tr>\n",
       "      <th>2</th>\n",
       "      <td>-8.947552</td>\n",
       "      <td>-13.391912</td>\n",
       "    </tr>\n",
       "    <tr>\n",
       "      <th>3</th>\n",
       "      <td>-14.046834</td>\n",
       "      <td>-13.781363</td>\n",
       "    </tr>\n",
       "    <tr>\n",
       "      <th>4</th>\n",
       "      <td>-18.721214</td>\n",
       "      <td>-25.006678</td>\n",
       "    </tr>\n",
       "  </tbody>\n",
       "</table>\n",
       "</div>"
      ],
      "text/plain": [
       "           0          1\n",
       "0  25.029808  38.470676\n",
       "1   0.596339  35.355629\n",
       "2  -8.947552 -13.391912\n",
       "3 -14.046834 -13.781363\n",
       "4 -18.721214 -25.006678"
      ]
     },
     "execution_count": 12,
     "metadata": {},
     "output_type": "execute_result"
    }
   ],
   "source": [
    "data_PCA_TSNE_pd = pd.DataFrame(data_PCA_TSNE)\n",
    "data_PCA_TSNE_pd.head()"
   ]
  },
  {
   "cell_type": "code",
   "execution_count": 13,
   "metadata": {},
   "outputs": [
    {
     "data": {
      "text/html": [
       "<div>\n",
       "<style scoped>\n",
       "    .dataframe tbody tr th:only-of-type {\n",
       "        vertical-align: middle;\n",
       "    }\n",
       "\n",
       "    .dataframe tbody tr th {\n",
       "        vertical-align: top;\n",
       "    }\n",
       "\n",
       "    .dataframe thead th {\n",
       "        text-align: right;\n",
       "    }\n",
       "</style>\n",
       "<table border=\"1\" class=\"dataframe\">\n",
       "  <thead>\n",
       "    <tr style=\"text-align: right;\">\n",
       "      <th></th>\n",
       "      <th>0</th>\n",
       "      <th>1</th>\n",
       "    </tr>\n",
       "  </thead>\n",
       "  <tbody>\n",
       "    <tr>\n",
       "      <th>0</th>\n",
       "      <td>-0.801175</td>\n",
       "      <td>-20.866749</td>\n",
       "    </tr>\n",
       "    <tr>\n",
       "      <th>1</th>\n",
       "      <td>17.074206</td>\n",
       "      <td>4.968512</td>\n",
       "    </tr>\n",
       "    <tr>\n",
       "      <th>2</th>\n",
       "      <td>-9.601641</td>\n",
       "      <td>12.296101</td>\n",
       "    </tr>\n",
       "    <tr>\n",
       "      <th>3</th>\n",
       "      <td>-0.311206</td>\n",
       "      <td>11.576765</td>\n",
       "    </tr>\n",
       "    <tr>\n",
       "      <th>4</th>\n",
       "      <td>8.963833</td>\n",
       "      <td>12.867738</td>\n",
       "    </tr>\n",
       "  </tbody>\n",
       "</table>\n",
       "</div>"
      ],
      "text/plain": [
       "           0          1\n",
       "0  -0.801175 -20.866749\n",
       "1  17.074206   4.968512\n",
       "2  -9.601641  12.296101\n",
       "3  -0.311206  11.576765\n",
       "4   8.963833  12.867738"
      ]
     },
     "execution_count": 13,
     "metadata": {},
     "output_type": "execute_result"
    }
   ],
   "source": [
    "data_PCA_pd = pd.DataFrame(data_PCA)\n",
    "data_PCA_pd.head()"
   ]
  },
  {
   "cell_type": "markdown",
   "metadata": {},
   "source": [
    "Comprobamos que nuestra implementación de PCA no difiera significativamente de la obtenida por PCA."
   ]
  },
  {
   "cell_type": "code",
   "execution_count": 14,
   "metadata": {},
   "outputs": [],
   "source": [
    "data_PCA_sk = PCA(n_components=k).fit_transform(data)"
   ]
  },
  {
   "cell_type": "code",
   "execution_count": 15,
   "metadata": {},
   "outputs": [
    {
     "data": {
      "text/html": [
       "<div>\n",
       "<style scoped>\n",
       "    .dataframe tbody tr th:only-of-type {\n",
       "        vertical-align: middle;\n",
       "    }\n",
       "\n",
       "    .dataframe tbody tr th {\n",
       "        vertical-align: top;\n",
       "    }\n",
       "\n",
       "    .dataframe thead th {\n",
       "        text-align: right;\n",
       "    }\n",
       "</style>\n",
       "<table border=\"1\" class=\"dataframe\">\n",
       "  <thead>\n",
       "    <tr style=\"text-align: right;\">\n",
       "      <th></th>\n",
       "      <th>0</th>\n",
       "      <th>1</th>\n",
       "    </tr>\n",
       "  </thead>\n",
       "  <tbody>\n",
       "    <tr>\n",
       "      <th>0</th>\n",
       "      <td>-0.801175</td>\n",
       "      <td>20.866749</td>\n",
       "    </tr>\n",
       "    <tr>\n",
       "      <th>1</th>\n",
       "      <td>17.074206</td>\n",
       "      <td>-4.968513</td>\n",
       "    </tr>\n",
       "    <tr>\n",
       "      <th>2</th>\n",
       "      <td>-9.601641</td>\n",
       "      <td>-12.296101</td>\n",
       "    </tr>\n",
       "    <tr>\n",
       "      <th>3</th>\n",
       "      <td>-0.311206</td>\n",
       "      <td>-11.576765</td>\n",
       "    </tr>\n",
       "    <tr>\n",
       "      <th>4</th>\n",
       "      <td>8.963833</td>\n",
       "      <td>-12.867738</td>\n",
       "    </tr>\n",
       "  </tbody>\n",
       "</table>\n",
       "</div>"
      ],
      "text/plain": [
       "           0          1\n",
       "0  -0.801175  20.866749\n",
       "1  17.074206  -4.968513\n",
       "2  -9.601641 -12.296101\n",
       "3  -0.311206 -11.576765\n",
       "4   8.963833 -12.867738"
      ]
     },
     "execution_count": 15,
     "metadata": {},
     "output_type": "execute_result"
    }
   ],
   "source": [
    "data_PCA_sk = pd.DataFrame(data_PCA_sk)\n",
    "data_PCA_sk.head()"
   ]
  },
  {
   "cell_type": "markdown",
   "metadata": {},
   "source": [
    "Nuestra implementación de PCA genera resultados equivalentes, salvo por signos en algunos casos, de la implementación de PCA de sklearn."
   ]
  },
  {
   "cell_type": "markdown",
   "metadata": {},
   "source": [
    "Donde podemos ver que los valores de ambas representaciones en 2 dimensiones son diferentes."
   ]
  },
  {
   "cell_type": "code",
   "execution_count": 16,
   "metadata": {},
   "outputs": [
    {
     "data": {
      "text/plain": [
       "array([0, 9, 1, ..., 5, 1, 7])"
      ]
     },
     "execution_count": 16,
     "metadata": {},
     "output_type": "execute_result"
    }
   ],
   "source": [
    "np_dataset = np.array(data_PCA_pd).astype('float')\n",
    "kmeans = KMeans(n_clusters = 10,random_state = 0).fit(np_dataset)\n",
    "kmeans.labels_"
   ]
  },
  {
   "cell_type": "code",
   "execution_count": 17,
   "metadata": {},
   "outputs": [
    {
     "data": {
      "text/plain": [
       "{0: 'T-shirt/top',\n",
       " 1: 'Trouser',\n",
       " 2: 'Pullover',\n",
       " 3: 'Dress',\n",
       " 4: 'Coat',\n",
       " 5: 'Sandal',\n",
       " 6: 'Shirt',\n",
       " 7: 'Sneaker',\n",
       " 8: 'Bag',\n",
       " 9: 'Ankle boot'}"
      ]
     },
     "execution_count": 17,
     "metadata": {},
     "output_type": "execute_result"
    }
   ],
   "source": [
    "id_labels = range(10)\n",
    "str_labels = [\"T-shirt/top\",\"Trouser\",\"Pullover\",\"Dress\",\"Coat\",\"Sandal\",\"Shirt\",\"Sneaker\",\"Bag\",\"Ankle boot\"]\n",
    "\n",
    "dict_labels = dict(zip(id_labels,str_labels))\n",
    "dict_labels"
   ]
  },
  {
   "cell_type": "code",
   "execution_count": 18,
   "metadata": {},
   "outputs": [
    {
     "data": {
      "text/html": [
       "<div>\n",
       "<style scoped>\n",
       "    .dataframe tbody tr th:only-of-type {\n",
       "        vertical-align: middle;\n",
       "    }\n",
       "\n",
       "    .dataframe tbody tr th {\n",
       "        vertical-align: top;\n",
       "    }\n",
       "\n",
       "    .dataframe thead th {\n",
       "        text-align: right;\n",
       "    }\n",
       "</style>\n",
       "<table border=\"1\" class=\"dataframe\">\n",
       "  <thead>\n",
       "    <tr style=\"text-align: right;\">\n",
       "      <th>Real</th>\n",
       "      <th>Ankle boot</th>\n",
       "      <th>Bag</th>\n",
       "      <th>Coat</th>\n",
       "      <th>Dress</th>\n",
       "      <th>Pullover</th>\n",
       "      <th>Sandal</th>\n",
       "      <th>Shirt</th>\n",
       "      <th>Sneaker</th>\n",
       "      <th>T-shirt/top</th>\n",
       "      <th>Trouser</th>\n",
       "    </tr>\n",
       "    <tr>\n",
       "      <th>KMeans</th>\n",
       "      <th></th>\n",
       "      <th></th>\n",
       "      <th></th>\n",
       "      <th></th>\n",
       "      <th></th>\n",
       "      <th></th>\n",
       "      <th></th>\n",
       "      <th></th>\n",
       "      <th></th>\n",
       "      <th></th>\n",
       "    </tr>\n",
       "  </thead>\n",
       "  <tbody>\n",
       "    <tr>\n",
       "      <th>0</th>\n",
       "      <td>882</td>\n",
       "      <td>2100</td>\n",
       "      <td>22</td>\n",
       "      <td>0</td>\n",
       "      <td>46</td>\n",
       "      <td>9</td>\n",
       "      <td>67</td>\n",
       "      <td>7</td>\n",
       "      <td>18</td>\n",
       "      <td>5</td>\n",
       "    </tr>\n",
       "    <tr>\n",
       "      <th>1</th>\n",
       "      <td>8</td>\n",
       "      <td>295</td>\n",
       "      <td>384</td>\n",
       "      <td>1516</td>\n",
       "      <td>607</td>\n",
       "      <td>39</td>\n",
       "      <td>1080</td>\n",
       "      <td>0</td>\n",
       "      <td>1122</td>\n",
       "      <td>1357</td>\n",
       "    </tr>\n",
       "    <tr>\n",
       "      <th>2</th>\n",
       "      <td>179</td>\n",
       "      <td>416</td>\n",
       "      <td>1745</td>\n",
       "      <td>41</td>\n",
       "      <td>1540</td>\n",
       "      <td>9</td>\n",
       "      <td>1106</td>\n",
       "      <td>1</td>\n",
       "      <td>211</td>\n",
       "      <td>39</td>\n",
       "    </tr>\n",
       "    <tr>\n",
       "      <th>3</th>\n",
       "      <td>1235</td>\n",
       "      <td>472</td>\n",
       "      <td>8</td>\n",
       "      <td>1</td>\n",
       "      <td>24</td>\n",
       "      <td>1679</td>\n",
       "      <td>44</td>\n",
       "      <td>2853</td>\n",
       "      <td>8</td>\n",
       "      <td>0</td>\n",
       "    </tr>\n",
       "    <tr>\n",
       "      <th>4</th>\n",
       "      <td>3496</td>\n",
       "      <td>1378</td>\n",
       "      <td>8</td>\n",
       "      <td>1</td>\n",
       "      <td>23</td>\n",
       "      <td>219</td>\n",
       "      <td>35</td>\n",
       "      <td>312</td>\n",
       "      <td>7</td>\n",
       "      <td>1</td>\n",
       "    </tr>\n",
       "    <tr>\n",
       "      <th>5</th>\n",
       "      <td>1</td>\n",
       "      <td>15</td>\n",
       "      <td>242</td>\n",
       "      <td>2773</td>\n",
       "      <td>18</td>\n",
       "      <td>1</td>\n",
       "      <td>342</td>\n",
       "      <td>0</td>\n",
       "      <td>1028</td>\n",
       "      <td>4338</td>\n",
       "    </tr>\n",
       "    <tr>\n",
       "      <th>6</th>\n",
       "      <td>2</td>\n",
       "      <td>160</td>\n",
       "      <td>1859</td>\n",
       "      <td>21</td>\n",
       "      <td>2123</td>\n",
       "      <td>0</td>\n",
       "      <td>1131</td>\n",
       "      <td>0</td>\n",
       "      <td>314</td>\n",
       "      <td>23</td>\n",
       "    </tr>\n",
       "    <tr>\n",
       "      <th>7</th>\n",
       "      <td>73</td>\n",
       "      <td>124</td>\n",
       "      <td>54</td>\n",
       "      <td>3</td>\n",
       "      <td>117</td>\n",
       "      <td>3971</td>\n",
       "      <td>135</td>\n",
       "      <td>2825</td>\n",
       "      <td>35</td>\n",
       "      <td>2</td>\n",
       "    </tr>\n",
       "    <tr>\n",
       "      <th>8</th>\n",
       "      <td>124</td>\n",
       "      <td>1021</td>\n",
       "      <td>775</td>\n",
       "      <td>141</td>\n",
       "      <td>1308</td>\n",
       "      <td>72</td>\n",
       "      <td>1256</td>\n",
       "      <td>2</td>\n",
       "      <td>443</td>\n",
       "      <td>45</td>\n",
       "    </tr>\n",
       "    <tr>\n",
       "      <th>9</th>\n",
       "      <td>0</td>\n",
       "      <td>19</td>\n",
       "      <td>903</td>\n",
       "      <td>1503</td>\n",
       "      <td>194</td>\n",
       "      <td>1</td>\n",
       "      <td>804</td>\n",
       "      <td>0</td>\n",
       "      <td>2814</td>\n",
       "      <td>190</td>\n",
       "    </tr>\n",
       "  </tbody>\n",
       "</table>\n",
       "</div>"
      ],
      "text/plain": [
       "Real    Ankle boot   Bag  Coat  Dress  Pullover  Sandal  Shirt  Sneaker  \\\n",
       "KMeans                                                                    \n",
       "0              882  2100    22      0        46       9     67        7   \n",
       "1                8   295   384   1516       607      39   1080        0   \n",
       "2              179   416  1745     41      1540       9   1106        1   \n",
       "3             1235   472     8      1        24    1679     44     2853   \n",
       "4             3496  1378     8      1        23     219     35      312   \n",
       "5                1    15   242   2773        18       1    342        0   \n",
       "6                2   160  1859     21      2123       0   1131        0   \n",
       "7               73   124    54      3       117    3971    135     2825   \n",
       "8              124  1021   775    141      1308      72   1256        2   \n",
       "9                0    19   903   1503       194       1    804        0   \n",
       "\n",
       "Real    T-shirt/top  Trouser  \n",
       "KMeans                        \n",
       "0                18        5  \n",
       "1              1122     1357  \n",
       "2               211       39  \n",
       "3                 8        0  \n",
       "4                 7        1  \n",
       "5              1028     4338  \n",
       "6               314       23  \n",
       "7                35        2  \n",
       "8               443       45  \n",
       "9              2814      190  "
      ]
     },
     "execution_count": 18,
     "metadata": {},
     "output_type": "execute_result"
    }
   ],
   "source": [
    "pd.crosstab(np.array(kmeans.labels_), np.array([dict_labels[x] for x in train_labels]), rownames = ['KMeans'], colnames = ['Real'])"
   ]
  },
  {
   "cell_type": "code",
   "execution_count": 19,
   "metadata": {},
   "outputs": [
    {
     "data": {
      "text/html": [
       "<div>\n",
       "<style scoped>\n",
       "    .dataframe tbody tr th:only-of-type {\n",
       "        vertical-align: middle;\n",
       "    }\n",
       "\n",
       "    .dataframe tbody tr th {\n",
       "        vertical-align: top;\n",
       "    }\n",
       "\n",
       "    .dataframe thead th {\n",
       "        text-align: right;\n",
       "    }\n",
       "</style>\n",
       "<table border=\"1\" class=\"dataframe\">\n",
       "  <thead>\n",
       "    <tr style=\"text-align: right;\">\n",
       "      <th>Real</th>\n",
       "      <th>Ankle boot</th>\n",
       "      <th>Bag</th>\n",
       "      <th>Coat</th>\n",
       "      <th>Dress</th>\n",
       "      <th>Pullover</th>\n",
       "      <th>Sandal</th>\n",
       "      <th>Shirt</th>\n",
       "      <th>Sneaker</th>\n",
       "      <th>T-shirt/top</th>\n",
       "      <th>Trouser</th>\n",
       "    </tr>\n",
       "    <tr>\n",
       "      <th>KMeans</th>\n",
       "      <th></th>\n",
       "      <th></th>\n",
       "      <th></th>\n",
       "      <th></th>\n",
       "      <th></th>\n",
       "      <th></th>\n",
       "      <th></th>\n",
       "      <th></th>\n",
       "      <th></th>\n",
       "      <th></th>\n",
       "    </tr>\n",
       "  </thead>\n",
       "  <tbody>\n",
       "    <tr>\n",
       "      <th>0</th>\n",
       "      <td>4</td>\n",
       "      <td>66</td>\n",
       "      <td>629</td>\n",
       "      <td>459</td>\n",
       "      <td>1329</td>\n",
       "      <td>42</td>\n",
       "      <td>1713</td>\n",
       "      <td>1</td>\n",
       "      <td>1492</td>\n",
       "      <td>139</td>\n",
       "    </tr>\n",
       "    <tr>\n",
       "      <th>1</th>\n",
       "      <td>1904</td>\n",
       "      <td>25</td>\n",
       "      <td>0</td>\n",
       "      <td>3</td>\n",
       "      <td>0</td>\n",
       "      <td>1828</td>\n",
       "      <td>4</td>\n",
       "      <td>1584</td>\n",
       "      <td>0</td>\n",
       "      <td>0</td>\n",
       "    </tr>\n",
       "    <tr>\n",
       "      <th>2</th>\n",
       "      <td>0</td>\n",
       "      <td>503</td>\n",
       "      <td>5</td>\n",
       "      <td>452</td>\n",
       "      <td>5</td>\n",
       "      <td>0</td>\n",
       "      <td>6</td>\n",
       "      <td>0</td>\n",
       "      <td>11</td>\n",
       "      <td>5568</td>\n",
       "    </tr>\n",
       "    <tr>\n",
       "      <th>3</th>\n",
       "      <td>42</td>\n",
       "      <td>190</td>\n",
       "      <td>54</td>\n",
       "      <td>69</td>\n",
       "      <td>421</td>\n",
       "      <td>62</td>\n",
       "      <td>1242</td>\n",
       "      <td>0</td>\n",
       "      <td>3467</td>\n",
       "      <td>15</td>\n",
       "    </tr>\n",
       "    <tr>\n",
       "      <th>4</th>\n",
       "      <td>0</td>\n",
       "      <td>38</td>\n",
       "      <td>2089</td>\n",
       "      <td>7</td>\n",
       "      <td>2347</td>\n",
       "      <td>0</td>\n",
       "      <td>1330</td>\n",
       "      <td>0</td>\n",
       "      <td>23</td>\n",
       "      <td>15</td>\n",
       "    </tr>\n",
       "    <tr>\n",
       "      <th>5</th>\n",
       "      <td>1</td>\n",
       "      <td>37</td>\n",
       "      <td>2417</td>\n",
       "      <td>303</td>\n",
       "      <td>1793</td>\n",
       "      <td>0</td>\n",
       "      <td>964</td>\n",
       "      <td>0</td>\n",
       "      <td>58</td>\n",
       "      <td>10</td>\n",
       "    </tr>\n",
       "    <tr>\n",
       "      <th>6</th>\n",
       "      <td>18</td>\n",
       "      <td>33</td>\n",
       "      <td>0</td>\n",
       "      <td>0</td>\n",
       "      <td>2</td>\n",
       "      <td>2278</td>\n",
       "      <td>0</td>\n",
       "      <td>4332</td>\n",
       "      <td>2</td>\n",
       "      <td>0</td>\n",
       "    </tr>\n",
       "    <tr>\n",
       "      <th>7</th>\n",
       "      <td>0</td>\n",
       "      <td>45</td>\n",
       "      <td>789</td>\n",
       "      <td>4562</td>\n",
       "      <td>76</td>\n",
       "      <td>0</td>\n",
       "      <td>519</td>\n",
       "      <td>0</td>\n",
       "      <td>743</td>\n",
       "      <td>227</td>\n",
       "    </tr>\n",
       "    <tr>\n",
       "      <th>8</th>\n",
       "      <td>4031</td>\n",
       "      <td>11</td>\n",
       "      <td>0</td>\n",
       "      <td>0</td>\n",
       "      <td>0</td>\n",
       "      <td>1352</td>\n",
       "      <td>1</td>\n",
       "      <td>77</td>\n",
       "      <td>7</td>\n",
       "      <td>0</td>\n",
       "    </tr>\n",
       "    <tr>\n",
       "      <th>9</th>\n",
       "      <td>0</td>\n",
       "      <td>5052</td>\n",
       "      <td>17</td>\n",
       "      <td>145</td>\n",
       "      <td>27</td>\n",
       "      <td>438</td>\n",
       "      <td>221</td>\n",
       "      <td>6</td>\n",
       "      <td>197</td>\n",
       "      <td>26</td>\n",
       "    </tr>\n",
       "  </tbody>\n",
       "</table>\n",
       "</div>"
      ],
      "text/plain": [
       "Real    Ankle boot   Bag  Coat  Dress  Pullover  Sandal  Shirt  Sneaker  \\\n",
       "KMeans                                                                    \n",
       "0                4    66   629    459      1329      42   1713        1   \n",
       "1             1904    25     0      3         0    1828      4     1584   \n",
       "2                0   503     5    452         5       0      6        0   \n",
       "3               42   190    54     69       421      62   1242        0   \n",
       "4                0    38  2089      7      2347       0   1330        0   \n",
       "5                1    37  2417    303      1793       0    964        0   \n",
       "6               18    33     0      0         2    2278      0     4332   \n",
       "7                0    45   789   4562        76       0    519        0   \n",
       "8             4031    11     0      0         0    1352      1       77   \n",
       "9                0  5052    17    145        27     438    221        6   \n",
       "\n",
       "Real    T-shirt/top  Trouser  \n",
       "KMeans                        \n",
       "0              1492      139  \n",
       "1                 0        0  \n",
       "2                11     5568  \n",
       "3              3467       15  \n",
       "4                23       15  \n",
       "5                58       10  \n",
       "6                 2        0  \n",
       "7               743      227  \n",
       "8                 7        0  \n",
       "9               197       26  "
      ]
     },
     "execution_count": 19,
     "metadata": {},
     "output_type": "execute_result"
    }
   ],
   "source": [
    "np_dataset_TSNE = np.array(data_PCA_TSNE).astype('float')\n",
    "kmeans_TSNE = KMeans(n_clusters = 10,random_state = 0).fit(np_dataset_TSNE)\n",
    "pd.crosstab(np.array(kmeans_TSNE.labels_), np.array([dict_labels[x] for x in train_labels]), rownames = ['KMeans'], colnames = ['Real'])"
   ]
  },
  {
   "cell_type": "markdown",
   "metadata": {},
   "source": [
    "## Conclusiones\n",
    "\n",
    "- Realizando KMeans tanto sobre el conjunto al que nosotros le hacemos PCA como al que creado por t-sne vemos que en éste conjunto, el t-sne realiza una mejor separación, sin embargo no hacen una separación perfecta.\n",
    "- La implementación de PCA tanto manual como creada con el apoyo de la librería obtuvieron resultados que para fines prácticos son equivalentes.\n",
    "- El tiempo de ejecucción de t-sne fue de casi 3 horas mientras que las implementaciones de PCA son de pocos minutos, pero ese tiempo se ve reflejado en su efectividad en la separación."
   ]
  }
 ],
 "metadata": {
  "kernelspec": {
   "display_name": "Python 3",
   "language": "python",
   "name": "python3"
  },
  "language_info": {
   "codemirror_mode": {
    "name": "ipython",
    "version": 3
   },
   "file_extension": ".py",
   "mimetype": "text/x-python",
   "name": "python",
   "nbconvert_exporter": "python",
   "pygments_lexer": "ipython3",
   "version": "3.7.7"
  }
 },
 "nbformat": 4,
 "nbformat_minor": 4
}
