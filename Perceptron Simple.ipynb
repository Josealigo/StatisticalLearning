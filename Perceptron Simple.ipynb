{
 "cells": [
  {
   "cell_type": "markdown",
   "metadata": {},
   "source": [
    "## XOR con composición"
   ]
  },
  {
   "cell_type": "code",
   "execution_count": 1,
   "metadata": {},
   "outputs": [],
   "source": [
    "def operacion_XOR(x1,x2):\n",
    "    _and = x1+x2-1>0\n",
    "    _or = x1+x2>0\n",
    "    return int(_or-_and)"
   ]
  },
  {
   "cell_type": "code",
   "execution_count": 2,
   "metadata": {},
   "outputs": [
    {
     "name": "stdout",
     "output_type": "stream",
     "text": [
      "0 1 1 0\n"
     ]
    }
   ],
   "source": [
    "print(operacion_XOR(0,0),operacion_XOR(0,1),operacion_XOR(1,0),operacion_XOR(1,1))"
   ]
  },
  {
   "cell_type": "markdown",
   "metadata": {},
   "source": [
    "Donde comprobamos que la función definida se comporta como esperamos.\n",
    "\n",
    "##  Perceptrones\n",
    "### And y Or\n",
    "\n",
    "Para el perceptron And definimos primero el dataset, el cual es emular la tabla de verdad para dos proposiones x1 y x2."
   ]
  },
  {
   "cell_type": "code",
   "execution_count": 3,
   "metadata": {},
   "outputs": [],
   "source": [
    "import numpy as np\n",
    "import random"
   ]
  },
  {
   "cell_type": "code",
   "execution_count": 4,
   "metadata": {},
   "outputs": [
    {
     "data": {
      "text/plain": [
       "(array([[0, 0, 1],\n",
       "        [0, 1, 1],\n",
       "        [1, 0, 1],\n",
       "        [1, 1, 1]]),\n",
       " array([0, 0, 0, 1]),\n",
       " array([0, 1, 1, 1]))"
      ]
     },
     "execution_count": 4,
     "metadata": {},
     "output_type": "execute_result"
    }
   ],
   "source": [
    "x1 = [0,1]\n",
    "x2 = [0,1]\n",
    "dataset_x = np.array([[a,b,1] for a in x1 for b in x2])\n",
    "dataset_y_and = np.array([int(a+b-1>0) for a in x1 for b in x2])\n",
    "dataset_y_or = np.array([int(a+b>0) for a in x1 for b in x2])\n",
    "dataset_x,dataset_y_and,dataset_y_or"
   ]
  },
  {
   "cell_type": "markdown",
   "metadata": {},
   "source": [
    "Procedemos a definir una funcion de convergencia, que nos indique cuando todos los valores del dataset sean predichos con el perceptron simple, de laforma correcta según lo esperado."
   ]
  },
  {
   "cell_type": "code",
   "execution_count": 5,
   "metadata": {},
   "outputs": [],
   "source": [
    "def Convergencia(dataset_x,dataset_y,w):\n",
    "    pred = np.matmul(dataset_x,w)\n",
    "    pred[pred>=0] = 1\n",
    "    pred[pred<0] = 0\n",
    "    val = pred == dataset_y\n",
    "    return val.all()"
   ]
  },
  {
   "cell_type": "markdown",
   "metadata": {},
   "source": [
    "Creamos ahora el dataset y las variables iniciales para la construcción del perceptron, en éste caso se empieza a construir el perceptron para and. Se utiliza la función \"np.random.seed\" para poder replicar los valores obtenidos."
   ]
  },
  {
   "cell_type": "code",
   "execution_count": 6,
   "metadata": {},
   "outputs": [],
   "source": [
    "dataset_y = dataset_y_and.copy()\n",
    "P_index = np.where(dataset_y==1)\n",
    "N_index = np.where(dataset_y==0)\n",
    "np.random.seed(30)\n",
    "w = np.random.normal(0,1,3)\n",
    "epochs = 0; convergencia = False\n",
    "max_epochs = 100"
   ]
  },
  {
   "cell_type": "markdown",
   "metadata": {},
   "source": [
    "Construimos el ciclo que encontrará los valores que buscamos para la separación del espacio según el operador \"and\" o si no logra converger en cierta cantidad de epochs se detiene."
   ]
  },
  {
   "cell_type": "code",
   "execution_count": 7,
   "metadata": {},
   "outputs": [
    {
     "name": "stdout",
     "output_type": "stream",
     "text": [
      "Epoch:  10  Convergencia:  False  pesos: [-0.26405266  0.52790535 -1.97071094]\n",
      "Se logró la convergencia en  18  iteraciones con los pesos:  [ 0.73594734  1.52790535 -1.97071094]\n"
     ]
    }
   ],
   "source": [
    "while epochs < max_epochs and convergencia == False:\n",
    "    epochs+=1\n",
    "    np.random.seed(epochs)\n",
    "    random_1 = np.random.randint(4, size=1)\n",
    "    x = dataset_x[random_1].reshape((3,))\n",
    "    #print(random_1,np.dot(w,x))\n",
    "    if random_1 in P_index[0] and np.dot(w,x)<0:\n",
    "        #print(\"Entramos 1\")\n",
    "        w = w+x\n",
    "    if random_1 in N_index[0] and np.dot(w,x)>=0:\n",
    "        #print(\"Entramos 2\")\n",
    "        w = w-x  \n",
    "    convergencia = Convergencia(dataset_x,dataset_y,w)\n",
    "    if epochs % (max_epochs/10) ==0:\n",
    "        print(\"Epoch: \",epochs, \" Convergencia: \", convergencia, \" pesos:\", w)\n",
    "        \n",
    "if convergencia:\n",
    "    print(\"Se logró la convergencia en \", epochs, \" iteraciones con los pesos: \",w)\n",
    "    w_and = w\n",
    "else:\n",
    "    print(\"No see logró la convergencia en \", epochs, \" iteraciones, pesos finales: \",w)"
   ]
  },
  {
   "cell_type": "markdown",
   "metadata": {},
   "source": [
    "Repetimos lo anterior pero para la función or."
   ]
  },
  {
   "cell_type": "code",
   "execution_count": 8,
   "metadata": {},
   "outputs": [],
   "source": [
    "dataset_y = dataset_y_or.copy()\n",
    "P_index = np.where(dataset_y==1)\n",
    "N_index = np.where(dataset_y==0)\n",
    "np.random.seed(30)\n",
    "w = np.random.normal(0,1,3)\n",
    "epochs = 0; convergencia = False\n",
    "max_epochs = 100"
   ]
  },
  {
   "cell_type": "code",
   "execution_count": 9,
   "metadata": {},
   "outputs": [
    {
     "name": "stdout",
     "output_type": "stream",
     "text": [
      "Epoch:  10  Convergencia:  False  pesos: [0.73594734 1.52790535 1.02928906]\n",
      "Epoch:  20  Convergencia:  False  pesos: [0.73594734 1.52790535 0.02928906]\n",
      "Epoch:  30  Convergencia:  False  pesos: [ 0.73594734  1.52790535 -0.97071094]\n",
      "Se logró la convergencia en  33  iteraciones con los pesos:  [ 1.73594734  1.52790535 -0.97071094]\n"
     ]
    }
   ],
   "source": [
    "while epochs < max_epochs and convergencia == False:\n",
    "    epochs+=1\n",
    "    np.random.seed(epochs)\n",
    "    random_1 = np.random.randint(4, size=1)\n",
    "    x = dataset_x[random_1].reshape((3,))\n",
    "    #print(random_1,np.dot(w,x))\n",
    "    if random_1 in P_index[0] and np.dot(w,x)<0:\n",
    "        #print(\"Entramos 1\")\n",
    "        w = w+x\n",
    "    if random_1 in N_index[0] and np.dot(w,x)>=0:\n",
    "        #print(\"Entramos 2\")\n",
    "        w = w-x  \n",
    "    convergencia = Convergencia(dataset_x,dataset_y,w)\n",
    "    if epochs % (max_epochs/10) ==0:\n",
    "        print(\"Epoch: \",epochs, \" Convergencia: \", convergencia, \" pesos:\", w)\n",
    "        \n",
    "if convergencia:\n",
    "    print(\"Se logró la convergencia en \", epochs, \" iteraciones con los pesos: \",w)\n",
    "    w_or = w\n",
    "else:\n",
    "    print(\"No see logró la convergencia en \", epochs, \" iteraciones, pesos finales: \",w)"
   ]
  },
  {
   "cell_type": "markdown",
   "metadata": {},
   "source": [
    "Con los perceptronoes (pesos) construidos procedemos a probar éstos con la función \"xor\"."
   ]
  },
  {
   "cell_type": "code",
   "execution_count": 10,
   "metadata": {},
   "outputs": [],
   "source": [
    "def operacion_XOR_perceptrones(x1,x2):\n",
    "    x = np.array([x1,x2,1])\n",
    "    _and = np.dot(w_and,x)>0\n",
    "    _or = np.dot(w_or,x)>0\n",
    "    #print(type(bool(_and)),_or)\n",
    "    return int(bool(_or)-bool(_and))"
   ]
  },
  {
   "cell_type": "code",
   "execution_count": 11,
   "metadata": {},
   "outputs": [
    {
     "name": "stdout",
     "output_type": "stream",
     "text": [
      "0 1 1 0\n"
     ]
    }
   ],
   "source": [
    "print(operacion_XOR_perceptrones(0,0),operacion_XOR_perceptrones(0,1),operacion_XOR_perceptrones(1,0),operacion_XOR_perceptrones(1,1))"
   ]
  },
  {
   "cell_type": "markdown",
   "metadata": {},
   "source": [
    "Podemos comprobar que obtuvimos los valores esperados."
   ]
  }
 ],
 "metadata": {
  "kernelspec": {
   "display_name": "Python 3",
   "language": "python",
   "name": "python3"
  },
  "language_info": {
   "codemirror_mode": {
    "name": "ipython",
    "version": 3
   },
   "file_extension": ".py",
   "mimetype": "text/x-python",
   "name": "python",
   "nbconvert_exporter": "python",
   "pygments_lexer": "ipython3",
   "version": "3.7.7"
  }
 },
 "nbformat": 4,
 "nbformat_minor": 4
}
