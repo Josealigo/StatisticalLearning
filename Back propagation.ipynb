{
 "cells": [
  {
   "cell_type": "markdown",
   "metadata": {},
   "source": [
    "# Backprop y entrenamiento para XOR"
   ]
  },
  {
   "cell_type": "code",
   "execution_count": 1,
   "metadata": {},
   "outputs": [],
   "source": [
    "import numpy as np\n",
    "import pandas as pd\n",
    "import matplotlib.pyplot as plt"
   ]
  },
  {
   "cell_type": "markdown",
   "metadata": {},
   "source": [
    "El objetivo es contruir por medio de una red neuronal con back propagation un ajuste a la función XOR, la cual tiene la siguiente forma y resultados:"
   ]
  },
  {
   "cell_type": "code",
   "execution_count": 2,
   "metadata": {},
   "outputs": [
    {
     "name": "stdout",
     "output_type": "stream",
     "text": [
      "0 1 1 0\n"
     ]
    }
   ],
   "source": [
    "def operacion_XOR(x1,x2):\n",
    "    _and = x1+x2-1>0\n",
    "    _or = x1+x2>0\n",
    "    return int(_or-_and)\n",
    "\n",
    "print(operacion_XOR(0,0),operacion_XOR(0,1),operacion_XOR(1,0),operacion_XOR(1,1))"
   ]
  },
  {
   "cell_type": "markdown",
   "metadata": {},
   "source": [
    "Para estimarla probamos primero con la función de error MSE. Y definimos la siguiente clase:"
   ]
  },
  {
   "cell_type": "code",
   "execution_count": 3,
   "metadata": {},
   "outputs": [],
   "source": [
    "class NeuralNetwork(object):\n",
    "    def __init__(self, layers = [3, 2, 2, 1], activations=['relu', 'relu','linear'],mu= 0, sigma = 0.1,loos = 'MSE',seed = 0): # Definimos la forma que creemos nos ayudará\n",
    "        assert(len(layers) == len(activations)+1)\n",
    "        self.layers = layers\n",
    "        self.activations = activations\n",
    "        self.weights = []\n",
    "        self.biases = []\n",
    "        self.mu = mu\n",
    "        self.sigma = sigma\n",
    "        self.loos = loos\n",
    "        self.seed = seed\n",
    "        for i in range(len(layers)-1): # Iniciamos los pesos y sesgos de manera random según una distribución normal.\n",
    "            np.random.seed(seed=self.seed+10*i)\n",
    "            self.weights.append(np.random.normal(self.mu, self.sigma, (layers[i+1], layers[i])))\n",
    "            #print('capa ', i, self.weights[-1])\n",
    "            np.random.seed(seed=self.seed+10*i+1)\n",
    "            self.biases.append(np.random.normal(self.mu, self.sigma, (layers[i+1], 1)))\n",
    "            #print('capa ', i, self.biases[-1])\n",
    "                \n",
    "    @staticmethod\n",
    "    def getActivationFunction(name): # Método que nos guarda las funciones de activación necesarias\n",
    "        if(name == 'sigmoid'):\n",
    "            return lambda x : 1/(1+np.exp(-x))\n",
    "        elif(name == 'linear'):\n",
    "            return lambda x : x\n",
    "        elif(name == 'relu'):\n",
    "            def relu(x):\n",
    "                y = np.copy(x)\n",
    "                y[y<0] = 0\n",
    "                return y\n",
    "            return relu\n",
    "        else:\n",
    "            print('Unknown activation function. linear is used')\n",
    "            return lambda x: x\n",
    "        \n",
    "    @staticmethod\n",
    "    def getDerivitiveActivationFunction(name): # Método que nos guarda las derivadas de las funciones de activación necesarias.\n",
    "        if(name == 'sigmoid'):\n",
    "            sig = lambda x : np.exp(x)/(1+np.exp(x))\n",
    "            return lambda x :sig(x)*(1-sig(x)) \n",
    "        elif(name == 'linear'):\n",
    "            return lambda x: 1\n",
    "        elif(name == 'relu'):\n",
    "            def relu_diff(x):\n",
    "                y = np.copy(x)\n",
    "                y[y>=0] = 1\n",
    "                y[y<0] = 0\n",
    "                return y\n",
    "            return relu_diff\n",
    "        else:\n",
    "            print('Unknown activation function. linear is used')\n",
    "            return lambda x: 1\n",
    "        \n",
    "    def error(self,y,y_hat,loos):\n",
    "        if loos == 'MSE':\n",
    "            return y-y_hat\n",
    "        if loos == 'Cross-entropy':\n",
    "            N = y_hat.shape[0]\n",
    "            ce = -(y * np.log(y_hat))\n",
    "            return ce\n",
    "    \n",
    "    def feedforward(self, x):\n",
    "        a = np.copy(x)\n",
    "        z_s = []\n",
    "        a_s = [a]\n",
    "        for i in range(len(self.weights)):\n",
    "            #print('Vamos en la capa ', i)\n",
    "            activation_function = self.getActivationFunction(self.activations[i])\n",
    "            #print(self.weights[i],self.weights[i].shape)\n",
    "            #print(a,a.shape)\n",
    "            z_s.append(self.weights[i].dot(a) + self.biases[i]) \n",
    "            a = activation_function(z_s[-1])\n",
    "            a_s.append(a)\n",
    "        return (z_s, a_s)\n",
    "    \n",
    "    def backpropagation(self,y, z_s, a_s):\n",
    "        dw = []  # dC/dw\n",
    "        db = []  # dC/db\n",
    "        deltas = [None] * len(self.weights)  # delta = dC/dZa\n",
    "        deltas[-1] = ((self.error(y,a_s[-1],self.loos))*(self.getDerivitiveActivationFunction(self.activations[-1]))(z_s[-1])) # Delta L\n",
    "        for i in reversed(range(len(deltas)-1)): # Calculamos los deltas para atrás\n",
    "            deltas[i] = self.weights[i+1].T.dot(deltas[i+1])*(self.getDerivitiveActivationFunction(self.activations[i])(z_s[i]))        \n",
    "        batch_size = y.shape[0] \n",
    "        db = [d.dot(np.ones((batch_size,1)))/float(batch_size) for d in deltas] # guardamos las derivadas respecto a los sesgos\n",
    "        dw = [d.dot(a_s[i].T)/float(batch_size) for i,d in enumerate(deltas)] # guardamos las derivadas respecto a los pesos\n",
    "        return dw, db          \n",
    "    \n",
    "    def train(self, x, y, epochs=100, lr = 0.01):\n",
    "        for e in range(epochs): \n",
    "            z_s, a_s = self.feedforward(x)\n",
    "            dw, db = self.backpropagation(y, z_s, a_s)\n",
    "            self.weights = [w+lr*dweight for w,dweight in  zip(self.weights, dw)]\n",
    "            self.biases = [w+lr*dbias for w,dbias in  zip(self.biases, db)]\n",
    "            if (e+1)%np.floor(epochs/10) == 0:\n",
    "                print(\"Epoch {} with loss = {}\".format( e,np.linalg.norm(a_s[-1]-y)) )\n",
    "        print(\"Final epoch with loss = {}\".format(np.linalg.norm(a_s[-1]-y) )) \n",
    "                \n",
    "    \n"
   ]
  },
  {
   "cell_type": "markdown",
   "metadata": {},
   "source": [
    "Definimos los datasets a utilizar en el entrenamiento."
   ]
  },
  {
   "cell_type": "code",
   "execution_count": 4,
   "metadata": {},
   "outputs": [
    {
     "data": {
      "text/plain": [
       "(array([[0, 1, 0, 1],\n",
       "        [0, 0, 1, 1],\n",
       "        [1, 1, 1, 1]]),\n",
       " array([0., 1., 1., 0.]))"
      ]
     },
     "execution_count": 4,
     "metadata": {},
     "output_type": "execute_result"
    }
   ],
   "source": [
    "x1 = [0,1]\n",
    "x2 = [0,1]\n",
    "dataset_x = np.array([[a,b,1] for a in x1 for b in x2]).reshape(3, -1,order='F')\n",
    "dataset_y_xor = np.zeros(len(x1)*len(x2))\n",
    "for i in range(len(dataset_y_xor)):\n",
    "    a = dataset_x[0][i]\n",
    "    b = dataset_x[1][i]\n",
    "    dataset_y_xor[i] = operacion_XOR(int(a),int(b))\n",
    "dataset_x,dataset_y_xor"
   ]
  },
  {
   "cell_type": "code",
   "execution_count": 5,
   "metadata": {},
   "outputs": [
    {
     "name": "stdout",
     "output_type": "stream",
     "text": [
      "Epoch 99 with loss = 1.0250304951551408\n",
      "Epoch 199 with loss = 1.1780702078582326\n",
      "Epoch 299 with loss = 1.288886684152296\n",
      "Epoch 399 with loss = 1.3506399778535556\n",
      "Epoch 499 with loss = 1.383090856797395\n",
      "Epoch 599 with loss = 1.399782681367233\n",
      "Epoch 699 with loss = 1.4082884151879531\n",
      "Epoch 799 with loss = 1.4126034725081036\n",
      "Epoch 899 with loss = 1.414787666900157\n",
      "Epoch 999 with loss = 1.4158918985250277\n",
      "Final epoch with loss = 1.4158918985250277\n"
     ]
    },
    {
     "data": {
      "text/html": [
       "<div>\n",
       "<style scoped>\n",
       "    .dataframe tbody tr th:only-of-type {\n",
       "        vertical-align: middle;\n",
       "    }\n",
       "\n",
       "    .dataframe tbody tr th {\n",
       "        vertical-align: top;\n",
       "    }\n",
       "\n",
       "    .dataframe thead th {\n",
       "        text-align: right;\n",
       "    }\n",
       "</style>\n",
       "<table border=\"1\" class=\"dataframe\">\n",
       "  <thead>\n",
       "    <tr style=\"text-align: right;\">\n",
       "      <th>Real</th>\n",
       "      <th>0.0</th>\n",
       "      <th>1.0</th>\n",
       "    </tr>\n",
       "    <tr>\n",
       "      <th>Predicción</th>\n",
       "      <th></th>\n",
       "      <th></th>\n",
       "    </tr>\n",
       "  </thead>\n",
       "  <tbody>\n",
       "    <tr>\n",
       "      <th>0.988157</th>\n",
       "      <td>1</td>\n",
       "      <td>0</td>\n",
       "    </tr>\n",
       "    <tr>\n",
       "      <th>0.993860</th>\n",
       "      <td>0</td>\n",
       "      <td>1</td>\n",
       "    </tr>\n",
       "    <tr>\n",
       "      <th>1.004501</th>\n",
       "      <td>0</td>\n",
       "      <td>1</td>\n",
       "    </tr>\n",
       "    <tr>\n",
       "      <th>1.014032</th>\n",
       "      <td>1</td>\n",
       "      <td>0</td>\n",
       "    </tr>\n",
       "  </tbody>\n",
       "</table>\n",
       "</div>"
      ],
      "text/plain": [
       "Real        0.0  1.0\n",
       "Predicción          \n",
       "0.988157      1    0\n",
       "0.993860      0    1\n",
       "1.004501      0    1\n",
       "1.014032      1    0"
      ]
     },
     "execution_count": 5,
     "metadata": {},
     "output_type": "execute_result"
    }
   ],
   "source": [
    "nn1 = NeuralNetwork(loos = 'Cross-entropy')\n",
    "\n",
    "nn1.train(dataset_x, dataset_y_xor, epochs=1000,  lr = 0.01)\n",
    "_, a_s = nn1.feedforward(dataset_x)\n",
    "pd.crosstab(a_s[-1][0], dataset_y_xor, rownames=['Predicción'], colnames=['Real'])"
   ]
  },
  {
   "cell_type": "code",
   "execution_count": 6,
   "metadata": {},
   "outputs": [
    {
     "name": "stdout",
     "output_type": "stream",
     "text": [
      "Epoch 99 with loss = 1.2216290084085133\n",
      "Epoch 199 with loss = 1.1291946434809206\n",
      "Epoch 299 with loss = 1.0709689070200255\n",
      "Epoch 399 with loss = 1.0345169006172232\n",
      "Epoch 499 with loss = 1.0133442436118925\n",
      "Epoch 599 with loss = 1.0032682950154235\n",
      "Epoch 699 with loss = 1.0013274938898755\n",
      "Epoch 799 with loss = 1.0053318974984606\n",
      "Epoch 899 with loss = 1.0136318415251055\n",
      "Epoch 999 with loss = 1.024976330664368\n",
      "Final epoch with loss = 1.024976330664368\n"
     ]
    },
    {
     "data": {
      "text/html": [
       "<div>\n",
       "<style scoped>\n",
       "    .dataframe tbody tr th:only-of-type {\n",
       "        vertical-align: middle;\n",
       "    }\n",
       "\n",
       "    .dataframe tbody tr th {\n",
       "        vertical-align: top;\n",
       "    }\n",
       "\n",
       "    .dataframe thead th {\n",
       "        text-align: right;\n",
       "    }\n",
       "</style>\n",
       "<table border=\"1\" class=\"dataframe\">\n",
       "  <thead>\n",
       "    <tr style=\"text-align: right;\">\n",
       "      <th>Real</th>\n",
       "      <th>0.0</th>\n",
       "      <th>1.0</th>\n",
       "    </tr>\n",
       "    <tr>\n",
       "      <th>Predicción</th>\n",
       "      <th></th>\n",
       "      <th></th>\n",
       "    </tr>\n",
       "  </thead>\n",
       "  <tbody>\n",
       "    <tr>\n",
       "      <th>0.603507</th>\n",
       "      <td>1</td>\n",
       "      <td>0</td>\n",
       "    </tr>\n",
       "    <tr>\n",
       "      <th>0.606066</th>\n",
       "      <td>0</td>\n",
       "      <td>1</td>\n",
       "    </tr>\n",
       "    <tr>\n",
       "      <th>0.611991</th>\n",
       "      <td>0</td>\n",
       "      <td>1</td>\n",
       "    </tr>\n",
       "    <tr>\n",
       "      <th>0.617153</th>\n",
       "      <td>1</td>\n",
       "      <td>0</td>\n",
       "    </tr>\n",
       "  </tbody>\n",
       "</table>\n",
       "</div>"
      ],
      "text/plain": [
       "Real        0.0  1.0\n",
       "Predicción          \n",
       "0.603507      1    0\n",
       "0.606066      0    1\n",
       "0.611991      0    1\n",
       "0.617153      1    0"
      ]
     },
     "execution_count": 6,
     "metadata": {},
     "output_type": "execute_result"
    }
   ],
   "source": [
    "nn2 = NeuralNetwork(loos = 'Cross-entropy')\n",
    "nn2.train(dataset_x, dataset_y_xor, epochs=1000,  lr = 0.001)\n",
    "_, a_s = nn2.feedforward(dataset_x)\n",
    "pd.crosstab(a_s[-1][0], dataset_y_xor, rownames=['Predicción'], colnames=['Real'])"
   ]
  },
  {
   "cell_type": "code",
   "execution_count": 7,
   "metadata": {},
   "outputs": [
    {
     "name": "stdout",
     "output_type": "stream",
     "text": [
      "Epoch 99 with loss = 1.2203458328883932\n",
      "Epoch 199 with loss = 1.1275673246548066\n",
      "Epoch 299 with loss = 1.0691903493849535\n",
      "Epoch 399 with loss = 1.0327932982078916\n",
      "Epoch 499 with loss = 1.0118674272174282\n",
      "Epoch 599 with loss = 1.0022009201514614\n",
      "Epoch 699 with loss = 1.0007962425529826\n",
      "Epoch 799 with loss = 1.0054265818952057\n",
      "Epoch 899 with loss = 1.0143779168732834\n",
      "Epoch 999 with loss = 1.0263967123795141\n",
      "Final epoch with loss = 1.0263967123795141\n"
     ]
    },
    {
     "data": {
      "text/html": [
       "<div>\n",
       "<style scoped>\n",
       "    .dataframe tbody tr th:only-of-type {\n",
       "        vertical-align: middle;\n",
       "    }\n",
       "\n",
       "    .dataframe tbody tr th {\n",
       "        vertical-align: top;\n",
       "    }\n",
       "\n",
       "    .dataframe thead th {\n",
       "        text-align: right;\n",
       "    }\n",
       "</style>\n",
       "<table border=\"1\" class=\"dataframe\">\n",
       "  <thead>\n",
       "    <tr style=\"text-align: right;\">\n",
       "      <th>Real</th>\n",
       "      <th>0.0</th>\n",
       "      <th>1.0</th>\n",
       "    </tr>\n",
       "    <tr>\n",
       "      <th>Predicción</th>\n",
       "      <th></th>\n",
       "      <th></th>\n",
       "    </tr>\n",
       "  </thead>\n",
       "  <tbody>\n",
       "    <tr>\n",
       "      <th>0.607203</th>\n",
       "      <td>1</td>\n",
       "      <td>0</td>\n",
       "    </tr>\n",
       "    <tr>\n",
       "      <th>0.613592</th>\n",
       "      <td>0</td>\n",
       "      <td>1</td>\n",
       "    </tr>\n",
       "    <tr>\n",
       "      <th>0.616169</th>\n",
       "      <td>0</td>\n",
       "      <td>1</td>\n",
       "    </tr>\n",
       "    <tr>\n",
       "      <th>0.623241</th>\n",
       "      <td>1</td>\n",
       "      <td>0</td>\n",
       "    </tr>\n",
       "  </tbody>\n",
       "</table>\n",
       "</div>"
      ],
      "text/plain": [
       "Real        0.0  1.0\n",
       "Predicción          \n",
       "0.607203      1    0\n",
       "0.613592      0    1\n",
       "0.616169      0    1\n",
       "0.623241      1    0"
      ]
     },
     "execution_count": 7,
     "metadata": {},
     "output_type": "execute_result"
    }
   ],
   "source": [
    "nn3 = NeuralNetwork(loos = 'Cross-entropy',layers = [3, 20, 2, 1])\n",
    "nn3.train(dataset_x, dataset_y_xor, epochs=1000,  lr = 0.001)\n",
    "_, a_s = nn3.feedforward(dataset_x)\n",
    "pd.crosstab(a_s[-1][0], dataset_y_xor, rownames=['Predicción'], colnames=['Real'])"
   ]
  },
  {
   "cell_type": "code",
   "execution_count": 8,
   "metadata": {},
   "outputs": [
    {
     "name": "stdout",
     "output_type": "stream",
     "text": [
      "Epoch 99 with loss = 1.0537829311362683\n",
      "Epoch 199 with loss = 1.0067497062691149\n",
      "Epoch 299 with loss = 1.0015898287751315\n",
      "Epoch 399 with loss = 1.000991628466303\n",
      "Epoch 499 with loss = 1.000865689376823\n",
      "Epoch 599 with loss = 1.000792257785856\n",
      "Epoch 699 with loss = 1.000728503102706\n",
      "Epoch 799 with loss = 1.0006696849527366\n",
      "Epoch 899 with loss = 1.0006149339888217\n",
      "Epoch 999 with loss = 1.0005638079135855\n",
      "Final epoch with loss = 1.0005638079135855\n"
     ]
    },
    {
     "data": {
      "text/html": [
       "<div>\n",
       "<style scoped>\n",
       "    .dataframe tbody tr th:only-of-type {\n",
       "        vertical-align: middle;\n",
       "    }\n",
       "\n",
       "    .dataframe tbody tr th {\n",
       "        vertical-align: top;\n",
       "    }\n",
       "\n",
       "    .dataframe thead th {\n",
       "        text-align: right;\n",
       "    }\n",
       "</style>\n",
       "<table border=\"1\" class=\"dataframe\">\n",
       "  <thead>\n",
       "    <tr style=\"text-align: right;\">\n",
       "      <th>Real</th>\n",
       "      <th>0.0</th>\n",
       "      <th>1.0</th>\n",
       "    </tr>\n",
       "    <tr>\n",
       "      <th>Predicción</th>\n",
       "      <th></th>\n",
       "      <th></th>\n",
       "    </tr>\n",
       "  </thead>\n",
       "  <tbody>\n",
       "    <tr>\n",
       "      <th>0.495313</th>\n",
       "      <td>1</td>\n",
       "      <td>0</td>\n",
       "    </tr>\n",
       "    <tr>\n",
       "      <th>0.497224</th>\n",
       "      <td>0</td>\n",
       "      <td>1</td>\n",
       "    </tr>\n",
       "    <tr>\n",
       "      <th>0.501687</th>\n",
       "      <td>0</td>\n",
       "      <td>1</td>\n",
       "    </tr>\n",
       "    <tr>\n",
       "      <th>0.504670</th>\n",
       "      <td>1</td>\n",
       "      <td>0</td>\n",
       "    </tr>\n",
       "  </tbody>\n",
       "</table>\n",
       "</div>"
      ],
      "text/plain": [
       "Real        0.0  1.0\n",
       "Predicción          \n",
       "0.495313      1    0\n",
       "0.497224      0    1\n",
       "0.501687      0    1\n",
       "0.504670      1    0"
      ]
     },
     "execution_count": 8,
     "metadata": {},
     "output_type": "execute_result"
    }
   ],
   "source": [
    "nn4 = NeuralNetwork(loos = 'MSE',layers = [3, 2, 2, 1])\n",
    "nn4.train(dataset_x, dataset_y_xor, epochs=1000,  lr = 0.01)\n",
    "_, a_s = nn4.feedforward(dataset_x)\n",
    "pd.crosstab(a_s[-1][0], dataset_y_xor, rownames=['Predicción'], colnames=['Real'])"
   ]
  },
  {
   "cell_type": "code",
   "execution_count": 9,
   "metadata": {},
   "outputs": [
    {
     "name": "stdout",
     "output_type": "stream",
     "text": [
      "Epoch 99 with loss = 1.326396755118701\n",
      "Epoch 199 with loss = 1.2698179779011618\n",
      "Epoch 299 with loss = 1.2220481171680164\n",
      "Epoch 399 with loss = 1.1819711229857133\n",
      "Epoch 499 with loss = 1.1485534524968608\n",
      "Epoch 599 with loss = 1.1208493266444712\n",
      "Epoch 699 with loss = 1.0980047850519035\n",
      "Epoch 799 with loss = 1.0792593888061721\n",
      "Epoch 899 with loss = 1.0639451379369784\n",
      "Epoch 999 with loss = 1.051482743654066\n",
      "Final epoch with loss = 1.051482743654066\n"
     ]
    },
    {
     "data": {
      "text/html": [
       "<div>\n",
       "<style scoped>\n",
       "    .dataframe tbody tr th:only-of-type {\n",
       "        vertical-align: middle;\n",
       "    }\n",
       "\n",
       "    .dataframe tbody tr th {\n",
       "        vertical-align: top;\n",
       "    }\n",
       "\n",
       "    .dataframe thead th {\n",
       "        text-align: right;\n",
       "    }\n",
       "</style>\n",
       "<table border=\"1\" class=\"dataframe\">\n",
       "  <thead>\n",
       "    <tr style=\"text-align: right;\">\n",
       "      <th>Real</th>\n",
       "      <th>0.0</th>\n",
       "      <th>1.0</th>\n",
       "    </tr>\n",
       "    <tr>\n",
       "      <th>Predicción</th>\n",
       "      <th></th>\n",
       "      <th></th>\n",
       "    </tr>\n",
       "  </thead>\n",
       "  <tbody>\n",
       "    <tr>\n",
       "      <th>0.334232</th>\n",
       "      <td>1</td>\n",
       "      <td>0</td>\n",
       "    </tr>\n",
       "    <tr>\n",
       "      <th>0.337584</th>\n",
       "      <td>0</td>\n",
       "      <td>1</td>\n",
       "    </tr>\n",
       "    <tr>\n",
       "      <th>0.338679</th>\n",
       "      <td>0</td>\n",
       "      <td>1</td>\n",
       "    </tr>\n",
       "    <tr>\n",
       "      <th>0.342825</th>\n",
       "      <td>1</td>\n",
       "      <td>0</td>\n",
       "    </tr>\n",
       "  </tbody>\n",
       "</table>\n",
       "</div>"
      ],
      "text/plain": [
       "Real        0.0  1.0\n",
       "Predicción          \n",
       "0.334232      1    0\n",
       "0.337584      0    1\n",
       "0.338679      0    1\n",
       "0.342825      1    0"
      ]
     },
     "execution_count": 9,
     "metadata": {},
     "output_type": "execute_result"
    }
   ],
   "source": [
    "nn5 = NeuralNetwork(loos = 'MSE',layers = [3, 20, 2, 1])\n",
    "nn5.train(dataset_x, dataset_y_xor, epochs=1000,  lr = 0.001)\n",
    "_, a_s = nn5.feedforward(dataset_x)\n",
    "pd.crosstab(a_s[-1][0], dataset_y_xor, rownames=['Predicción'], colnames=['Real'])"
   ]
  },
  {
   "cell_type": "code",
   "execution_count": 10,
   "metadata": {},
   "outputs": [
    {
     "data": {
      "image/png": "[encoded data removed]",
      "text/plain": [
       "<Figure size 432x288 with 1 Axes>"
      ]
     },
     "metadata": {
      "needs_background": "light"
     },
     "output_type": "display_data"
    }
   ],
   "source": [
    "\n",
    "fig, ax = plt.subplots()\n",
    "\n",
    "x = [nn1.weights[2][0][0],nn2.weights[2][0][0],nn3.weights[2][0][0],nn4.weights[2][0][0],nn5.weights[2][0][0]]\n",
    "y = [nn1.weights[2][0][1],nn2.weights[2][0][1],nn3.weights[2][0][1],nn4.weights[2][0][1],nn5.weights[2][0][1]]\n",
    "n = [1, 2, 3, 4, 5]\n",
    "plt.scatter(x,y,alpha=0.5)\n",
    "plt.title('Scatter plot segunda Capa intermedia')\n",
    "plt.xlabel('x')\n",
    "plt.ylabel('y')\n",
    "for i, txt in enumerate(n):\n",
    "    ax.annotate(txt, (x[i], y[i]))\n",
    "\n",
    "\n",
    "plt.show()"
   ]
  },
  {
   "cell_type": "markdown",
   "metadata": {},
   "source": [
    "# Conclusión\n",
    "Vemos como la topología diseñada para crear una función XOR no genera resultados significativos ya que es una función que no es separable linealmente y los experimentos variando desde la cantidad de epochs y la función de error lo muestran."
   ]
  }
 ],
 "metadata": {
  "kernelspec": {
   "display_name": "Python 3",
   "language": "python",
   "name": "python3"
  },
  "language_info": {
   "codemirror_mode": {
    "name": "ipython",
    "version": 3
   },
   "file_extension": ".py",
   "mimetype": "text/x-python",
   "name": "python",
   "nbconvert_exporter": "python",
   "pygments_lexer": "ipython3",
   "version": "3.7.7"
  }
 },
 "nbformat": 4,
 "nbformat_minor": 4
}
