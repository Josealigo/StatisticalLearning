{
 "cells": [
  {
   "cell_type": "code",
   "execution_count": 2,
   "metadata": {},
   "outputs": [],
   "source": [
    "import numpy as np\n",
    "from sklearn.preprocessing import PolynomialFeatures"
   ]
  },
  {
   "cell_type": "markdown",
   "metadata": {},
   "source": [
    "Procedemos creando un arreglo sencillo que pueda convertirse fácilmente a un arreglo de 1, 2 y 3 variables."
   ]
  },
  {
   "cell_type": "code",
   "execution_count": 6,
   "metadata": {},
   "outputs": [
    {
     "data": {
      "text/plain": [
       "array([ 0,  1,  2,  3,  4,  5,  6,  7,  8,  9, 10, 11])"
      ]
     },
     "execution_count": 6,
     "metadata": {},
     "output_type": "execute_result"
    }
   ],
   "source": [
    "X = np.arange(12)\n",
    "X"
   ]
  },
  {
   "cell_type": "code",
   "execution_count": 9,
   "metadata": {},
   "outputs": [
    {
     "name": "stdout",
     "output_type": "stream",
     "text": [
      "Para el grado 3 de  1  variables pasamos a tener:  2\n",
      "Para el grado 3 de  2  variables pasamos a tener:  6\n",
      "Para el grado 3 de  3  variables pasamos a tener:  20\n",
      "Para el grado 3 de  4  variables pasamos a tener:  70\n"
     ]
    }
   ],
   "source": [
    "for i in range(1,5):\n",
    "    Y = X.reshape(-1, i)\n",
    "    poly = PolynomialFeatures(i)\n",
    "    print('Para el grado 3 de ',i,' variables pasamos a tener: ',poly.fit_transform(Y).shape[1])"
   ]
  },
  {
   "cell_type": "markdown",
   "metadata": {},
   "source": [
    "## Conclusión\n",
    "\n",
    "Podemos ver que la cantidad de features que genera con todas las combinaciones polinómicas incrementa significativamente con la cantidad de variables iniciales, pero la cantidad de observaciones no aumenta por lo que en comparación a la tabla original es probable en cada cantidad de iteracciones que agregamos se generen más dimensiones donde no se ocupe de la mejor manera todo el espacio al que se llegue y muchas regiones queden vacías y con distancias entre ellas más significativas de lo que realmente representan."
   ]
  }
 ],
 "metadata": {
  "kernelspec": {
   "display_name": "Python 3",
   "language": "python",
   "name": "python3"
  },
  "language_info": {
   "codemirror_mode": {
    "name": "ipython",
    "version": 3
   },
   "file_extension": ".py",
   "mimetype": "text/x-python",
   "name": "python",
   "nbconvert_exporter": "python",
   "pygments_lexer": "ipython3",
   "version": "3.7.7"
  }
 },
 "nbformat": 4,
 "nbformat_minor": 4
}
