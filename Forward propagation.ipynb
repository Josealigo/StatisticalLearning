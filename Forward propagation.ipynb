{
 "cells": [
  {
   "cell_type": "markdown",
   "metadata": {},
   "source": [
    "# Forward propagation y análisis de representaciones intermedias"
   ]
  },
  {
   "cell_type": "code",
   "execution_count": 1,
   "metadata": {},
   "outputs": [],
   "source": [
    "import numpy as np"
   ]
  },
  {
   "cell_type": "code",
   "execution_count": 2,
   "metadata": {},
   "outputs": [],
   "source": [
    "def sigmoid(X):\n",
    "    return 1/(1+np.exp(-X))"
   ]
  },
  {
   "attachments": {},
   "cell_type": "markdown",
   "metadata": {},
   "source": [
    "# Red 1\n",
    "![Red_1.png](Graphs/Red_1.png)"
   ]
  },
  {
   "cell_type": "code",
   "execution_count": 3,
   "metadata": {},
   "outputs": [],
   "source": [
    "class RedNeuronal_1:\n",
    "    def __init__(self):\n",
    "        # 1 fila por neurona , 1 columna por variable de entrada\n",
    "        self.Wc1 = np.array([\n",
    "            [5,2],\n",
    "            [7,-3]\n",
    "        ])\n",
    "\n",
    "        # 1 elemento para cada neurona intermedia\n",
    "        self.Wc2  = np.array([7,5])\n",
    "\n",
    "    def forward_propagation(self,X):\n",
    "        print(X.shape)\n",
    "        print(self.Wc1.T.shape)\n",
    "        A = sigmoid(np.matmul(X,self.Wc1.T)) # 1 fila por observacion, 1 columna por representacion intermedia \n",
    "        #print(A)\n",
    "        #print(A.shape)\n",
    "        y_aprox = sigmoid(np.matmul(A,self.Wc2)) # 1 fila por observacion,  1 unica salida \n",
    "        #print(y_aprox.shape)\n",
    "        return y_aprox"
   ]
  },
  {
   "cell_type": "code",
   "execution_count": 4,
   "metadata": {},
   "outputs": [],
   "source": [
    "# 4 observaciones, 2 variables\n",
    "X = np.array([\n",
    "      [1,1],\n",
    "      [1,2],\n",
    "      [4,5],\n",
    "      [6,7],\n",
    "])"
   ]
  },
  {
   "cell_type": "code",
   "execution_count": 5,
   "metadata": {},
   "outputs": [
    {
     "name": "stdout",
     "output_type": "stream",
     "text": [
      "(4, 2)\n",
      "(2, 2)\n"
     ]
    },
    {
     "data": {
      "text/plain": [
       "array([0.99999323, 0.9999764 , 0.99999386, 0.99999386])"
      ]
     },
     "execution_count": 5,
     "metadata": {},
     "output_type": "execute_result"
    }
   ],
   "source": [
    "red1 = RedNeuronal_1()\n",
    "y_aprox1 = red1.forward_propagation(X)\n",
    "y_aprox1"
   ]
  },
  {
   "attachments": {},
   "cell_type": "markdown",
   "metadata": {},
   "source": [
    "# Red 2\n",
    "![Red_2.png](Graphs/Red_2.png)"
   ]
  },
  {
   "cell_type": "code",
   "execution_count": 6,
   "metadata": {},
   "outputs": [],
   "source": [
    "class RedNeuronal_2:\n",
    "    def __init__(self):\n",
    "        # 1 fila por neurona , 1 columna por variable de entrada\n",
    "        self.cero = 0\n",
    "        self.Wc1 = np.array([\n",
    "            [0.1,self.cero],\n",
    "            [0.2,-0.3],\n",
    "            [0.4,-0.5],\n",
    "            [-0.1,self.cero]\n",
    "        ])\n",
    "\n",
    "        # 1 elemento para cada neurona intermedia\n",
    "        self.Wc2  = np.array([0.7,0.5,0.3,-0.1])\n",
    "\n",
    "    def forward_propagation(self,X):\n",
    "        #print(X.shape)\n",
    "        #print(self.Wc1.T.shape)\n",
    "        A = sigmoid(np.matmul(X,self.Wc1.T)) # 1 fila por observacion, 1 columna por representacion intermedia \n",
    "        #print(A)\n",
    "        #print(A.shape)\n",
    "        y_aprox = sigmoid(np.matmul(A,self.Wc2)) # 1 fila por observacion,  1 unica salida \n",
    "        #print(y_aprox.shape)\n",
    "        return y_aprox"
   ]
  },
  {
   "cell_type": "code",
   "execution_count": 7,
   "metadata": {},
   "outputs": [
    {
     "data": {
      "text/plain": [
       "array([0.66818777, 0.65179589, 0.65284568, 0.65384242])"
      ]
     },
     "execution_count": 7,
     "metadata": {},
     "output_type": "execute_result"
    }
   ],
   "source": [
    "red2 = RedNeuronal_2()\n",
    "y_aprox2 = red2.forward_propagation(X)\n",
    "y_aprox2"
   ]
  },
  {
   "attachments": {},
   "cell_type": "markdown",
   "metadata": {},
   "source": [
    "# Red 3\n",
    "![Red_3.png](Graphs/Red_3.png)"
   ]
  },
  {
   "cell_type": "code",
   "execution_count": 8,
   "metadata": {},
   "outputs": [],
   "source": [
    "class RedNeuronal_3:\n",
    "    def __init__(self):\n",
    "        # 1 fila por neurona , 1 columna por variable de entrada\n",
    "        self.Wc1 = np.array([\n",
    "            [0.1,0.2,-0.15],\n",
    "            [0.2,-0.3,0.4],\n",
    "            [0.4,-0.5,0.1],\n",
    "            [-0.1,0.8,0.9]\n",
    "        ])\n",
    "\n",
    "        # 1 elemento para cada neurona intermedia\n",
    "        self.Wc2  = np.array([\n",
    "            [0.7,0.5,0.3,-0.1],\n",
    "            [0.1,0.2,-0.5,0.3]\n",
    "        ])\n",
    "\n",
    "    def forward_propagation(self,X):\n",
    "        #print(X.shape)\n",
    "        #print(self.Wc1.T.shape)\n",
    "        A = sigmoid(np.matmul(X,self.Wc1.T)) # 1 fila por observacion, 1 columna por representacion intermedia \n",
    "        #print(A.shape)\n",
    "        #print(self.Wc2.T.shape)\n",
    "        y_aprox = sigmoid(np.matmul(A,self.Wc2.T)) # 1 fila por observacion,  2 unica salida \n",
    "        #print(y_aprox.shape)\n",
    "        return y_aprox"
   ]
  },
  {
   "cell_type": "code",
   "execution_count": 9,
   "metadata": {},
   "outputs": [],
   "source": [
    "# 4 observaciones, 3 variables\n",
    "X = np.array([\n",
    "      [1,1,1],\n",
    "      [1,2,3],\n",
    "      [4,5,6],\n",
    "      [6,7,8],\n",
    "])"
   ]
  },
  {
   "cell_type": "code",
   "execution_count": 10,
   "metadata": {},
   "outputs": [
    {
     "data": {
      "text/plain": [
       "array([[0.67485362, 0.54196033],\n",
       "       [0.67543696, 0.5675921 ],\n",
       "       [0.70809885, 0.5789677 ],\n",
       "       [0.72413943, 0.58370282]])"
      ]
     },
     "execution_count": 10,
     "metadata": {},
     "output_type": "execute_result"
    }
   ],
   "source": [
    "red3 = RedNeuronal_3()\n",
    "y_aprox3 = red3.forward_propagation(X)\n",
    "y_aprox3"
   ]
  }
 ],
 "metadata": {
  "kernelspec": {
   "display_name": "Python 3",
   "language": "python",
   "name": "python3"
  },
  "language_info": {
   "codemirror_mode": {
    "name": "ipython",
    "version": 3
   },
   "file_extension": ".py",
   "mimetype": "text/x-python",
   "name": "python",
   "nbconvert_exporter": "python",
   "pygments_lexer": "ipython3",
   "version": "3.7.7"
  }
 },
 "nbformat": 4,
 "nbformat_minor": 4
}
