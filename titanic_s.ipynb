{
 "cells": [
  {
   "cell_type": "code",
   "execution_count": 11,
   "metadata": {},
   "outputs": [],
   "source": [
    "import numpy as np\n",
    "import pandas as pd\n",
    "from matplotlib import pyplot as plt\n",
    "import tensorflow as tf\n",
    "import seaborn as sns\n",
    "import itertools\n",
    "from datetime import datetime\n",
    "from collections import Counter"
   ]
  },
  {
   "cell_type": "code",
   "execution_count": 12,
   "metadata": {},
   "outputs": [
    {
     "name": "stdout",
     "output_type": "stream",
     "text": [
      "Enabled compatitility to tf1.x\n"
     ]
    }
   ],
   "source": [
    "if tf.__version__.startswith(\"2.\"):\n",
    "    import tensorflow.compat.v1 as tf\n",
    "    tf.compat.v1.disable_v2_behavior()\n",
    "    tf.compat.v1.disable_eager_execution()\n",
    "    print(\"Enabled compatitility to tf1.x\")"
   ]
  },
  {
   "cell_type": "code",
   "execution_count": 7,
   "metadata": {},
   "outputs": [
    {
     "data": {
      "text/html": [
       "<div>\n",
       "<style scoped>\n",
       "    .dataframe tbody tr th:only-of-type {\n",
       "        vertical-align: middle;\n",
       "    }\n",
       "\n",
       "    .dataframe tbody tr th {\n",
       "        vertical-align: top;\n",
       "    }\n",
       "\n",
       "    .dataframe thead th {\n",
       "        text-align: right;\n",
       "    }\n",
       "</style>\n",
       "<table border=\"1\" class=\"dataframe\">\n",
       "  <thead>\n",
       "    <tr style=\"text-align: right;\">\n",
       "      <th></th>\n",
       "      <th>PassengerId</th>\n",
       "      <th>Name</th>\n",
       "      <th>Age</th>\n",
       "      <th>SibSp</th>\n",
       "      <th>Parch</th>\n",
       "      <th>Ticket</th>\n",
       "      <th>Fare</th>\n",
       "      <th>Cabin</th>\n",
       "      <th>Embarked</th>\n",
       "      <th>passenger_class</th>\n",
       "      <th>passenger_sex</th>\n",
       "      <th>passenger_survived</th>\n",
       "    </tr>\n",
       "  </thead>\n",
       "  <tbody>\n",
       "    <tr>\n",
       "      <th>0</th>\n",
       "      <td>1</td>\n",
       "      <td>Braund, Mr. Owen Harris</td>\n",
       "      <td>22.0</td>\n",
       "      <td>1</td>\n",
       "      <td>0</td>\n",
       "      <td>A/5 21171</td>\n",
       "      <td>7.2500</td>\n",
       "      <td>NaN</td>\n",
       "      <td>S</td>\n",
       "      <td>Lower</td>\n",
       "      <td>M</td>\n",
       "      <td>N</td>\n",
       "    </tr>\n",
       "    <tr>\n",
       "      <th>1</th>\n",
       "      <td>2</td>\n",
       "      <td>Cumings, Mrs. John Bradley (Florence Briggs Th...</td>\n",
       "      <td>38.0</td>\n",
       "      <td>1</td>\n",
       "      <td>0</td>\n",
       "      <td>PC 17599</td>\n",
       "      <td>71.2833</td>\n",
       "      <td>C85</td>\n",
       "      <td>C</td>\n",
       "      <td>Upper</td>\n",
       "      <td>F</td>\n",
       "      <td>Y</td>\n",
       "    </tr>\n",
       "    <tr>\n",
       "      <th>2</th>\n",
       "      <td>3</td>\n",
       "      <td>Heikkinen, Miss. Laina</td>\n",
       "      <td>26.0</td>\n",
       "      <td>0</td>\n",
       "      <td>0</td>\n",
       "      <td>STON/O2. 3101282</td>\n",
       "      <td>7.9250</td>\n",
       "      <td>NaN</td>\n",
       "      <td>S</td>\n",
       "      <td>Lower</td>\n",
       "      <td>F</td>\n",
       "      <td>Y</td>\n",
       "    </tr>\n",
       "    <tr>\n",
       "      <th>3</th>\n",
       "      <td>4</td>\n",
       "      <td>Futrelle, Mrs. Jacques Heath (Lily May Peel)</td>\n",
       "      <td>35.0</td>\n",
       "      <td>1</td>\n",
       "      <td>0</td>\n",
       "      <td>113803</td>\n",
       "      <td>53.1000</td>\n",
       "      <td>C123</td>\n",
       "      <td>S</td>\n",
       "      <td>Upper</td>\n",
       "      <td>F</td>\n",
       "      <td>Y</td>\n",
       "    </tr>\n",
       "    <tr>\n",
       "      <th>4</th>\n",
       "      <td>5</td>\n",
       "      <td>Allen, Mr. William Henry</td>\n",
       "      <td>35.0</td>\n",
       "      <td>0</td>\n",
       "      <td>0</td>\n",
       "      <td>373450</td>\n",
       "      <td>8.0500</td>\n",
       "      <td>NaN</td>\n",
       "      <td>S</td>\n",
       "      <td>Lower</td>\n",
       "      <td>M</td>\n",
       "      <td>N</td>\n",
       "    </tr>\n",
       "  </tbody>\n",
       "</table>\n",
       "</div>"
      ],
      "text/plain": [
       "   PassengerId                                               Name   Age  \\\n",
       "0            1                            Braund, Mr. Owen Harris  22.0   \n",
       "1            2  Cumings, Mrs. John Bradley (Florence Briggs Th...  38.0   \n",
       "2            3                             Heikkinen, Miss. Laina  26.0   \n",
       "3            4       Futrelle, Mrs. Jacques Heath (Lily May Peel)  35.0   \n",
       "4            5                           Allen, Mr. William Henry  35.0   \n",
       "\n",
       "   SibSp  Parch            Ticket     Fare Cabin Embarked passenger_class  \\\n",
       "0      1      0         A/5 21171   7.2500   NaN        S           Lower   \n",
       "1      1      0          PC 17599  71.2833   C85        C           Upper   \n",
       "2      0      0  STON/O2. 3101282   7.9250   NaN        S           Lower   \n",
       "3      1      0            113803  53.1000  C123        S           Upper   \n",
       "4      0      0            373450   8.0500   NaN        S           Lower   \n",
       "\n",
       "  passenger_sex passenger_survived  \n",
       "0             M                  N  \n",
       "1             F                  Y  \n",
       "2             F                  Y  \n",
       "3             F                  Y  \n",
       "4             M                  N  "
      ]
     },
     "execution_count": 7,
     "metadata": {},
     "output_type": "execute_result"
    }
   ],
   "source": [
    "df = pd.read_csv ('data_titanic_proyecto.csv')\n",
    "df.head()"
   ]
  },
  {
   "cell_type": "code",
   "execution_count": 8,
   "metadata": {},
   "outputs": [
    {
     "data": {
      "text/plain": [
       "['PassengerId',\n",
       " 'Name',\n",
       " 'Age',\n",
       " 'SibSp',\n",
       " 'Parch',\n",
       " 'Ticket',\n",
       " 'Fare',\n",
       " 'Cabin',\n",
       " 'Embarked',\n",
       " 'passenger_class',\n",
       " 'passenger_sex',\n",
       " 'passenger_survived']"
      ]
     },
     "execution_count": 8,
     "metadata": {},
     "output_type": "execute_result"
    }
   ],
   "source": [
    "df.columns.values.tolist()"
   ]
  },
  {
   "cell_type": "code",
   "execution_count": 38,
   "metadata": {},
   "outputs": [
    {
     "data": {
      "text/plain": [
       "891"
      ]
     },
     "execution_count": 38,
     "metadata": {},
     "output_type": "execute_result"
    }
   ],
   "source": [
    "len(df)"
   ]
  },
  {
   "cell_type": "code",
   "execution_count": 28,
   "metadata": {},
   "outputs": [
    {
     "name": "stdout",
     "output_type": "stream",
     "text": [
      "Mean:  127.28571428571429\n",
      "Std:  207.4923160613178\n"
     ]
    },
    {
     "data": {
      "text/plain": [
       "Counter({1: 209, 0: 608, 3: 16, 4: 18, 2: 28, 5: 5, 8: 7})"
      ]
     },
     "execution_count": 28,
     "metadata": {},
     "output_type": "execute_result"
    }
   ],
   "source": [
    "piv_C = Counter(df['SibSp'])\n",
    "print(\"Mean: \",np.mean(list(piv_C.values())))\n",
    "print(\"Std: \",np.std(list(piv_C.values())))\n",
    "piv_C"
   ]
  },
  {
   "cell_type": "code",
   "execution_count": 32,
   "metadata": {},
   "outputs": [
    {
     "data": {
      "text/html": [
       "<div>\n",
       "<style scoped>\n",
       "    .dataframe tbody tr th:only-of-type {\n",
       "        vertical-align: middle;\n",
       "    }\n",
       "\n",
       "    .dataframe tbody tr th {\n",
       "        vertical-align: top;\n",
       "    }\n",
       "\n",
       "    .dataframe thead th {\n",
       "        text-align: right;\n",
       "    }\n",
       "</style>\n",
       "<table border=\"1\" class=\"dataframe\">\n",
       "  <thead>\n",
       "    <tr style=\"text-align: right;\">\n",
       "      <th>passenger_survived</th>\n",
       "      <th>N</th>\n",
       "      <th>Y</th>\n",
       "    </tr>\n",
       "    <tr>\n",
       "      <th>SibSp</th>\n",
       "      <th></th>\n",
       "      <th></th>\n",
       "    </tr>\n",
       "  </thead>\n",
       "  <tbody>\n",
       "    <tr>\n",
       "      <th>0</th>\n",
       "      <td>398</td>\n",
       "      <td>210</td>\n",
       "    </tr>\n",
       "    <tr>\n",
       "      <th>1</th>\n",
       "      <td>97</td>\n",
       "      <td>112</td>\n",
       "    </tr>\n",
       "    <tr>\n",
       "      <th>2</th>\n",
       "      <td>15</td>\n",
       "      <td>13</td>\n",
       "    </tr>\n",
       "    <tr>\n",
       "      <th>3</th>\n",
       "      <td>12</td>\n",
       "      <td>4</td>\n",
       "    </tr>\n",
       "    <tr>\n",
       "      <th>4</th>\n",
       "      <td>15</td>\n",
       "      <td>3</td>\n",
       "    </tr>\n",
       "    <tr>\n",
       "      <th>5</th>\n",
       "      <td>5</td>\n",
       "      <td>0</td>\n",
       "    </tr>\n",
       "    <tr>\n",
       "      <th>8</th>\n",
       "      <td>7</td>\n",
       "      <td>0</td>\n",
       "    </tr>\n",
       "  </tbody>\n",
       "</table>\n",
       "</div>"
      ],
      "text/plain": [
       "passenger_survived    N    Y\n",
       "SibSp                       \n",
       "0                   398  210\n",
       "1                    97  112\n",
       "2                    15   13\n",
       "3                    12    4\n",
       "4                    15    3\n",
       "5                     5    0\n",
       "8                     7    0"
      ]
     },
     "execution_count": 32,
     "metadata": {},
     "output_type": "execute_result"
    }
   ],
   "source": [
    "pd.crosstab(np.array(df['SibSp']), np.array(df['passenger_survived']), rownames = ['SibSp'], colnames = ['passenger_survived'])"
   ]
  },
  {
   "cell_type": "markdown",
   "metadata": {},
   "source": [
    "Por lo anterior la variable 'SibSp' puede apoyarnos a separar los sobrevivientes de los no sobrevivientes."
   ]
  },
  {
   "cell_type": "code",
   "execution_count": 33,
   "metadata": {},
   "outputs": [
    {
     "name": "stdout",
     "output_type": "stream",
     "text": [
      "Mean:  127.28571428571429\n",
      "Std:  228.8678435165551\n"
     ]
    },
    {
     "data": {
      "text/plain": [
       "Counter({0: 678, 1: 118, 2: 80, 5: 5, 3: 5, 4: 4, 6: 1})"
      ]
     },
     "execution_count": 33,
     "metadata": {},
     "output_type": "execute_result"
    }
   ],
   "source": [
    "piv_C = Counter(df['Parch'])\n",
    "print(\"Mean: \",np.mean(list(piv_C.values())))\n",
    "print(\"Std: \",np.std(list(piv_C.values())))\n",
    "piv_C"
   ]
  },
  {
   "cell_type": "code",
   "execution_count": 35,
   "metadata": {},
   "outputs": [
    {
     "data": {
      "text/html": [
       "<div>\n",
       "<style scoped>\n",
       "    .dataframe tbody tr th:only-of-type {\n",
       "        vertical-align: middle;\n",
       "    }\n",
       "\n",
       "    .dataframe tbody tr th {\n",
       "        vertical-align: top;\n",
       "    }\n",
       "\n",
       "    .dataframe thead th {\n",
       "        text-align: right;\n",
       "    }\n",
       "</style>\n",
       "<table border=\"1\" class=\"dataframe\">\n",
       "  <thead>\n",
       "    <tr style=\"text-align: right;\">\n",
       "      <th>passenger_survived</th>\n",
       "      <th>N</th>\n",
       "      <th>Y</th>\n",
       "    </tr>\n",
       "    <tr>\n",
       "      <th>Parch</th>\n",
       "      <th></th>\n",
       "      <th></th>\n",
       "    </tr>\n",
       "  </thead>\n",
       "  <tbody>\n",
       "    <tr>\n",
       "      <th>0</th>\n",
       "      <td>445</td>\n",
       "      <td>233</td>\n",
       "    </tr>\n",
       "    <tr>\n",
       "      <th>1</th>\n",
       "      <td>53</td>\n",
       "      <td>65</td>\n",
       "    </tr>\n",
       "    <tr>\n",
       "      <th>2</th>\n",
       "      <td>40</td>\n",
       "      <td>40</td>\n",
       "    </tr>\n",
       "    <tr>\n",
       "      <th>3</th>\n",
       "      <td>2</td>\n",
       "      <td>3</td>\n",
       "    </tr>\n",
       "    <tr>\n",
       "      <th>4</th>\n",
       "      <td>4</td>\n",
       "      <td>0</td>\n",
       "    </tr>\n",
       "    <tr>\n",
       "      <th>5</th>\n",
       "      <td>4</td>\n",
       "      <td>1</td>\n",
       "    </tr>\n",
       "    <tr>\n",
       "      <th>6</th>\n",
       "      <td>1</td>\n",
       "      <td>0</td>\n",
       "    </tr>\n",
       "  </tbody>\n",
       "</table>\n",
       "</div>"
      ],
      "text/plain": [
       "passenger_survived    N    Y\n",
       "Parch                       \n",
       "0                   445  233\n",
       "1                    53   65\n",
       "2                    40   40\n",
       "3                     2    3\n",
       "4                     4    0\n",
       "5                     4    1\n",
       "6                     1    0"
      ]
     },
     "execution_count": 35,
     "metadata": {},
     "output_type": "execute_result"
    }
   ],
   "source": [
    "pd.crosstab(np.array(df['Parch']), np.array(df['passenger_survived']), rownames = ['Parch'], colnames = ['passenger_survived'])"
   ]
  },
  {
   "cell_type": "markdown",
   "metadata": {},
   "source": [
    "Por lo anterior la variable 'Parch' puede apoyarnos a separar los sobrevivientes de los no sobrevivientes."
   ]
  },
  {
   "cell_type": "code",
   "execution_count": null,
   "metadata": {},
   "outputs": [],
   "source": [
    "df = df['Age','SibSp','Fare','Cabin',] "
   ]
  },
  {
   "cell_type": "code",
   "execution_count": 37,
   "metadata": {},
   "outputs": [
    {
     "name": "stdout",
     "output_type": "stream",
     "text": [
      "Mean:  1.3083700440528634\n",
      "Std:  0.7920699945606182\n"
     ]
    },
    {
     "data": {
      "text/plain": [
       "681"
      ]
     },
     "execution_count": 37,
     "metadata": {},
     "output_type": "execute_result"
    }
   ],
   "source": [
    "piv_C = Counter(df['Ticket'])\n",
    "print(\"Mean: \",np.mean(list(piv_C.values())))\n",
    "print(\"Std: \",np.std(list(piv_C.values())))\n",
    "len(piv_C)"
   ]
  },
  {
   "cell_type": "code",
   "execution_count": 39,
   "metadata": {},
   "outputs": [
    {
     "data": {
      "text/plain": [
       "0.7643097643097643"
      ]
     },
     "execution_count": 39,
     "metadata": {},
     "output_type": "execute_result"
    }
   ],
   "source": [
    "len(piv_C) / len(df)"
   ]
  },
  {
   "cell_type": "markdown",
   "metadata": {},
   "source": [
    "Por lo anterior la variable 'Ticket' como se esperaba no puede apoyarnos a separar los sobrevivientes de los no sobrevivientes."
   ]
  },
  {
   "cell_type": "code",
   "execution_count": 42,
   "metadata": {},
   "outputs": [
    {
     "name": "stdout",
     "output_type": "stream",
     "text": [
      "Mean:  3.592741935483871\n",
      "Std:  5.837126355895769\n",
      "Valores distintoos 248\n"
     ]
    },
    {
     "data": {
      "text/plain": [
       "Counter({7.25: 13,\n",
       "         71.2833: 1,\n",
       "         7.925: 18,\n",
       "         53.1: 5,\n",
       "         8.05: 43,\n",
       "         8.4583: 1,\n",
       "         51.8625: 2,\n",
       "         21.075: 4,\n",
       "         11.1333: 3,\n",
       "         30.0708: 2,\n",
       "         16.7: 2,\n",
       "         26.55: 15,\n",
       "         31.275: 7,\n",
       "         7.8542: 13,\n",
       "         16.0: 1,\n",
       "         29.125: 5,\n",
       "         13.0: 42,\n",
       "         18.0: 3,\n",
       "         7.225: 12,\n",
       "         26.0: 31,\n",
       "         8.0292: 1,\n",
       "         35.5: 4,\n",
       "         31.3875: 4,\n",
       "         263.0: 4,\n",
       "         7.8792: 4,\n",
       "         7.8958: 38,\n",
       "         27.7208: 5,\n",
       "         146.5208: 2,\n",
       "         7.75: 34,\n",
       "         10.5: 24,\n",
       "         82.1708: 2,\n",
       "         52.0: 7,\n",
       "         7.2292: 15,\n",
       "         11.2417: 2,\n",
       "         9.475: 1,\n",
       "         21.0: 6,\n",
       "         41.5792: 3,\n",
       "         15.5: 8,\n",
       "         21.6792: 1,\n",
       "         17.8: 2,\n",
       "         39.6875: 6,\n",
       "         7.8: 1,\n",
       "         76.7292: 3,\n",
       "         61.9792: 1,\n",
       "         27.75: 4,\n",
       "         46.9: 6,\n",
       "         80.0: 2,\n",
       "         83.475: 2,\n",
       "         27.9: 6,\n",
       "         15.2458: 5,\n",
       "         8.1583: 1,\n",
       "         8.6625: 13,\n",
       "         73.5: 5,\n",
       "         14.4542: 7,\n",
       "         56.4958: 7,\n",
       "         7.65: 4,\n",
       "         29.0: 2,\n",
       "         12.475: 4,\n",
       "         9.0: 2,\n",
       "         9.5: 9,\n",
       "         7.7875: 1,\n",
       "         47.1: 1,\n",
       "         15.85: 4,\n",
       "         34.375: 4,\n",
       "         61.175: 1,\n",
       "         20.575: 2,\n",
       "         34.6542: 1,\n",
       "         63.3583: 1,\n",
       "         23.0: 4,\n",
       "         77.2875: 2,\n",
       "         8.6542: 1,\n",
       "         7.775: 16,\n",
       "         24.15: 8,\n",
       "         9.825: 2,\n",
       "         14.4583: 3,\n",
       "         247.5208: 2,\n",
       "         7.1417: 1,\n",
       "         22.3583: 2,\n",
       "         6.975: 2,\n",
       "         7.05: 7,\n",
       "         14.5: 7,\n",
       "         15.0458: 1,\n",
       "         26.2833: 1,\n",
       "         9.2167: 1,\n",
       "         79.2: 4,\n",
       "         6.75: 2,\n",
       "         11.5: 4,\n",
       "         36.75: 2,\n",
       "         7.7958: 6,\n",
       "         12.525: 1,\n",
       "         66.6: 2,\n",
       "         7.3125: 1,\n",
       "         61.3792: 1,\n",
       "         7.7333: 4,\n",
       "         69.55: 7,\n",
       "         16.1: 9,\n",
       "         15.75: 1,\n",
       "         20.525: 3,\n",
       "         55.0: 2,\n",
       "         25.925: 1,\n",
       "         33.5: 1,\n",
       "         30.6958: 2,\n",
       "         25.4667: 4,\n",
       "         28.7125: 1,\n",
       "         0.0: 15,\n",
       "         15.05: 1,\n",
       "         39.0: 4,\n",
       "         22.025: 1,\n",
       "         50.0: 1,\n",
       "         8.4042: 1,\n",
       "         6.4958: 2,\n",
       "         10.4625: 2,\n",
       "         18.7875: 2,\n",
       "         31.0: 3,\n",
       "         113.275: 3,\n",
       "         27.0: 2,\n",
       "         76.2917: 1,\n",
       "         90.0: 4,\n",
       "         9.35: 2,\n",
       "         13.5: 4,\n",
       "         7.55: 4,\n",
       "         26.25: 6,\n",
       "         12.275: 1,\n",
       "         7.125: 4,\n",
       "         52.5542: 3,\n",
       "         20.2125: 2,\n",
       "         86.5: 3,\n",
       "         512.3292: 3,\n",
       "         79.65: 3,\n",
       "         153.4625: 3,\n",
       "         135.6333: 3,\n",
       "         19.5: 2,\n",
       "         29.7: 3,\n",
       "         77.9583: 3,\n",
       "         20.25: 2,\n",
       "         78.85: 2,\n",
       "         91.0792: 2,\n",
       "         12.875: 1,\n",
       "         8.85: 1,\n",
       "         151.55: 4,\n",
       "         30.5: 5,\n",
       "         23.25: 2,\n",
       "         12.35: 3,\n",
       "         110.8833: 4,\n",
       "         108.9: 2,\n",
       "         24.0: 2,\n",
       "         56.9292: 2,\n",
       "         83.1583: 3,\n",
       "         262.375: 2,\n",
       "         14.0: 1,\n",
       "         164.8667: 2,\n",
       "         134.5: 2,\n",
       "         6.2375: 1,\n",
       "         57.9792: 2,\n",
       "         28.5: 1,\n",
       "         133.65: 2,\n",
       "         15.9: 2,\n",
       "         9.225: 2,\n",
       "         35.0: 1,\n",
       "         75.25: 1,\n",
       "         69.3: 2,\n",
       "         55.4417: 1,\n",
       "         211.5: 1,\n",
       "         4.0125: 1,\n",
       "         227.525: 4,\n",
       "         15.7417: 2,\n",
       "         7.7292: 1,\n",
       "         12.0: 1,\n",
       "         120.0: 4,\n",
       "         12.65: 1,\n",
       "         18.75: 3,\n",
       "         6.8583: 1,\n",
       "         32.5: 1,\n",
       "         7.875: 1,\n",
       "         14.4: 2,\n",
       "         55.9: 2,\n",
       "         8.1125: 1,\n",
       "         81.8583: 1,\n",
       "         19.2583: 4,\n",
       "         19.9667: 2,\n",
       "         89.1042: 2,\n",
       "         38.5: 1,\n",
       "         7.725: 1,\n",
       "         13.7917: 1,\n",
       "         9.8375: 1,\n",
       "         7.0458: 1,\n",
       "         7.5208: 1,\n",
       "         12.2875: 1,\n",
       "         9.5875: 2,\n",
       "         49.5042: 2,\n",
       "         78.2667: 2,\n",
       "         15.1: 1,\n",
       "         7.6292: 1,\n",
       "         22.525: 1,\n",
       "         26.2875: 3,\n",
       "         59.4: 1,\n",
       "         7.4958: 3,\n",
       "         34.0208: 1,\n",
       "         93.5: 2,\n",
       "         221.7792: 1,\n",
       "         106.425: 2,\n",
       "         49.5: 1,\n",
       "         71.0: 2,\n",
       "         13.8625: 1,\n",
       "         7.8292: 2,\n",
       "         39.6: 2,\n",
       "         17.4: 1,\n",
       "         51.4792: 1,\n",
       "         26.3875: 1,\n",
       "         30.0: 6,\n",
       "         40.125: 1,\n",
       "         8.7125: 1,\n",
       "         15.0: 1,\n",
       "         33.0: 3,\n",
       "         42.4: 1,\n",
       "         15.55: 1,\n",
       "         65.0: 2,\n",
       "         32.3208: 1,\n",
       "         7.0542: 2,\n",
       "         8.4333: 1,\n",
       "         25.5875: 1,\n",
       "         9.8417: 1,\n",
       "         8.1375: 1,\n",
       "         10.1708: 1,\n",
       "         211.3375: 3,\n",
       "         57.0: 2,\n",
       "         13.4167: 1,\n",
       "         7.7417: 1,\n",
       "         9.4833: 1,\n",
       "         7.7375: 2,\n",
       "         8.3625: 1,\n",
       "         23.45: 2,\n",
       "         25.9292: 2,\n",
       "         8.6833: 1,\n",
       "         8.5167: 1,\n",
       "         7.8875: 1,\n",
       "         37.0042: 2,\n",
       "         6.45: 1,\n",
       "         6.95: 1,\n",
       "         8.3: 1,\n",
       "         6.4375: 1,\n",
       "         39.4: 1,\n",
       "         14.1083: 1,\n",
       "         13.8583: 1,\n",
       "         50.4958: 1,\n",
       "         5.0: 1,\n",
       "         9.8458: 1,\n",
       "         10.5167: 1})"
      ]
     },
     "execution_count": 42,
     "metadata": {},
     "output_type": "execute_result"
    }
   ],
   "source": [
    "piv_C = Counter(df['Fare'])\n",
    "print(\"Mean: \",np.mean(list(piv_C.values())))\n",
    "print(\"Std: \",np.std(list(piv_C.values())))\n",
    "print(\"Valores distintoos\",len(piv_C))\n",
    "piv_C"
   ]
  },
  {
   "cell_type": "markdown",
   "metadata": {},
   "source": [
    "Por lo anterior la variable 'Fare' no la omitimos aunque no se espera aporte mucho y en futuros análisis se obtendrá la respuesta de cuanto aporte."
   ]
  },
  {
   "cell_type": "code",
   "execution_count": 43,
   "metadata": {},
   "outputs": [
    {
     "name": "stdout",
     "output_type": "stream",
     "text": [
      "Mean:  6.02027027027027\n",
      "Std:  56.170044627367595\n",
      "Valores distintoos 148\n"
     ]
    },
    {
     "data": {
      "text/plain": [
       "Counter({nan: 687,\n",
       "         'C85': 1,\n",
       "         'C123': 2,\n",
       "         'E46': 1,\n",
       "         'G6': 4,\n",
       "         'C103': 1,\n",
       "         'D56': 1,\n",
       "         'A6': 1,\n",
       "         'C23 C25 C27': 4,\n",
       "         'B78': 1,\n",
       "         'D33': 2,\n",
       "         'B30': 1,\n",
       "         'C52': 2,\n",
       "         'B28': 2,\n",
       "         'C83': 2,\n",
       "         'F33': 3,\n",
       "         'F G73': 2,\n",
       "         'E31': 1,\n",
       "         'A5': 1,\n",
       "         'D10 D12': 1,\n",
       "         'D26': 2,\n",
       "         'C110': 1,\n",
       "         'B58 B60': 2,\n",
       "         'E101': 3,\n",
       "         'F E69': 1,\n",
       "         'D47': 1,\n",
       "         'B86': 1,\n",
       "         'F2': 3,\n",
       "         'C2': 2,\n",
       "         'E33': 2,\n",
       "         'B19': 1,\n",
       "         'A7': 1,\n",
       "         'C49': 1,\n",
       "         'F4': 2,\n",
       "         'A32': 1,\n",
       "         'B4': 1,\n",
       "         'B80': 1,\n",
       "         'A31': 1,\n",
       "         'D36': 2,\n",
       "         'D15': 1,\n",
       "         'C93': 2,\n",
       "         'C78': 2,\n",
       "         'D35': 2,\n",
       "         'C87': 1,\n",
       "         'B77': 2,\n",
       "         'E67': 2,\n",
       "         'B94': 1,\n",
       "         'C125': 2,\n",
       "         'C99': 1,\n",
       "         'C118': 1,\n",
       "         'D7': 1,\n",
       "         'A19': 1,\n",
       "         'B49': 2,\n",
       "         'D': 3,\n",
       "         'C22 C26': 3,\n",
       "         'C106': 1,\n",
       "         'C65': 2,\n",
       "         'E36': 1,\n",
       "         'C54': 1,\n",
       "         'B57 B59 B63 B66': 2,\n",
       "         'C7': 1,\n",
       "         'E34': 1,\n",
       "         'C32': 1,\n",
       "         'B18': 2,\n",
       "         'C124': 2,\n",
       "         'C91': 1,\n",
       "         'E40': 1,\n",
       "         'T': 1,\n",
       "         'C128': 1,\n",
       "         'D37': 1,\n",
       "         'B35': 2,\n",
       "         'E50': 1,\n",
       "         'C82': 1,\n",
       "         'B96 B98': 4,\n",
       "         'E10': 1,\n",
       "         'E44': 2,\n",
       "         'A34': 1,\n",
       "         'C104': 1,\n",
       "         'C111': 1,\n",
       "         'C92': 2,\n",
       "         'E38': 1,\n",
       "         'D21': 1,\n",
       "         'E12': 1,\n",
       "         'E63': 1,\n",
       "         'A14': 1,\n",
       "         'B37': 1,\n",
       "         'C30': 1,\n",
       "         'D20': 2,\n",
       "         'B79': 1,\n",
       "         'E25': 2,\n",
       "         'D46': 1,\n",
       "         'B73': 1,\n",
       "         'C95': 1,\n",
       "         'B38': 1,\n",
       "         'B39': 1,\n",
       "         'B22': 2,\n",
       "         'C86': 1,\n",
       "         'C70': 1,\n",
       "         'A16': 1,\n",
       "         'C101': 1,\n",
       "         'C68': 2,\n",
       "         'A10': 1,\n",
       "         'E68': 1,\n",
       "         'B41': 1,\n",
       "         'A20': 1,\n",
       "         'D19': 1,\n",
       "         'D50': 1,\n",
       "         'D9': 1,\n",
       "         'A23': 1,\n",
       "         'B50': 1,\n",
       "         'A26': 1,\n",
       "         'D48': 1,\n",
       "         'E58': 1,\n",
       "         'C126': 2,\n",
       "         'B71': 1,\n",
       "         'B51 B53 B55': 2,\n",
       "         'D49': 1,\n",
       "         'B5': 2,\n",
       "         'B20': 2,\n",
       "         'F G63': 1,\n",
       "         'C62 C64': 1,\n",
       "         'E24': 2,\n",
       "         'C90': 1,\n",
       "         'C45': 1,\n",
       "         'E8': 2,\n",
       "         'B101': 1,\n",
       "         'D45': 1,\n",
       "         'C46': 1,\n",
       "         'D30': 1,\n",
       "         'E121': 2,\n",
       "         'D11': 1,\n",
       "         'E77': 1,\n",
       "         'F38': 1,\n",
       "         'B3': 1,\n",
       "         'D6': 1,\n",
       "         'B82 B84': 1,\n",
       "         'D17': 2,\n",
       "         'A36': 1,\n",
       "         'B102': 1,\n",
       "         'B69': 1,\n",
       "         'E49': 1,\n",
       "         'C47': 1,\n",
       "         'D28': 1,\n",
       "         'E17': 1,\n",
       "         'A24': 1,\n",
       "         'C50': 1,\n",
       "         'B42': 1,\n",
       "         'C148': 1})"
      ]
     },
     "execution_count": 43,
     "metadata": {},
     "output_type": "execute_result"
    }
   ],
   "source": [
    "piv_C = Counter(df['Cabin'])\n",
    "print(\"Mean: \",np.mean(list(piv_C.values())))\n",
    "print(\"Std: \",np.std(list(piv_C.values())))\n",
    "print(\"Valores distintoos\",len(piv_C))\n",
    "piv_C"
   ]
  },
  {
   "cell_type": "markdown",
   "metadata": {},
   "source": [
    "Por la alta presencia de valores \"nan\" y considerando que los demás valores no aportarían a la clasificación la variable 'Cabin' es omitida."
   ]
  },
  {
   "cell_type": "code",
   "execution_count": 45,
   "metadata": {},
   "outputs": [
    {
     "name": "stdout",
     "output_type": "stream",
     "text": [
      "Mean:  222.75\n",
      "Std:  250.21128571669183\n",
      "Valores distintoos 4\n"
     ]
    },
    {
     "data": {
      "text/plain": [
       "Counter({'S': 644, 'C': 168, 'Q': 77, nan: 2})"
      ]
     },
     "execution_count": 45,
     "metadata": {},
     "output_type": "execute_result"
    }
   ],
   "source": [
    "piv_C = Counter(df['Embarked'])\n",
    "print(\"Mean: \",np.mean(list(piv_C.values())))\n",
    "print(\"Std: \",np.std(list(piv_C.values())))\n",
    "print(\"Valores distintoos\",len(piv_C))\n",
    "piv_C"
   ]
  },
  {
   "cell_type": "code",
   "execution_count": 46,
   "metadata": {},
   "outputs": [
    {
     "data": {
      "text/html": [
       "<div>\n",
       "<style scoped>\n",
       "    .dataframe tbody tr th:only-of-type {\n",
       "        vertical-align: middle;\n",
       "    }\n",
       "\n",
       "    .dataframe tbody tr th {\n",
       "        vertical-align: top;\n",
       "    }\n",
       "\n",
       "    .dataframe thead th {\n",
       "        text-align: right;\n",
       "    }\n",
       "</style>\n",
       "<table border=\"1\" class=\"dataframe\">\n",
       "  <thead>\n",
       "    <tr style=\"text-align: right;\">\n",
       "      <th>passenger_survived</th>\n",
       "      <th>N</th>\n",
       "      <th>Y</th>\n",
       "    </tr>\n",
       "    <tr>\n",
       "      <th>Embarked</th>\n",
       "      <th></th>\n",
       "      <th></th>\n",
       "    </tr>\n",
       "  </thead>\n",
       "  <tbody>\n",
       "    <tr>\n",
       "      <th>C</th>\n",
       "      <td>75</td>\n",
       "      <td>93</td>\n",
       "    </tr>\n",
       "    <tr>\n",
       "      <th>Q</th>\n",
       "      <td>47</td>\n",
       "      <td>30</td>\n",
       "    </tr>\n",
       "    <tr>\n",
       "      <th>S</th>\n",
       "      <td>427</td>\n",
       "      <td>217</td>\n",
       "    </tr>\n",
       "  </tbody>\n",
       "</table>\n",
       "</div>"
      ],
      "text/plain": [
       "passenger_survived    N    Y\n",
       "Embarked                    \n",
       "C                    75   93\n",
       "Q                    47   30\n",
       "S                   427  217"
      ]
     },
     "execution_count": 46,
     "metadata": {},
     "output_type": "execute_result"
    }
   ],
   "source": [
    "pd.crosstab(np.array(df['Embarked']), np.array(df['passenger_survived']), rownames = ['Embarked'], colnames = ['passenger_survived'])"
   ]
  },
  {
   "cell_type": "markdown",
   "metadata": {},
   "source": [
    "De lo anterior se considera que la variable 'Embarked' puede aportar al modelo a generar."
   ]
  },
  {
   "cell_type": "code",
   "execution_count": 47,
   "metadata": {},
   "outputs": [
    {
     "name": "stdout",
     "output_type": "stream",
     "text": [
      "Mean:  297.0\n",
      "Std:  137.79937106774713\n",
      "Valores distintoos 3\n"
     ]
    },
    {
     "data": {
      "text/plain": [
       "Counter({'Lower': 491, 'Upper': 216, 'Middle': 184})"
      ]
     },
     "execution_count": 47,
     "metadata": {},
     "output_type": "execute_result"
    }
   ],
   "source": [
    "piv_C = Counter(df['passenger_class'])\n",
    "print(\"Mean: \",np.mean(list(piv_C.values())))\n",
    "print(\"Std: \",np.std(list(piv_C.values())))\n",
    "print(\"Valores distintoos\",len(piv_C))\n",
    "piv_C"
   ]
  },
  {
   "cell_type": "code",
   "execution_count": 49,
   "metadata": {},
   "outputs": [
    {
     "data": {
      "text/html": [
       "<div>\n",
       "<style scoped>\n",
       "    .dataframe tbody tr th:only-of-type {\n",
       "        vertical-align: middle;\n",
       "    }\n",
       "\n",
       "    .dataframe tbody tr th {\n",
       "        vertical-align: top;\n",
       "    }\n",
       "\n",
       "    .dataframe thead th {\n",
       "        text-align: right;\n",
       "    }\n",
       "</style>\n",
       "<table border=\"1\" class=\"dataframe\">\n",
       "  <thead>\n",
       "    <tr style=\"text-align: right;\">\n",
       "      <th>passenger_survived</th>\n",
       "      <th>N</th>\n",
       "      <th>Y</th>\n",
       "    </tr>\n",
       "    <tr>\n",
       "      <th>passenger_class</th>\n",
       "      <th></th>\n",
       "      <th></th>\n",
       "    </tr>\n",
       "  </thead>\n",
       "  <tbody>\n",
       "    <tr>\n",
       "      <th>Lower</th>\n",
       "      <td>372</td>\n",
       "      <td>119</td>\n",
       "    </tr>\n",
       "    <tr>\n",
       "      <th>Middle</th>\n",
       "      <td>97</td>\n",
       "      <td>87</td>\n",
       "    </tr>\n",
       "    <tr>\n",
       "      <th>Upper</th>\n",
       "      <td>80</td>\n",
       "      <td>136</td>\n",
       "    </tr>\n",
       "  </tbody>\n",
       "</table>\n",
       "</div>"
      ],
      "text/plain": [
       "passenger_survived    N    Y\n",
       "passenger_class             \n",
       "Lower               372  119\n",
       "Middle               97   87\n",
       "Upper                80  136"
      ]
     },
     "execution_count": 49,
     "metadata": {},
     "output_type": "execute_result"
    }
   ],
   "source": [
    "pd.crosstab(np.array(df['passenger_class']), np.array(df['passenger_survived']), rownames = ['passenger_class'], colnames = ['passenger_survived'])"
   ]
  },
  {
   "cell_type": "markdown",
   "metadata": {},
   "source": [
    "De lo anterior se considera que la variable 'passenger_class' puede aportar valor"
   ]
  },
  {
   "cell_type": "code",
   "execution_count": 50,
   "metadata": {},
   "outputs": [
    {
     "name": "stdout",
     "output_type": "stream",
     "text": [
      "Mean:  445.5\n",
      "Std:  131.5\n",
      "Valores distintoos 2\n"
     ]
    },
    {
     "data": {
      "text/plain": [
       "Counter({'M': 577, 'F': 314})"
      ]
     },
     "execution_count": 50,
     "metadata": {},
     "output_type": "execute_result"
    }
   ],
   "source": [
    "piv_C = Counter(df['passenger_sex'])\n",
    "print(\"Mean: \",np.mean(list(piv_C.values())))\n",
    "print(\"Std: \",np.std(list(piv_C.values())))\n",
    "print(\"Valores distintoos\",len(piv_C))\n",
    "piv_C"
   ]
  },
  {
   "cell_type": "code",
   "execution_count": 51,
   "metadata": {},
   "outputs": [
    {
     "data": {
      "text/html": [
       "<div>\n",
       "<style scoped>\n",
       "    .dataframe tbody tr th:only-of-type {\n",
       "        vertical-align: middle;\n",
       "    }\n",
       "\n",
       "    .dataframe tbody tr th {\n",
       "        vertical-align: top;\n",
       "    }\n",
       "\n",
       "    .dataframe thead th {\n",
       "        text-align: right;\n",
       "    }\n",
       "</style>\n",
       "<table border=\"1\" class=\"dataframe\">\n",
       "  <thead>\n",
       "    <tr style=\"text-align: right;\">\n",
       "      <th>passenger_survived</th>\n",
       "      <th>N</th>\n",
       "      <th>Y</th>\n",
       "    </tr>\n",
       "    <tr>\n",
       "      <th>passenger_sex</th>\n",
       "      <th></th>\n",
       "      <th></th>\n",
       "    </tr>\n",
       "  </thead>\n",
       "  <tbody>\n",
       "    <tr>\n",
       "      <th>F</th>\n",
       "      <td>81</td>\n",
       "      <td>233</td>\n",
       "    </tr>\n",
       "    <tr>\n",
       "      <th>M</th>\n",
       "      <td>468</td>\n",
       "      <td>109</td>\n",
       "    </tr>\n",
       "  </tbody>\n",
       "</table>\n",
       "</div>"
      ],
      "text/plain": [
       "passenger_survived    N    Y\n",
       "passenger_sex               \n",
       "F                    81  233\n",
       "M                   468  109"
      ]
     },
     "execution_count": 51,
     "metadata": {},
     "output_type": "execute_result"
    }
   ],
   "source": [
    "pd.crosstab(np.array(df['passenger_sex']), np.array(df['passenger_survived']), rownames = ['passenger_sex'], colnames = ['passenger_survived'])"
   ]
  },
  {
   "cell_type": "markdown",
   "metadata": {},
   "source": [
    "Por lo que l variable 'passenger_sex' puede ser un alto indicador de sobrevivencia."
   ]
  },
  {
   "cell_type": "code",
   "execution_count": 57,
   "metadata": {},
   "outputs": [],
   "source": [
    "dataset = df[['SibSp','Parch','Fare','Embarked','passenger_class','passenger_sex','passenger_survived']]"
   ]
  },
  {
   "cell_type": "code",
   "execution_count": 58,
   "metadata": {},
   "outputs": [
    {
     "data": {
      "text/html": [
       "<div>\n",
       "<style scoped>\n",
       "    .dataframe tbody tr th:only-of-type {\n",
       "        vertical-align: middle;\n",
       "    }\n",
       "\n",
       "    .dataframe tbody tr th {\n",
       "        vertical-align: top;\n",
       "    }\n",
       "\n",
       "    .dataframe thead th {\n",
       "        text-align: right;\n",
       "    }\n",
       "</style>\n",
       "<table border=\"1\" class=\"dataframe\">\n",
       "  <thead>\n",
       "    <tr style=\"text-align: right;\">\n",
       "      <th></th>\n",
       "      <th>SibSp</th>\n",
       "      <th>Parch</th>\n",
       "      <th>Fare</th>\n",
       "      <th>Embarked</th>\n",
       "      <th>passenger_class</th>\n",
       "      <th>passenger_sex</th>\n",
       "      <th>passenger_survived</th>\n",
       "    </tr>\n",
       "  </thead>\n",
       "  <tbody>\n",
       "    <tr>\n",
       "      <th>0</th>\n",
       "      <td>1</td>\n",
       "      <td>0</td>\n",
       "      <td>7.2500</td>\n",
       "      <td>S</td>\n",
       "      <td>Lower</td>\n",
       "      <td>M</td>\n",
       "      <td>N</td>\n",
       "    </tr>\n",
       "    <tr>\n",
       "      <th>1</th>\n",
       "      <td>1</td>\n",
       "      <td>0</td>\n",
       "      <td>71.2833</td>\n",
       "      <td>C</td>\n",
       "      <td>Upper</td>\n",
       "      <td>F</td>\n",
       "      <td>Y</td>\n",
       "    </tr>\n",
       "    <tr>\n",
       "      <th>2</th>\n",
       "      <td>0</td>\n",
       "      <td>0</td>\n",
       "      <td>7.9250</td>\n",
       "      <td>S</td>\n",
       "      <td>Lower</td>\n",
       "      <td>F</td>\n",
       "      <td>Y</td>\n",
       "    </tr>\n",
       "    <tr>\n",
       "      <th>3</th>\n",
       "      <td>1</td>\n",
       "      <td>0</td>\n",
       "      <td>53.1000</td>\n",
       "      <td>S</td>\n",
       "      <td>Upper</td>\n",
       "      <td>F</td>\n",
       "      <td>Y</td>\n",
       "    </tr>\n",
       "    <tr>\n",
       "      <th>4</th>\n",
       "      <td>0</td>\n",
       "      <td>0</td>\n",
       "      <td>8.0500</td>\n",
       "      <td>S</td>\n",
       "      <td>Lower</td>\n",
       "      <td>M</td>\n",
       "      <td>N</td>\n",
       "    </tr>\n",
       "  </tbody>\n",
       "</table>\n",
       "</div>"
      ],
      "text/plain": [
       "   SibSp  Parch     Fare Embarked passenger_class passenger_sex  \\\n",
       "0      1      0   7.2500        S           Lower             M   \n",
       "1      1      0  71.2833        C           Upper             F   \n",
       "2      0      0   7.9250        S           Lower             F   \n",
       "3      1      0  53.1000        S           Upper             F   \n",
       "4      0      0   8.0500        S           Lower             M   \n",
       "\n",
       "  passenger_survived  \n",
       "0                  N  \n",
       "1                  Y  \n",
       "2                  Y  \n",
       "3                  Y  \n",
       "4                  N  "
      ]
     },
     "execution_count": 58,
     "metadata": {},
     "output_type": "execute_result"
    }
   ],
   "source": [
    "dataset.head()"
   ]
  },
  {
   "cell_type": "code",
   "execution_count": 60,
   "metadata": {},
   "outputs": [
    {
     "data": {
      "image/png": "[encoded data removed]",
      "text/plain": [
       "<Figure size 180x1080 with 6 Axes>"
      ]
     },
     "metadata": {
      "needs_background": "light"
     },
     "output_type": "display_data"
    }
   ],
   "source": [
    "pp = sns.pairplot(data=dataset,\n",
    "                  x_vars=['passenger_survived'],\n",
    "                  y_vars=['SibSp', 'Parch',\n",
    "                          'Fare','Embarked','passenger_class',\n",
    "                         'passenger_sex'])"
   ]
  },
  {
   "cell_type": "code",
   "execution_count": null,
   "metadata": {},
   "outputs": [],
   "source": []
  }
 ],
 "metadata": {
  "kernelspec": {
   "display_name": "Python 3",
   "language": "python",
   "name": "python3"
  },
  "language_info": {
   "codemirror_mode": {
    "name": "ipython",
    "version": 3
   },
   "file_extension": ".py",
   "mimetype": "text/x-python",
   "name": "python",
   "nbconvert_exporter": "python",
   "pygments_lexer": "ipython3",
   "version": "3.7.7"
  }
 },
 "nbformat": 4,
 "nbformat_minor": 4
}
