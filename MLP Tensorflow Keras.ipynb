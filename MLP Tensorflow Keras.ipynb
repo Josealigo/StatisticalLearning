{
 "cells": [
  {
   "cell_type": "markdown",
   "metadata": {},
   "source": [
    "# Credit Card Approval Prediction\n",
    "\n",
    "**Objetivo:** Construir un modelo de Perceptron Multi Capa para predecir si un individuo solicitando crédito es \"bueno\" o \"malo\".\n",
    "\n",
    "## Introducción\n",
    "\n",
    "Las \"score cards\" de crédito son un método común de control de riesgos en la industria financiera. Utilizan información personal y datos enviados por los solicitantes de tarjetas de crédito para predecir la probabilidad de futuros incumplimientos. El banco puede decidir si emitir una tarjeta de crédito al solicitante. Los puntajes crediticios pueden cuantificar objetivamente la magnitud del riesgo.\n",
    " \n",
    "En términos generales, las \"score cards\" de crédito se basan en datos históricos. El modelo logístico es un método común para la calificación crediticia. \"Logistic\" es adecuado para tareas de clasificación binaria y puede calcular los coeficientes de cada característica. Para facilitar la comprensión y el funcionamiento, la tarjeta de puntuación multiplicará el coeficiente de regresión logística por un valor determinado (como 100) y lo redondeará.\n",
    " \n",
    "En la actualidad, con el desarrollo de algoritmos de aprendizaje automático. Se han introducido métodos más predictivos como \"Boosting\", \"Random Forest\", \"Support Vector Machines\" y \"Multi Layer Perceptron\"  en la puntuación de \"score cards\". \n"
   ]
  },
  {
   "cell_type": "markdown",
   "metadata": {},
   "source": [
    "## Marco Teórico\n",
    "\n",
    "### Weight of Evidence(WoE):\n",
    "$$ woe_i = ln \\dfrac{P_{y_i}}{P_{n_i}} = ln\\left(\\frac{y_i/y_s}{n_i/n_s}\\right)$$ \n",
    "Donde $woe_i$  es la categoría $i$ del valor de WoE.  $P_{y_i}$ es la proporción de muestras positivas (donde positivo para nosotros será no implumplimiento de pago) en la categoría $i$ respecto a todos los registros positivos.  $P_{n_i}$ es la proporción de muestras negativas (donde negativo para nosotros será implumplimiento de pago) en la categoría $i$ respecto a todos los registros negativos.\n",
    "\n",
    "### Information Value (IV):\n",
    "$$ IV_i = (P_{y_i}-P{n_i})xwoe_i$$\n",
    "Los valores de $IV$ de los distintos tipos son la diferencia entre la tasa positiva condicional y la tasa negativa condicional multiplicada por el valor WoE de la variable. El valor de IV total de la variable se puede entender como la suma ponderada de la tasa positiva condicional y la diferencia de tasa condicional negativa:\n",
    "$$IV = \\underset{i}{\\overset{n}{\\sum}} IV_i  $$\n",
    "\n",
    "Los valores $IV$ cuantifican la habilidad de la variable para predecir en este caso binario, se estima es de acuerdo a la siguiente tabla:\n",
    "\n",
    "| Rango $IV$ | Habilidad para predecir |\n",
    "| --- | --- | \n",
    "| ($-\\infty$,0.02) | Casi no tiene |\n",
    "| $[$0.02 - 0.1) | Pobre  |\n",
    "| $[$0.1 - 0.3)  | Moderado |\n",
    "| $[$0.3 - 0.5)  | Fuerte |\n",
    "| $[$0.5 - $\\infty$)  | Demasiado fuerte, revisar la variable |\n"
   ]
  },
  {
   "cell_type": "markdown",
   "metadata": {},
   "source": [
    "Cargamos las librerías que nos ayudarán a cumplir el objetivo."
   ]
  },
  {
   "cell_type": "code",
   "execution_count": 1,
   "metadata": {},
   "outputs": [],
   "source": [
    "import tensorflow as tf\n",
    "physical_devices = tf.config.list_physical_devices('GPU') \n",
    "tf.config.experimental.set_memory_growth(physical_devices[0], True)\n",
    "from tensorflow.keras import optimizers\n",
    "from tensorflow.keras import models\n",
    "from tensorflow.keras import layers"
   ]
  },
  {
   "cell_type": "code",
   "execution_count": 2,
   "metadata": {},
   "outputs": [],
   "source": [
    "import warnings\n",
    "import pandas as pd    \n",
    "import numpy as np\n",
    "import matplotlib.pyplot as plt\n",
    "import seaborn as sns\n",
    "from collections import Counter\n",
    "from sklearn.model_selection import train_test_split\n",
    "from sklearn.utils.validation import column_or_1d\n",
    "from sklearn.utils.class_weight import compute_class_weight\n",
    "from tensorflow.keras.utils import to_categorical\n",
    "from imblearn.over_sampling import SMOTE\n",
    "from sklearn.metrics import accuracy_score,precision_score,recall_score,f1_score,fbeta_score\n",
    "from datetime import datetime\n",
    "import csv"
   ]
  },
  {
   "cell_type": "markdown",
   "metadata": {},
   "source": [
    "Para cumplir nuestro objetivo tenemos dos conjuntos de datos que se relacionan con el \"ID\", los cuales se pueden encontrar en: https://www.kaggle.com/rikdifos/credit-card-approval-prediction .\n",
    "\n",
    "- **application_record.** Tiene la información del individuo que solicita un crédito al momento de la solicitud, las variables que tiene son:\n",
    "    - ID: Identificador del cliente.\n",
    "    - CODE_GENDER: Género del cliente.\n",
    "    - FLAG_OWN_CAR: Bandera indicando si el cliente tiene carro.\n",
    "    - FLAG_OWN_REALTY: Bandera indicando si el cliente tiene alguna propiedad inmueble.\n",
    "    - CNT_CHILDREN: Cantidad de niños dependientes del cliente.\n",
    "    - AMT_INCOME_TOTAL: Monto del ingreso del cliente.\n",
    "    - NAME_INCOME_TYPE: Categoría del ingreso.\n",
    "    - NAME_EDUCATION_TYPE: Nivel de educación.\n",
    "    - NAME_FAMILY_STATUS: Estado civil.\n",
    "    - NAME_HOUSING_TYPE: Tipo de vivienda.\n",
    "    - DAYS_BIRTH: Cantidad de días desde el momento de la solicitud al nacimiento, -1 significa el día anterior.\n",
    "    - DAYS_EMPLOYED: Cantidad de días desde el momento de la solicitud al inicio de labores de la persona, -1 significa el día anterior.\n",
    "    - FLAG_MOBIL: Bandera indicando si el cliente tiene un teléfono móbil.\n",
    "    - FLAG_WORK_PHONE: Bandera indicando si el cliente tiene un teléfono asociado a su trabajo.\n",
    "    - FLAG_PHONE: Bandera indicando si el cliente tiene un teléfono fijo asociado.\n",
    "    - FLAG_EMAIL: Bandera indicando si el cliente tiene correo electrónico.\n",
    "    - OCCUPATION_TYPE: Tipo de ocupación.\n",
    "    - CNT_FAM_MEMBERS: Cantidad de miembros familiares con quienes vive.\n",
    "- **credit_record.** Tiene la información de los cortes de la tareta de crédito asociada a la persona, las variables que tiene son:\n",
    "    - ID: Identificador del cliente.\n",
    "    - MONTHS_BALANCE: Cantidad de meses desde el momento de la toma de datos al registro del corte, -1 significa el mes anterior.\n",
    "    - STATUS: Categoría indicando el estado del corte indicado según el siguiente catálogo.\n",
    "        - 0: 1-29 días desde el último pago. \n",
    "        - 1: 30-59 días desde el último pago.\n",
    "        - 2: 60-89 días desde el último pago.\n",
    "        - 3: 90-119 días desde el último pago.\n",
    "        - 4: 120-149 días desde el último pago.\n",
    "        - 5: Más de 150 días desde el último pago. (Pérdida) \n",
    "        - C: Tarjeta pagada ese mes.\n",
    "        - X: No existe corte en ese mes."
   ]
  },
  {
   "cell_type": "markdown",
   "metadata": {},
   "source": [
    "Cargamos los conjuntos de datos:"
   ]
  },
  {
   "cell_type": "code",
   "execution_count": 3,
   "metadata": {},
   "outputs": [],
   "source": [
    "data = pd.read_csv(\"Data/application_record.csv\", encoding = 'utf-8') \n",
    "record = pd.read_csv(\"Data/credit_record.csv\", encoding = 'utf-8') "
   ]
  },
  {
   "cell_type": "code",
   "execution_count": 4,
   "metadata": {},
   "outputs": [
    {
     "data": {
      "text/html": [
       "<div>\n",
       "<style scoped>\n",
       "    .dataframe tbody tr th:only-of-type {\n",
       "        vertical-align: middle;\n",
       "    }\n",
       "\n",
       "    .dataframe tbody tr th {\n",
       "        vertical-align: top;\n",
       "    }\n",
       "\n",
       "    .dataframe thead th {\n",
       "        text-align: right;\n",
       "    }\n",
       "</style>\n",
       "<table border=\"1\" class=\"dataframe\">\n",
       "  <thead>\n",
       "    <tr style=\"text-align: right;\">\n",
       "      <th></th>\n",
       "      <th>ID</th>\n",
       "      <th>CODE_GENDER</th>\n",
       "      <th>FLAG_OWN_CAR</th>\n",
       "      <th>FLAG_OWN_REALTY</th>\n",
       "      <th>CNT_CHILDREN</th>\n",
       "      <th>AMT_INCOME_TOTAL</th>\n",
       "      <th>NAME_INCOME_TYPE</th>\n",
       "      <th>NAME_EDUCATION_TYPE</th>\n",
       "      <th>NAME_FAMILY_STATUS</th>\n",
       "      <th>NAME_HOUSING_TYPE</th>\n",
       "      <th>DAYS_BIRTH</th>\n",
       "      <th>DAYS_EMPLOYED</th>\n",
       "      <th>FLAG_MOBIL</th>\n",
       "      <th>FLAG_WORK_PHONE</th>\n",
       "      <th>FLAG_PHONE</th>\n",
       "      <th>FLAG_EMAIL</th>\n",
       "      <th>OCCUPATION_TYPE</th>\n",
       "      <th>CNT_FAM_MEMBERS</th>\n",
       "    </tr>\n",
       "  </thead>\n",
       "  <tbody>\n",
       "    <tr>\n",
       "      <th>0</th>\n",
       "      <td>5008804</td>\n",
       "      <td>M</td>\n",
       "      <td>Y</td>\n",
       "      <td>Y</td>\n",
       "      <td>0</td>\n",
       "      <td>427500.0</td>\n",
       "      <td>Working</td>\n",
       "      <td>Higher education</td>\n",
       "      <td>Civil marriage</td>\n",
       "      <td>Rented apartment</td>\n",
       "      <td>-12005</td>\n",
       "      <td>-4542</td>\n",
       "      <td>1</td>\n",
       "      <td>1</td>\n",
       "      <td>0</td>\n",
       "      <td>0</td>\n",
       "      <td>NaN</td>\n",
       "      <td>2.0</td>\n",
       "    </tr>\n",
       "    <tr>\n",
       "      <th>1</th>\n",
       "      <td>5008805</td>\n",
       "      <td>M</td>\n",
       "      <td>Y</td>\n",
       "      <td>Y</td>\n",
       "      <td>0</td>\n",
       "      <td>427500.0</td>\n",
       "      <td>Working</td>\n",
       "      <td>Higher education</td>\n",
       "      <td>Civil marriage</td>\n",
       "      <td>Rented apartment</td>\n",
       "      <td>-12005</td>\n",
       "      <td>-4542</td>\n",
       "      <td>1</td>\n",
       "      <td>1</td>\n",
       "      <td>0</td>\n",
       "      <td>0</td>\n",
       "      <td>NaN</td>\n",
       "      <td>2.0</td>\n",
       "    </tr>\n",
       "    <tr>\n",
       "      <th>2</th>\n",
       "      <td>5008806</td>\n",
       "      <td>M</td>\n",
       "      <td>Y</td>\n",
       "      <td>Y</td>\n",
       "      <td>0</td>\n",
       "      <td>112500.0</td>\n",
       "      <td>Working</td>\n",
       "      <td>Secondary / secondary special</td>\n",
       "      <td>Married</td>\n",
       "      <td>House / apartment</td>\n",
       "      <td>-21474</td>\n",
       "      <td>-1134</td>\n",
       "      <td>1</td>\n",
       "      <td>0</td>\n",
       "      <td>0</td>\n",
       "      <td>0</td>\n",
       "      <td>Security staff</td>\n",
       "      <td>2.0</td>\n",
       "    </tr>\n",
       "    <tr>\n",
       "      <th>3</th>\n",
       "      <td>5008808</td>\n",
       "      <td>F</td>\n",
       "      <td>N</td>\n",
       "      <td>Y</td>\n",
       "      <td>0</td>\n",
       "      <td>270000.0</td>\n",
       "      <td>Commercial associate</td>\n",
       "      <td>Secondary / secondary special</td>\n",
       "      <td>Single / not married</td>\n",
       "      <td>House / apartment</td>\n",
       "      <td>-19110</td>\n",
       "      <td>-3051</td>\n",
       "      <td>1</td>\n",
       "      <td>0</td>\n",
       "      <td>1</td>\n",
       "      <td>1</td>\n",
       "      <td>Sales staff</td>\n",
       "      <td>1.0</td>\n",
       "    </tr>\n",
       "    <tr>\n",
       "      <th>4</th>\n",
       "      <td>5008809</td>\n",
       "      <td>F</td>\n",
       "      <td>N</td>\n",
       "      <td>Y</td>\n",
       "      <td>0</td>\n",
       "      <td>270000.0</td>\n",
       "      <td>Commercial associate</td>\n",
       "      <td>Secondary / secondary special</td>\n",
       "      <td>Single / not married</td>\n",
       "      <td>House / apartment</td>\n",
       "      <td>-19110</td>\n",
       "      <td>-3051</td>\n",
       "      <td>1</td>\n",
       "      <td>0</td>\n",
       "      <td>1</td>\n",
       "      <td>1</td>\n",
       "      <td>Sales staff</td>\n",
       "      <td>1.0</td>\n",
       "    </tr>\n",
       "  </tbody>\n",
       "</table>\n",
       "</div>"
      ],
      "text/plain": [
       "        ID CODE_GENDER FLAG_OWN_CAR FLAG_OWN_REALTY  CNT_CHILDREN  \\\n",
       "0  5008804           M            Y               Y             0   \n",
       "1  5008805           M            Y               Y             0   \n",
       "2  5008806           M            Y               Y             0   \n",
       "3  5008808           F            N               Y             0   \n",
       "4  5008809           F            N               Y             0   \n",
       "\n",
       "   AMT_INCOME_TOTAL      NAME_INCOME_TYPE            NAME_EDUCATION_TYPE  \\\n",
       "0          427500.0               Working               Higher education   \n",
       "1          427500.0               Working               Higher education   \n",
       "2          112500.0               Working  Secondary / secondary special   \n",
       "3          270000.0  Commercial associate  Secondary / secondary special   \n",
       "4          270000.0  Commercial associate  Secondary / secondary special   \n",
       "\n",
       "     NAME_FAMILY_STATUS  NAME_HOUSING_TYPE  DAYS_BIRTH  DAYS_EMPLOYED  \\\n",
       "0        Civil marriage   Rented apartment      -12005          -4542   \n",
       "1        Civil marriage   Rented apartment      -12005          -4542   \n",
       "2               Married  House / apartment      -21474          -1134   \n",
       "3  Single / not married  House / apartment      -19110          -3051   \n",
       "4  Single / not married  House / apartment      -19110          -3051   \n",
       "\n",
       "   FLAG_MOBIL  FLAG_WORK_PHONE  FLAG_PHONE  FLAG_EMAIL OCCUPATION_TYPE  \\\n",
       "0           1                1           0           0             NaN   \n",
       "1           1                1           0           0             NaN   \n",
       "2           1                0           0           0  Security staff   \n",
       "3           1                0           1           1     Sales staff   \n",
       "4           1                0           1           1     Sales staff   \n",
       "\n",
       "   CNT_FAM_MEMBERS  \n",
       "0              2.0  \n",
       "1              2.0  \n",
       "2              2.0  \n",
       "3              1.0  \n",
       "4              1.0  "
      ]
     },
     "execution_count": 4,
     "metadata": {},
     "output_type": "execute_result"
    }
   ],
   "source": [
    "data.head()"
   ]
  },
  {
   "cell_type": "code",
   "execution_count": 5,
   "metadata": {},
   "outputs": [
    {
     "data": {
      "text/html": [
       "<div>\n",
       "<style scoped>\n",
       "    .dataframe tbody tr th:only-of-type {\n",
       "        vertical-align: middle;\n",
       "    }\n",
       "\n",
       "    .dataframe tbody tr th {\n",
       "        vertical-align: top;\n",
       "    }\n",
       "\n",
       "    .dataframe thead th {\n",
       "        text-align: right;\n",
       "    }\n",
       "</style>\n",
       "<table border=\"1\" class=\"dataframe\">\n",
       "  <thead>\n",
       "    <tr style=\"text-align: right;\">\n",
       "      <th></th>\n",
       "      <th>ID</th>\n",
       "      <th>MONTHS_BALANCE</th>\n",
       "      <th>STATUS</th>\n",
       "    </tr>\n",
       "  </thead>\n",
       "  <tbody>\n",
       "    <tr>\n",
       "      <th>0</th>\n",
       "      <td>5001711</td>\n",
       "      <td>0</td>\n",
       "      <td>X</td>\n",
       "    </tr>\n",
       "    <tr>\n",
       "      <th>1</th>\n",
       "      <td>5001711</td>\n",
       "      <td>-1</td>\n",
       "      <td>0</td>\n",
       "    </tr>\n",
       "    <tr>\n",
       "      <th>2</th>\n",
       "      <td>5001711</td>\n",
       "      <td>-2</td>\n",
       "      <td>0</td>\n",
       "    </tr>\n",
       "    <tr>\n",
       "      <th>3</th>\n",
       "      <td>5001711</td>\n",
       "      <td>-3</td>\n",
       "      <td>0</td>\n",
       "    </tr>\n",
       "    <tr>\n",
       "      <th>4</th>\n",
       "      <td>5001712</td>\n",
       "      <td>0</td>\n",
       "      <td>C</td>\n",
       "    </tr>\n",
       "  </tbody>\n",
       "</table>\n",
       "</div>"
      ],
      "text/plain": [
       "        ID  MONTHS_BALANCE STATUS\n",
       "0  5001711               0      X\n",
       "1  5001711              -1      0\n",
       "2  5001711              -2      0\n",
       "3  5001711              -3      0\n",
       "4  5001712               0      C"
      ]
     },
     "execution_count": 5,
     "metadata": {},
     "output_type": "execute_result"
    }
   ],
   "source": [
    "record.head()"
   ]
  },
  {
   "cell_type": "markdown",
   "metadata": {},
   "source": [
    "Empezamos encontrando (relativamente) el mes al que inició el crédito."
   ]
  },
  {
   "cell_type": "code",
   "execution_count": 6,
   "metadata": {},
   "outputs": [],
   "source": [
    "mes_inicial = pd.DataFrame(record.groupby([\"ID\"])[\"MONTHS_BALANCE\"].agg(min))\n",
    "mes_inicial = mes_inicial.rename(columns={'MONTHS_BALANCE':'mes_inicial'}) \n",
    "dataset = pd.merge(data,mes_inicial,how=\"left\",on=\"ID\")"
   ]
  },
  {
   "cell_type": "markdown",
   "metadata": {},
   "source": [
    "Creamos la variable binaria con la que haremos la clasificacion, calibrada a un minimo de 60 días de impago."
   ]
  },
  {
   "cell_type": "code",
   "execution_count": 7,
   "metadata": {},
   "outputs": [
    {
     "name": "stderr",
     "output_type": "stream",
     "text": [
      "C:\\Users\\jose-\\Anaconda3\\envs\\tensorflowGPU\\lib\\site-packages\\ipykernel_launcher.py:2: SettingWithCopyWarning: \n",
      "A value is trying to be set on a copy of a slice from a DataFrame\n",
      "\n",
      "See the caveats in the documentation: https://pandas.pydata.org/pandas-docs/stable/user_guide/indexing.html#returning-a-view-versus-a-copy\n",
      "  \n",
      "C:\\Users\\jose-\\Anaconda3\\envs\\tensorflowGPU\\lib\\site-packages\\ipykernel_launcher.py:3: SettingWithCopyWarning: \n",
      "A value is trying to be set on a copy of a slice from a DataFrame\n",
      "\n",
      "See the caveats in the documentation: https://pandas.pydata.org/pandas-docs/stable/user_guide/indexing.html#returning-a-view-versus-a-copy\n",
      "  This is separate from the ipykernel package so we can avoid doing imports until\n",
      "C:\\Users\\jose-\\Anaconda3\\envs\\tensorflowGPU\\lib\\site-packages\\ipykernel_launcher.py:4: SettingWithCopyWarning: \n",
      "A value is trying to be set on a copy of a slice from a DataFrame\n",
      "\n",
      "See the caveats in the documentation: https://pandas.pydata.org/pandas-docs/stable/user_guide/indexing.html#returning-a-view-versus-a-copy\n",
      "  after removing the cwd from sys.path.\n",
      "C:\\Users\\jose-\\Anaconda3\\envs\\tensorflowGPU\\lib\\site-packages\\ipykernel_launcher.py:5: SettingWithCopyWarning: \n",
      "A value is trying to be set on a copy of a slice from a DataFrame\n",
      "\n",
      "See the caveats in the documentation: https://pandas.pydata.org/pandas-docs/stable/user_guide/indexing.html#returning-a-view-versus-a-copy\n",
      "  \"\"\"\n"
     ]
    }
   ],
   "source": [
    "record['Variable_Objetivo'] = None\n",
    "record['Variable_Objetivo'][record['STATUS'] =='2']= 1\n",
    "record['Variable_Objetivo'][record['STATUS'] =='3']= 1 \n",
    "record['Variable_Objetivo'][record['STATUS'] =='4']= 1\n",
    "record['Variable_Objetivo'][record['STATUS'] =='5']= 1 "
   ]
  },
  {
   "cell_type": "code",
   "execution_count": 8,
   "metadata": {},
   "outputs": [
    {
     "data": {
      "text/plain": [
       "Counter({None: 1045471, 1: 3104})"
      ]
     },
     "execution_count": 8,
     "metadata": {},
     "output_type": "execute_result"
    }
   ],
   "source": [
    "C_Variable_Objetivo = Counter(record['Variable_Objetivo'])\n",
    "C_Variable_Objetivo"
   ]
  },
  {
   "cell_type": "markdown",
   "metadata": {},
   "source": [
    "Vemos como éste dataset está desbalanceado como esperado. Procedemos ahora a crear el dataset final al hacer la unión de la información de las solicitudes con la Variable Objetivo obtenida anteriormente."
   ]
  },
  {
   "cell_type": "code",
   "execution_count": 9,
   "metadata": {},
   "outputs": [],
   "source": [
    "cpunt=record.groupby('ID').count()\n",
    "cpunt['Variable_Objetivo'][cpunt['Variable_Objetivo'] > 0] = 1\n",
    "cpunt['Variable_Objetivo'][cpunt['Variable_Objetivo'] == 0] = 0 \n",
    "cpunt = cpunt[['Variable_Objetivo']]\n",
    "dataset=pd.merge(dataset,cpunt,how='inner',on='ID')"
   ]
  },
  {
   "cell_type": "code",
   "execution_count": 10,
   "metadata": {},
   "outputs": [
    {
     "name": "stdout",
     "output_type": "stream",
     "text": [
      "0    45318\n",
      "1      667\n",
      "Name: Variable_Objetivo, dtype: int64\n"
     ]
    },
    {
     "data": {
      "text/plain": [
       "0    0.985495\n",
       "1    0.014505\n",
       "Name: Variable_Objetivo, dtype: float64"
      ]
     },
     "execution_count": 10,
     "metadata": {},
     "output_type": "execute_result"
    }
   ],
   "source": [
    "print(cpunt['Variable_Objetivo'].value_counts())\n",
    "cpunt['Variable_Objetivo'].value_counts(normalize=True)"
   ]
  },
  {
   "cell_type": "code",
   "execution_count": 11,
   "metadata": {},
   "outputs": [
    {
     "data": {
      "text/plain": [
       "(36457, 20)"
      ]
     },
     "execution_count": 11,
     "metadata": {},
     "output_type": "execute_result"
    }
   ],
   "source": [
    "dataset.shape"
   ]
  },
  {
   "cell_type": "code",
   "execution_count": 12,
   "metadata": {},
   "outputs": [
    {
     "data": {
      "text/html": [
       "<div>\n",
       "<style scoped>\n",
       "    .dataframe tbody tr th:only-of-type {\n",
       "        vertical-align: middle;\n",
       "    }\n",
       "\n",
       "    .dataframe tbody tr th {\n",
       "        vertical-align: top;\n",
       "    }\n",
       "\n",
       "    .dataframe thead th {\n",
       "        text-align: right;\n",
       "    }\n",
       "</style>\n",
       "<table border=\"1\" class=\"dataframe\">\n",
       "  <thead>\n",
       "    <tr style=\"text-align: right;\">\n",
       "      <th></th>\n",
       "      <th>ID</th>\n",
       "      <th>CODE_GENDER</th>\n",
       "      <th>FLAG_OWN_CAR</th>\n",
       "      <th>FLAG_OWN_REALTY</th>\n",
       "      <th>CNT_CHILDREN</th>\n",
       "      <th>AMT_INCOME_TOTAL</th>\n",
       "      <th>NAME_INCOME_TYPE</th>\n",
       "      <th>NAME_EDUCATION_TYPE</th>\n",
       "      <th>NAME_FAMILY_STATUS</th>\n",
       "      <th>NAME_HOUSING_TYPE</th>\n",
       "      <th>DAYS_BIRTH</th>\n",
       "      <th>DAYS_EMPLOYED</th>\n",
       "      <th>FLAG_MOBIL</th>\n",
       "      <th>FLAG_WORK_PHONE</th>\n",
       "      <th>FLAG_PHONE</th>\n",
       "      <th>FLAG_EMAIL</th>\n",
       "      <th>OCCUPATION_TYPE</th>\n",
       "      <th>CNT_FAM_MEMBERS</th>\n",
       "      <th>mes_inicial</th>\n",
       "      <th>Variable_Objetivo</th>\n",
       "    </tr>\n",
       "  </thead>\n",
       "  <tbody>\n",
       "    <tr>\n",
       "      <th>0</th>\n",
       "      <td>5008804</td>\n",
       "      <td>M</td>\n",
       "      <td>Y</td>\n",
       "      <td>Y</td>\n",
       "      <td>0</td>\n",
       "      <td>427500.0</td>\n",
       "      <td>Working</td>\n",
       "      <td>Higher education</td>\n",
       "      <td>Civil marriage</td>\n",
       "      <td>Rented apartment</td>\n",
       "      <td>-12005</td>\n",
       "      <td>-4542</td>\n",
       "      <td>1</td>\n",
       "      <td>1</td>\n",
       "      <td>0</td>\n",
       "      <td>0</td>\n",
       "      <td>NaN</td>\n",
       "      <td>2.0</td>\n",
       "      <td>-15.0</td>\n",
       "      <td>0</td>\n",
       "    </tr>\n",
       "    <tr>\n",
       "      <th>1</th>\n",
       "      <td>5008805</td>\n",
       "      <td>M</td>\n",
       "      <td>Y</td>\n",
       "      <td>Y</td>\n",
       "      <td>0</td>\n",
       "      <td>427500.0</td>\n",
       "      <td>Working</td>\n",
       "      <td>Higher education</td>\n",
       "      <td>Civil marriage</td>\n",
       "      <td>Rented apartment</td>\n",
       "      <td>-12005</td>\n",
       "      <td>-4542</td>\n",
       "      <td>1</td>\n",
       "      <td>1</td>\n",
       "      <td>0</td>\n",
       "      <td>0</td>\n",
       "      <td>NaN</td>\n",
       "      <td>2.0</td>\n",
       "      <td>-14.0</td>\n",
       "      <td>0</td>\n",
       "    </tr>\n",
       "    <tr>\n",
       "      <th>2</th>\n",
       "      <td>5008806</td>\n",
       "      <td>M</td>\n",
       "      <td>Y</td>\n",
       "      <td>Y</td>\n",
       "      <td>0</td>\n",
       "      <td>112500.0</td>\n",
       "      <td>Working</td>\n",
       "      <td>Secondary / secondary special</td>\n",
       "      <td>Married</td>\n",
       "      <td>House / apartment</td>\n",
       "      <td>-21474</td>\n",
       "      <td>-1134</td>\n",
       "      <td>1</td>\n",
       "      <td>0</td>\n",
       "      <td>0</td>\n",
       "      <td>0</td>\n",
       "      <td>Security staff</td>\n",
       "      <td>2.0</td>\n",
       "      <td>-29.0</td>\n",
       "      <td>0</td>\n",
       "    </tr>\n",
       "    <tr>\n",
       "      <th>3</th>\n",
       "      <td>5008808</td>\n",
       "      <td>F</td>\n",
       "      <td>N</td>\n",
       "      <td>Y</td>\n",
       "      <td>0</td>\n",
       "      <td>270000.0</td>\n",
       "      <td>Commercial associate</td>\n",
       "      <td>Secondary / secondary special</td>\n",
       "      <td>Single / not married</td>\n",
       "      <td>House / apartment</td>\n",
       "      <td>-19110</td>\n",
       "      <td>-3051</td>\n",
       "      <td>1</td>\n",
       "      <td>0</td>\n",
       "      <td>1</td>\n",
       "      <td>1</td>\n",
       "      <td>Sales staff</td>\n",
       "      <td>1.0</td>\n",
       "      <td>-4.0</td>\n",
       "      <td>0</td>\n",
       "    </tr>\n",
       "    <tr>\n",
       "      <th>4</th>\n",
       "      <td>5008809</td>\n",
       "      <td>F</td>\n",
       "      <td>N</td>\n",
       "      <td>Y</td>\n",
       "      <td>0</td>\n",
       "      <td>270000.0</td>\n",
       "      <td>Commercial associate</td>\n",
       "      <td>Secondary / secondary special</td>\n",
       "      <td>Single / not married</td>\n",
       "      <td>House / apartment</td>\n",
       "      <td>-19110</td>\n",
       "      <td>-3051</td>\n",
       "      <td>1</td>\n",
       "      <td>0</td>\n",
       "      <td>1</td>\n",
       "      <td>1</td>\n",
       "      <td>Sales staff</td>\n",
       "      <td>1.0</td>\n",
       "      <td>-26.0</td>\n",
       "      <td>0</td>\n",
       "    </tr>\n",
       "  </tbody>\n",
       "</table>\n",
       "</div>"
      ],
      "text/plain": [
       "        ID CODE_GENDER FLAG_OWN_CAR FLAG_OWN_REALTY  CNT_CHILDREN  \\\n",
       "0  5008804           M            Y               Y             0   \n",
       "1  5008805           M            Y               Y             0   \n",
       "2  5008806           M            Y               Y             0   \n",
       "3  5008808           F            N               Y             0   \n",
       "4  5008809           F            N               Y             0   \n",
       "\n",
       "   AMT_INCOME_TOTAL      NAME_INCOME_TYPE            NAME_EDUCATION_TYPE  \\\n",
       "0          427500.0               Working               Higher education   \n",
       "1          427500.0               Working               Higher education   \n",
       "2          112500.0               Working  Secondary / secondary special   \n",
       "3          270000.0  Commercial associate  Secondary / secondary special   \n",
       "4          270000.0  Commercial associate  Secondary / secondary special   \n",
       "\n",
       "     NAME_FAMILY_STATUS  NAME_HOUSING_TYPE  DAYS_BIRTH  DAYS_EMPLOYED  \\\n",
       "0        Civil marriage   Rented apartment      -12005          -4542   \n",
       "1        Civil marriage   Rented apartment      -12005          -4542   \n",
       "2               Married  House / apartment      -21474          -1134   \n",
       "3  Single / not married  House / apartment      -19110          -3051   \n",
       "4  Single / not married  House / apartment      -19110          -3051   \n",
       "\n",
       "   FLAG_MOBIL  FLAG_WORK_PHONE  FLAG_PHONE  FLAG_EMAIL OCCUPATION_TYPE  \\\n",
       "0           1                1           0           0             NaN   \n",
       "1           1                1           0           0             NaN   \n",
       "2           1                0           0           0  Security staff   \n",
       "3           1                0           1           1     Sales staff   \n",
       "4           1                0           1           1     Sales staff   \n",
       "\n",
       "   CNT_FAM_MEMBERS  mes_inicial  Variable_Objetivo  \n",
       "0              2.0        -15.0                  0  \n",
       "1              2.0        -14.0                  0  \n",
       "2              2.0        -29.0                  0  \n",
       "3              1.0         -4.0                  0  \n",
       "4              1.0        -26.0                  0  "
      ]
     },
     "execution_count": 12,
     "metadata": {},
     "output_type": "execute_result"
    }
   ],
   "source": [
    "dataset.head()"
   ]
  },
  {
   "cell_type": "code",
   "execution_count": 13,
   "metadata": {},
   "outputs": [
    {
     "data": {
      "text/plain": [
       "0    0.983103\n",
       "1    0.016897\n",
       "Name: Variable_Objetivo, dtype: float64"
      ]
     },
     "execution_count": 13,
     "metadata": {},
     "output_type": "execute_result"
    }
   ],
   "source": [
    "dataset['Variable_Objetivo'].value_counts(normalize=True)"
   ]
  },
  {
   "cell_type": "markdown",
   "metadata": {},
   "source": [
    "## Ingeniería de Atributos"
   ]
  },
  {
   "cell_type": "markdown",
   "metadata": {},
   "source": [
    "Convertimos la columna ID en índice ya que ésta no tiene relevancia predictiva y ayuda más como ínidice para la particion y recreación de los dataset. Adicionalmente creamos listas para las variables x y la variable binaria objetivo."
   ]
  },
  {
   "cell_type": "code",
   "execution_count": 14,
   "metadata": {},
   "outputs": [],
   "source": [
    "dataset = dataset.set_index('ID')"
   ]
  },
  {
   "cell_type": "code",
   "execution_count": 15,
   "metadata": {},
   "outputs": [],
   "source": [
    "Var_y = 'Variable_Objetivo'\n",
    "Var_x = list(dataset.columns)\n",
    "Var_x.remove(Var_y)"
   ]
  },
  {
   "cell_type": "markdown",
   "metadata": {},
   "source": [
    "Buscamos variables que tengan registros con valores null."
   ]
  },
  {
   "cell_type": "code",
   "execution_count": 16,
   "metadata": {},
   "outputs": [
    {
     "name": "stdout",
     "output_type": "stream",
     "text": [
      "OCCUPATION_TYPE 0.3105850728255205\n"
     ]
    }
   ],
   "source": [
    "for i in Var_x:\n",
    "    piv_c = dataset[i]\n",
    "    if len(piv_c[piv_c.isnull()])>0:\n",
    "        print(i,len(piv_c[piv_c.isnull()])/len(piv_c))"
   ]
  },
  {
   "cell_type": "markdown",
   "metadata": {},
   "source": [
    "Puesto que la variable 'OCCUPATION_TYPE' es la única con valores null le hacemos una imputación según su catálogo."
   ]
  },
  {
   "cell_type": "code",
   "execution_count": 17,
   "metadata": {},
   "outputs": [
    {
     "data": {
      "text/plain": [
       "Counter({nan: 11323,\n",
       "         'Security staff': 592,\n",
       "         'Sales staff': 3485,\n",
       "         'Accountants': 1241,\n",
       "         'Laborers': 6211,\n",
       "         'Managers': 3012,\n",
       "         'Drivers': 2138,\n",
       "         'Core staff': 3591,\n",
       "         'High skill tech staff': 1383,\n",
       "         'Cleaning staff': 551,\n",
       "         'Private service staff': 344,\n",
       "         'Cooking staff': 655,\n",
       "         'Low-skill Laborers': 175,\n",
       "         'Medicine staff': 1207,\n",
       "         'Secretaries': 151,\n",
       "         'Waiters/barmen staff': 174,\n",
       "         'HR staff': 85,\n",
       "         'Realty agents': 79,\n",
       "         'IT staff': 60})"
      ]
     },
     "execution_count": 17,
     "metadata": {},
     "output_type": "execute_result"
    }
   ],
   "source": [
    "C_OCCUPATION_TYPE = Counter(dataset['OCCUPATION_TYPE'])\n",
    "C_OCCUPATION_TYPE"
   ]
  },
  {
   "cell_type": "markdown",
   "metadata": {},
   "source": [
    "Se decide crear el camo 'Others'."
   ]
  },
  {
   "cell_type": "code",
   "execution_count": 18,
   "metadata": {},
   "outputs": [
    {
     "name": "stderr",
     "output_type": "stream",
     "text": [
      "C:\\Users\\jose-\\Anaconda3\\envs\\tensorflowGPU\\lib\\site-packages\\ipykernel_launcher.py:2: SettingWithCopyWarning: \n",
      "A value is trying to be set on a copy of a slice from a DataFrame\n",
      "\n",
      "See the caveats in the documentation: https://pandas.pydata.org/pandas-docs/stable/user_guide/indexing.html#returning-a-view-versus-a-copy\n",
      "  \n"
     ]
    }
   ],
   "source": [
    "piv_c = dataset['OCCUPATION_TYPE']\n",
    "piv_c[piv_c.isnull()] = 'Others' "
   ]
  },
  {
   "cell_type": "code",
   "execution_count": 19,
   "metadata": {},
   "outputs": [
    {
     "data": {
      "text/plain": [
       "Counter({'Others': 11323,\n",
       "         'Security staff': 592,\n",
       "         'Sales staff': 3485,\n",
       "         'Accountants': 1241,\n",
       "         'Laborers': 6211,\n",
       "         'Managers': 3012,\n",
       "         'Drivers': 2138,\n",
       "         'Core staff': 3591,\n",
       "         'High skill tech staff': 1383,\n",
       "         'Cleaning staff': 551,\n",
       "         'Private service staff': 344,\n",
       "         'Cooking staff': 655,\n",
       "         'Low-skill Laborers': 175,\n",
       "         'Medicine staff': 1207,\n",
       "         'Secretaries': 151,\n",
       "         'Waiters/barmen staff': 174,\n",
       "         'HR staff': 85,\n",
       "         'Realty agents': 79,\n",
       "         'IT staff': 60})"
      ]
     },
     "execution_count": 19,
     "metadata": {},
     "output_type": "execute_result"
    }
   ],
   "source": [
    "C_OCCUPATION_TYPE = Counter(dataset['OCCUPATION_TYPE'])\n",
    "C_OCCUPATION_TYPE"
   ]
  },
  {
   "cell_type": "code",
   "execution_count": 20,
   "metadata": {},
   "outputs": [
    {
     "name": "stderr",
     "output_type": "stream",
     "text": [
      "C:\\Users\\jose-\\Anaconda3\\envs\\tensorflowGPU\\lib\\site-packages\\pandas\\core\\computation\\expressions.py:68: FutureWarning: elementwise comparison failed; returning scalar instead, but in the future will perform elementwise comparison\n",
      "  return op(a, b)\n",
      "C:\\Users\\jose-\\Anaconda3\\envs\\tensorflowGPU\\lib\\site-packages\\pandas\\core\\computation\\expressions.py:68: FutureWarning: elementwise comparison failed; returning scalar instead, but in the future will perform elementwise comparison\n",
      "  return op(a, b)\n"
     ]
    }
   ],
   "source": [
    "dataset.dropna()\n",
    "dataset = dataset.mask(dataset == 'NULL').dropna()"
   ]
  },
  {
   "cell_type": "markdown",
   "metadata": {},
   "source": [
    "Construimos una función para calcular los valores de $IV$ de las variables, dada que es una definición para cada valor de una variable tenemos que contruir todas las variables numéricas a categóricas."
   ]
  },
  {
   "cell_type": "code",
   "execution_count": 21,
   "metadata": {},
   "outputs": [],
   "source": [
    "def calc_iv(df, feature, target, pr=False):\n",
    "    lst = []\n",
    "    df[feature] = df[feature].fillna(\"NULL\")\n",
    "\n",
    "    for i in range(df[feature].nunique()):\n",
    "        val = list(df[feature].unique())[i]\n",
    "        lst.append([feature,                                                        # Variable\n",
    "                    val,                                                            # Valor\n",
    "                    df[df[feature] == val].count()[feature],                        # Total\n",
    "                    df[(df[feature] == val) & (df[target] == 0)].count()[feature],  # Cantidad de buenos\n",
    "                    df[(df[feature] == val) & (df[target] == 1)].count()[feature]]) # Cantidad de malos\n",
    "\n",
    "    data = pd.DataFrame(lst, columns=['Variable', 'Valor', 'Total', 'Buenos', 'Malos'])\n",
    "    data['Proporción'] = data['Total'] / data['Total'].sum()\n",
    "    data['Razón de Malos'] = data['Malos'] / data['Total']\n",
    "    data['Distribución de Buenos'] = (data['Total'] - data['Malos']) / (data['Total'].sum() - data['Malos'].sum())\n",
    "    data['Distribución de Malos'] = data['Malos'] / data['Malos'].sum()\n",
    "    data['WoE'] = np.log(data['Distribución de Buenos'] / data['Distribución de Malos'])\n",
    "    \n",
    "    data = data.replace({'WoE': {np.inf: 0, -np.inf: 0}})\n",
    "\n",
    "    data['IV'] = data['WoE'] * (data['Distribución de Buenos'] - data['Distribución de Malos'])\n",
    "\n",
    "    data = data.sort_values(by=['Variable', 'Valor'], ascending=[True, True])\n",
    "    data.index = range(len(data.index))\n",
    "\n",
    "    iv = data['IV'].sum()\n",
    "    return iv, data"
   ]
  },
  {
   "cell_type": "markdown",
   "metadata": {},
   "source": [
    "Ahora creamos la tabla para almacenar los valores $IV$."
   ]
  },
  {
   "cell_type": "code",
   "execution_count": 22,
   "metadata": {},
   "outputs": [],
   "source": [
    "ivtable=pd.DataFrame(dataset.columns,columns=['variable'])\n",
    "ivtable['IV']=None\n",
    "namelist = ['mes_inicial','Variable_Objetivo']\n",
    "\n",
    "for i in namelist:\n",
    "    ivtable.drop(ivtable[ivtable['variable'] == i].index, inplace=True)"
   ]
  },
  {
   "cell_type": "code",
   "execution_count": 23,
   "metadata": {},
   "outputs": [
    {
     "data": {
      "text/html": [
       "<div>\n",
       "<style scoped>\n",
       "    .dataframe tbody tr th:only-of-type {\n",
       "        vertical-align: middle;\n",
       "    }\n",
       "\n",
       "    .dataframe tbody tr th {\n",
       "        vertical-align: top;\n",
       "    }\n",
       "\n",
       "    .dataframe thead th {\n",
       "        text-align: right;\n",
       "    }\n",
       "</style>\n",
       "<table border=\"1\" class=\"dataframe\">\n",
       "  <thead>\n",
       "    <tr style=\"text-align: right;\">\n",
       "      <th></th>\n",
       "      <th>variable</th>\n",
       "      <th>IV</th>\n",
       "    </tr>\n",
       "  </thead>\n",
       "  <tbody>\n",
       "    <tr>\n",
       "      <th>0</th>\n",
       "      <td>CODE_GENDER</td>\n",
       "      <td>None</td>\n",
       "    </tr>\n",
       "    <tr>\n",
       "      <th>1</th>\n",
       "      <td>FLAG_OWN_CAR</td>\n",
       "      <td>None</td>\n",
       "    </tr>\n",
       "    <tr>\n",
       "      <th>2</th>\n",
       "      <td>FLAG_OWN_REALTY</td>\n",
       "      <td>None</td>\n",
       "    </tr>\n",
       "    <tr>\n",
       "      <th>3</th>\n",
       "      <td>CNT_CHILDREN</td>\n",
       "      <td>None</td>\n",
       "    </tr>\n",
       "    <tr>\n",
       "      <th>4</th>\n",
       "      <td>AMT_INCOME_TOTAL</td>\n",
       "      <td>None</td>\n",
       "    </tr>\n",
       "    <tr>\n",
       "      <th>5</th>\n",
       "      <td>NAME_INCOME_TYPE</td>\n",
       "      <td>None</td>\n",
       "    </tr>\n",
       "    <tr>\n",
       "      <th>6</th>\n",
       "      <td>NAME_EDUCATION_TYPE</td>\n",
       "      <td>None</td>\n",
       "    </tr>\n",
       "    <tr>\n",
       "      <th>7</th>\n",
       "      <td>NAME_FAMILY_STATUS</td>\n",
       "      <td>None</td>\n",
       "    </tr>\n",
       "    <tr>\n",
       "      <th>8</th>\n",
       "      <td>NAME_HOUSING_TYPE</td>\n",
       "      <td>None</td>\n",
       "    </tr>\n",
       "    <tr>\n",
       "      <th>9</th>\n",
       "      <td>DAYS_BIRTH</td>\n",
       "      <td>None</td>\n",
       "    </tr>\n",
       "    <tr>\n",
       "      <th>10</th>\n",
       "      <td>DAYS_EMPLOYED</td>\n",
       "      <td>None</td>\n",
       "    </tr>\n",
       "    <tr>\n",
       "      <th>11</th>\n",
       "      <td>FLAG_MOBIL</td>\n",
       "      <td>None</td>\n",
       "    </tr>\n",
       "    <tr>\n",
       "      <th>12</th>\n",
       "      <td>FLAG_WORK_PHONE</td>\n",
       "      <td>None</td>\n",
       "    </tr>\n",
       "    <tr>\n",
       "      <th>13</th>\n",
       "      <td>FLAG_PHONE</td>\n",
       "      <td>None</td>\n",
       "    </tr>\n",
       "    <tr>\n",
       "      <th>14</th>\n",
       "      <td>FLAG_EMAIL</td>\n",
       "      <td>None</td>\n",
       "    </tr>\n",
       "    <tr>\n",
       "      <th>15</th>\n",
       "      <td>OCCUPATION_TYPE</td>\n",
       "      <td>None</td>\n",
       "    </tr>\n",
       "    <tr>\n",
       "      <th>16</th>\n",
       "      <td>CNT_FAM_MEMBERS</td>\n",
       "      <td>None</td>\n",
       "    </tr>\n",
       "  </tbody>\n",
       "</table>\n",
       "</div>"
      ],
      "text/plain": [
       "               variable    IV\n",
       "0           CODE_GENDER  None\n",
       "1          FLAG_OWN_CAR  None\n",
       "2       FLAG_OWN_REALTY  None\n",
       "3          CNT_CHILDREN  None\n",
       "4      AMT_INCOME_TOTAL  None\n",
       "5      NAME_INCOME_TYPE  None\n",
       "6   NAME_EDUCATION_TYPE  None\n",
       "7    NAME_FAMILY_STATUS  None\n",
       "8     NAME_HOUSING_TYPE  None\n",
       "9            DAYS_BIRTH  None\n",
       "10        DAYS_EMPLOYED  None\n",
       "11           FLAG_MOBIL  None\n",
       "12      FLAG_WORK_PHONE  None\n",
       "13           FLAG_PHONE  None\n",
       "14           FLAG_EMAIL  None\n",
       "15      OCCUPATION_TYPE  None\n",
       "16      CNT_FAM_MEMBERS  None"
      ]
     },
     "execution_count": 23,
     "metadata": {},
     "output_type": "execute_result"
    }
   ],
   "source": [
    "ivtable"
   ]
  },
  {
   "cell_type": "markdown",
   "metadata": {},
   "source": [
    "Creamos una partición de las variables según su tipo."
   ]
  },
  {
   "cell_type": "code",
   "execution_count": 24,
   "metadata": {},
   "outputs": [],
   "source": [
    "Vars_type = {'str':[],'int':[],'float':[]}\n",
    "for i in Var_x:\n",
    "    if type(list(dataset[i])[0]) == str:\n",
    "        Vars_type['str'].append(i)\n",
    "        continue\n",
    "    if type(list(dataset[i])[0]) == int:\n",
    "        Vars_type['int'].append(i)\n",
    "        continue\n",
    "    if type(list(dataset[i])[0]) == float:\n",
    "        Vars_type['float'].append(i)        "
   ]
  },
  {
   "cell_type": "markdown",
   "metadata": {},
   "source": [
    "### Variables tipo string"
   ]
  },
  {
   "cell_type": "markdown",
   "metadata": {},
   "source": [
    "A las variables categóricas vamos a convertirlas a variables tipo dummy, de acuerdo a la siguiente función, que será aplicada luego de obtener el valor $IV$ de la variable."
   ]
  },
  {
   "cell_type": "code",
   "execution_count": 25,
   "metadata": {},
   "outputs": [
    {
     "data": {
      "text/plain": [
       "['CODE_GENDER',\n",
       " 'FLAG_OWN_CAR',\n",
       " 'FLAG_OWN_REALTY',\n",
       " 'NAME_INCOME_TYPE',\n",
       " 'NAME_EDUCATION_TYPE',\n",
       " 'NAME_FAMILY_STATUS',\n",
       " 'NAME_HOUSING_TYPE',\n",
       " 'OCCUPATION_TYPE']"
      ]
     },
     "execution_count": 25,
     "metadata": {},
     "output_type": "execute_result"
    }
   ],
   "source": [
    "Vars_type['str']"
   ]
  },
  {
   "cell_type": "code",
   "execution_count": 26,
   "metadata": {},
   "outputs": [],
   "source": [
    "def convert_dummy(df, feature,rank=0):\n",
    "    pos = pd.get_dummies(df[feature], prefix=feature)\n",
    "    mode = df[feature].value_counts().index[rank]\n",
    "    biggest = feature + '_' + str(mode)\n",
    "    pos.drop([biggest],axis=1,inplace=True)\n",
    "    df.drop([feature],axis=1,inplace=True)\n",
    "    df=df.join(pos)\n",
    "    return df"
   ]
  },
  {
   "cell_type": "markdown",
   "metadata": {},
   "source": [
    "#### CODE_GENDER"
   ]
  },
  {
   "cell_type": "code",
   "execution_count": 27,
   "metadata": {},
   "outputs": [
    {
     "data": {
      "text/plain": [
       "Counter({'M': 12027, 'F': 24430})"
      ]
     },
     "execution_count": 27,
     "metadata": {},
     "output_type": "execute_result"
    }
   ],
   "source": [
    "Counter(dataset['CODE_GENDER'])"
   ]
  },
  {
   "cell_type": "code",
   "execution_count": 28,
   "metadata": {},
   "outputs": [
    {
     "name": "stdout",
     "output_type": "stream",
     "text": [
      "0    24430\n",
      "1    12027\n",
      "Name: CODE_GENDER, dtype: int64\n"
     ]
    }
   ],
   "source": [
    "dataset['CODE_GENDER'] = dataset['CODE_GENDER'].replace(['F','M'],[0,1])\n",
    "print(dataset['CODE_GENDER'].value_counts())\n",
    "iv, data = calc_iv(dataset,'CODE_GENDER','Variable_Objetivo')\n",
    "ivtable.loc[ivtable['variable']=='CODE_GENDER','IV']=iv"
   ]
  },
  {
   "cell_type": "markdown",
   "metadata": {},
   "source": [
    "#### FLAG_OWN_CAR"
   ]
  },
  {
   "cell_type": "code",
   "execution_count": 29,
   "metadata": {},
   "outputs": [
    {
     "data": {
      "text/plain": [
       "Counter({'Y': 13843, 'N': 22614})"
      ]
     },
     "execution_count": 29,
     "metadata": {},
     "output_type": "execute_result"
    }
   ],
   "source": [
    "Counter(dataset['FLAG_OWN_CAR'])"
   ]
  },
  {
   "cell_type": "code",
   "execution_count": 30,
   "metadata": {},
   "outputs": [
    {
     "name": "stdout",
     "output_type": "stream",
     "text": [
      "0    22614\n",
      "1    13843\n",
      "Name: FLAG_OWN_CAR, dtype: int64\n"
     ]
    }
   ],
   "source": [
    "dataset['FLAG_OWN_CAR'] = dataset['FLAG_OWN_CAR'].replace(['N','Y'],[0,1])\n",
    "print(dataset['FLAG_OWN_CAR'].value_counts())\n",
    "iv, data = calc_iv(dataset,'FLAG_OWN_CAR','Variable_Objetivo')\n",
    "ivtable.loc[ivtable['variable']=='FLAG_OWN_CAR','IV']=iv"
   ]
  },
  {
   "cell_type": "markdown",
   "metadata": {},
   "source": [
    "#### FLAG_OWN_REALTY"
   ]
  },
  {
   "cell_type": "code",
   "execution_count": 31,
   "metadata": {},
   "outputs": [
    {
     "data": {
      "text/plain": [
       "Counter({'Y': 24506, 'N': 11951})"
      ]
     },
     "execution_count": 31,
     "metadata": {},
     "output_type": "execute_result"
    }
   ],
   "source": [
    "Counter(dataset['FLAG_OWN_REALTY'])"
   ]
  },
  {
   "cell_type": "code",
   "execution_count": 32,
   "metadata": {},
   "outputs": [
    {
     "name": "stdout",
     "output_type": "stream",
     "text": [
      "1    24506\n",
      "0    11951\n",
      "Name: FLAG_OWN_REALTY, dtype: int64\n"
     ]
    }
   ],
   "source": [
    "dataset['FLAG_OWN_REALTY'] = dataset['FLAG_OWN_REALTY'].replace(['N','Y'],[0,1])\n",
    "print(dataset['FLAG_OWN_REALTY'].value_counts())\n",
    "iv, data = calc_iv(dataset,'FLAG_OWN_REALTY','Variable_Objetivo')\n",
    "ivtable.loc[ivtable['variable']=='FLAG_OWN_REALTY','IV']=iv"
   ]
  },
  {
   "cell_type": "markdown",
   "metadata": {},
   "source": [
    "#### NAME_INCOME_TYPE"
   ]
  },
  {
   "cell_type": "code",
   "execution_count": 33,
   "metadata": {},
   "outputs": [
    {
     "data": {
      "text/plain": [
       "Counter({'Working': 18819,\n",
       "         'Commercial associate': 8490,\n",
       "         'Pensioner': 6152,\n",
       "         'State servant': 2985,\n",
       "         'Student': 11})"
      ]
     },
     "execution_count": 33,
     "metadata": {},
     "output_type": "execute_result"
    }
   ],
   "source": [
    "Counter(dataset['NAME_INCOME_TYPE'])"
   ]
  },
  {
   "cell_type": "markdown",
   "metadata": {},
   "source": [
    "Mapeamos a 'Pensioner' y 'Student' a 'State servant' para reducir la cantidad de categorias."
   ]
  },
  {
   "cell_type": "code",
   "execution_count": 34,
   "metadata": {},
   "outputs": [],
   "source": [
    "dataset.loc[dataset['NAME_INCOME_TYPE']=='Pensioner','NAME_INCOME_TYPE']='State servant'\n",
    "dataset.loc[dataset['NAME_INCOME_TYPE']=='Student','NAME_INCOME_TYPE']='State servant'\n",
    "iv, data=calc_iv(dataset,'NAME_INCOME_TYPE','Variable_Objetivo')\n",
    "ivtable.loc[ivtable['variable']=='NAME_INCOME_TYPE','IV']=iv\n",
    "dataset = convert_dummy(dataset,'NAME_INCOME_TYPE')"
   ]
  },
  {
   "cell_type": "code",
   "execution_count": 35,
   "metadata": {},
   "outputs": [
    {
     "data": {
      "text/html": [
       "<div>\n",
       "<style scoped>\n",
       "    .dataframe tbody tr th:only-of-type {\n",
       "        vertical-align: middle;\n",
       "    }\n",
       "\n",
       "    .dataframe tbody tr th {\n",
       "        vertical-align: top;\n",
       "    }\n",
       "\n",
       "    .dataframe thead th {\n",
       "        text-align: right;\n",
       "    }\n",
       "</style>\n",
       "<table border=\"1\" class=\"dataframe\">\n",
       "  <thead>\n",
       "    <tr style=\"text-align: right;\">\n",
       "      <th></th>\n",
       "      <th>CODE_GENDER</th>\n",
       "      <th>FLAG_OWN_CAR</th>\n",
       "      <th>FLAG_OWN_REALTY</th>\n",
       "      <th>CNT_CHILDREN</th>\n",
       "      <th>AMT_INCOME_TOTAL</th>\n",
       "      <th>NAME_EDUCATION_TYPE</th>\n",
       "      <th>NAME_FAMILY_STATUS</th>\n",
       "      <th>NAME_HOUSING_TYPE</th>\n",
       "      <th>DAYS_BIRTH</th>\n",
       "      <th>DAYS_EMPLOYED</th>\n",
       "      <th>FLAG_MOBIL</th>\n",
       "      <th>FLAG_WORK_PHONE</th>\n",
       "      <th>FLAG_PHONE</th>\n",
       "      <th>FLAG_EMAIL</th>\n",
       "      <th>OCCUPATION_TYPE</th>\n",
       "      <th>CNT_FAM_MEMBERS</th>\n",
       "      <th>mes_inicial</th>\n",
       "      <th>Variable_Objetivo</th>\n",
       "      <th>NAME_INCOME_TYPE_Commercial associate</th>\n",
       "      <th>NAME_INCOME_TYPE_State servant</th>\n",
       "    </tr>\n",
       "    <tr>\n",
       "      <th>ID</th>\n",
       "      <th></th>\n",
       "      <th></th>\n",
       "      <th></th>\n",
       "      <th></th>\n",
       "      <th></th>\n",
       "      <th></th>\n",
       "      <th></th>\n",
       "      <th></th>\n",
       "      <th></th>\n",
       "      <th></th>\n",
       "      <th></th>\n",
       "      <th></th>\n",
       "      <th></th>\n",
       "      <th></th>\n",
       "      <th></th>\n",
       "      <th></th>\n",
       "      <th></th>\n",
       "      <th></th>\n",
       "      <th></th>\n",
       "      <th></th>\n",
       "    </tr>\n",
       "  </thead>\n",
       "  <tbody>\n",
       "    <tr>\n",
       "      <th>5008804</th>\n",
       "      <td>1</td>\n",
       "      <td>1</td>\n",
       "      <td>1</td>\n",
       "      <td>0</td>\n",
       "      <td>427500.0</td>\n",
       "      <td>Higher education</td>\n",
       "      <td>Civil marriage</td>\n",
       "      <td>Rented apartment</td>\n",
       "      <td>-12005</td>\n",
       "      <td>-4542</td>\n",
       "      <td>1</td>\n",
       "      <td>1</td>\n",
       "      <td>0</td>\n",
       "      <td>0</td>\n",
       "      <td>Others</td>\n",
       "      <td>2.0</td>\n",
       "      <td>-15.0</td>\n",
       "      <td>0</td>\n",
       "      <td>0</td>\n",
       "      <td>0</td>\n",
       "    </tr>\n",
       "    <tr>\n",
       "      <th>5008805</th>\n",
       "      <td>1</td>\n",
       "      <td>1</td>\n",
       "      <td>1</td>\n",
       "      <td>0</td>\n",
       "      <td>427500.0</td>\n",
       "      <td>Higher education</td>\n",
       "      <td>Civil marriage</td>\n",
       "      <td>Rented apartment</td>\n",
       "      <td>-12005</td>\n",
       "      <td>-4542</td>\n",
       "      <td>1</td>\n",
       "      <td>1</td>\n",
       "      <td>0</td>\n",
       "      <td>0</td>\n",
       "      <td>Others</td>\n",
       "      <td>2.0</td>\n",
       "      <td>-14.0</td>\n",
       "      <td>0</td>\n",
       "      <td>0</td>\n",
       "      <td>0</td>\n",
       "    </tr>\n",
       "    <tr>\n",
       "      <th>5008806</th>\n",
       "      <td>1</td>\n",
       "      <td>1</td>\n",
       "      <td>1</td>\n",
       "      <td>0</td>\n",
       "      <td>112500.0</td>\n",
       "      <td>Secondary / secondary special</td>\n",
       "      <td>Married</td>\n",
       "      <td>House / apartment</td>\n",
       "      <td>-21474</td>\n",
       "      <td>-1134</td>\n",
       "      <td>1</td>\n",
       "      <td>0</td>\n",
       "      <td>0</td>\n",
       "      <td>0</td>\n",
       "      <td>Security staff</td>\n",
       "      <td>2.0</td>\n",
       "      <td>-29.0</td>\n",
       "      <td>0</td>\n",
       "      <td>0</td>\n",
       "      <td>0</td>\n",
       "    </tr>\n",
       "    <tr>\n",
       "      <th>5008808</th>\n",
       "      <td>0</td>\n",
       "      <td>0</td>\n",
       "      <td>1</td>\n",
       "      <td>0</td>\n",
       "      <td>270000.0</td>\n",
       "      <td>Secondary / secondary special</td>\n",
       "      <td>Single / not married</td>\n",
       "      <td>House / apartment</td>\n",
       "      <td>-19110</td>\n",
       "      <td>-3051</td>\n",
       "      <td>1</td>\n",
       "      <td>0</td>\n",
       "      <td>1</td>\n",
       "      <td>1</td>\n",
       "      <td>Sales staff</td>\n",
       "      <td>1.0</td>\n",
       "      <td>-4.0</td>\n",
       "      <td>0</td>\n",
       "      <td>1</td>\n",
       "      <td>0</td>\n",
       "    </tr>\n",
       "    <tr>\n",
       "      <th>5008809</th>\n",
       "      <td>0</td>\n",
       "      <td>0</td>\n",
       "      <td>1</td>\n",
       "      <td>0</td>\n",
       "      <td>270000.0</td>\n",
       "      <td>Secondary / secondary special</td>\n",
       "      <td>Single / not married</td>\n",
       "      <td>House / apartment</td>\n",
       "      <td>-19110</td>\n",
       "      <td>-3051</td>\n",
       "      <td>1</td>\n",
       "      <td>0</td>\n",
       "      <td>1</td>\n",
       "      <td>1</td>\n",
       "      <td>Sales staff</td>\n",
       "      <td>1.0</td>\n",
       "      <td>-26.0</td>\n",
       "      <td>0</td>\n",
       "      <td>1</td>\n",
       "      <td>0</td>\n",
       "    </tr>\n",
       "  </tbody>\n",
       "</table>\n",
       "</div>"
      ],
      "text/plain": [
       "         CODE_GENDER  FLAG_OWN_CAR  FLAG_OWN_REALTY  CNT_CHILDREN  \\\n",
       "ID                                                                  \n",
       "5008804            1             1                1             0   \n",
       "5008805            1             1                1             0   \n",
       "5008806            1             1                1             0   \n",
       "5008808            0             0                1             0   \n",
       "5008809            0             0                1             0   \n",
       "\n",
       "         AMT_INCOME_TOTAL            NAME_EDUCATION_TYPE  \\\n",
       "ID                                                         \n",
       "5008804          427500.0               Higher education   \n",
       "5008805          427500.0               Higher education   \n",
       "5008806          112500.0  Secondary / secondary special   \n",
       "5008808          270000.0  Secondary / secondary special   \n",
       "5008809          270000.0  Secondary / secondary special   \n",
       "\n",
       "           NAME_FAMILY_STATUS  NAME_HOUSING_TYPE  DAYS_BIRTH  DAYS_EMPLOYED  \\\n",
       "ID                                                                            \n",
       "5008804        Civil marriage   Rented apartment      -12005          -4542   \n",
       "5008805        Civil marriage   Rented apartment      -12005          -4542   \n",
       "5008806               Married  House / apartment      -21474          -1134   \n",
       "5008808  Single / not married  House / apartment      -19110          -3051   \n",
       "5008809  Single / not married  House / apartment      -19110          -3051   \n",
       "\n",
       "         FLAG_MOBIL  FLAG_WORK_PHONE  FLAG_PHONE  FLAG_EMAIL OCCUPATION_TYPE  \\\n",
       "ID                                                                             \n",
       "5008804           1                1           0           0          Others   \n",
       "5008805           1                1           0           0          Others   \n",
       "5008806           1                0           0           0  Security staff   \n",
       "5008808           1                0           1           1     Sales staff   \n",
       "5008809           1                0           1           1     Sales staff   \n",
       "\n",
       "         CNT_FAM_MEMBERS  mes_inicial  Variable_Objetivo  \\\n",
       "ID                                                         \n",
       "5008804              2.0        -15.0                  0   \n",
       "5008805              2.0        -14.0                  0   \n",
       "5008806              2.0        -29.0                  0   \n",
       "5008808              1.0         -4.0                  0   \n",
       "5008809              1.0        -26.0                  0   \n",
       "\n",
       "         NAME_INCOME_TYPE_Commercial associate  NAME_INCOME_TYPE_State servant  \n",
       "ID                                                                              \n",
       "5008804                                      0                               0  \n",
       "5008805                                      0                               0  \n",
       "5008806                                      0                               0  \n",
       "5008808                                      1                               0  \n",
       "5008809                                      1                               0  "
      ]
     },
     "execution_count": 35,
     "metadata": {},
     "output_type": "execute_result"
    }
   ],
   "source": [
    "dataset.head()"
   ]
  },
  {
   "cell_type": "markdown",
   "metadata": {},
   "source": [
    "#### NAME_EDUCATION_TYPE"
   ]
  },
  {
   "cell_type": "code",
   "execution_count": 36,
   "metadata": {},
   "outputs": [
    {
     "data": {
      "text/plain": [
       "Counter({'Higher education': 9864,\n",
       "         'Secondary / secondary special': 24777,\n",
       "         'Incomplete higher': 1410,\n",
       "         'Lower secondary': 374,\n",
       "         'Academic degree': 32})"
      ]
     },
     "execution_count": 36,
     "metadata": {},
     "output_type": "execute_result"
    }
   ],
   "source": [
    "Counter(dataset['NAME_EDUCATION_TYPE'])"
   ]
  },
  {
   "cell_type": "markdown",
   "metadata": {},
   "source": [
    "Mapeamos a 'Academic degree' a 'Higher education' para reducir la cantidad de categorias."
   ]
  },
  {
   "cell_type": "code",
   "execution_count": 37,
   "metadata": {},
   "outputs": [],
   "source": [
    "dataset.loc[dataset['NAME_EDUCATION_TYPE']=='Academic degree','NAME_EDUCATION_TYPE']='Higher education'\n",
    "iv, data=calc_iv(dataset,'NAME_EDUCATION_TYPE','Variable_Objetivo')\n",
    "ivtable.loc[ivtable['variable']=='NAME_EDUCATION_TYPE','IV']=iv\n",
    "dataset = convert_dummy(dataset,'NAME_EDUCATION_TYPE')"
   ]
  },
  {
   "cell_type": "markdown",
   "metadata": {},
   "source": [
    "#### NAME_FAMILY_STATUS"
   ]
  },
  {
   "cell_type": "code",
   "execution_count": 38,
   "metadata": {
    "scrolled": true
   },
   "outputs": [
    {
     "data": {
      "text/plain": [
       "Counter({'Civil marriage': 2945,\n",
       "         'Married': 25048,\n",
       "         'Single / not married': 4829,\n",
       "         'Separated': 2103,\n",
       "         'Widow': 1532})"
      ]
     },
     "execution_count": 38,
     "metadata": {},
     "output_type": "execute_result"
    }
   ],
   "source": [
    "Counter(dataset['NAME_FAMILY_STATUS'])"
   ]
  },
  {
   "cell_type": "code",
   "execution_count": 39,
   "metadata": {},
   "outputs": [],
   "source": [
    "iv, data=calc_iv(dataset,'NAME_FAMILY_STATUS','Variable_Objetivo')\n",
    "ivtable.loc[ivtable['variable']=='NAME_FAMILY_STATUS','IV']=iv\n",
    "dataset = convert_dummy(dataset,'NAME_FAMILY_STATUS')"
   ]
  },
  {
   "cell_type": "markdown",
   "metadata": {},
   "source": [
    "#### NAME_HOUSING_TYPE"
   ]
  },
  {
   "cell_type": "code",
   "execution_count": 40,
   "metadata": {},
   "outputs": [
    {
     "data": {
      "text/plain": [
       "Counter({'Rented apartment': 575,\n",
       "         'House / apartment': 32548,\n",
       "         'Municipal apartment': 1128,\n",
       "         'With parents': 1776,\n",
       "         'Co-op apartment': 168,\n",
       "         'Office apartment': 262})"
      ]
     },
     "execution_count": 40,
     "metadata": {},
     "output_type": "execute_result"
    }
   ],
   "source": [
    "Counter(dataset['NAME_HOUSING_TYPE'])"
   ]
  },
  {
   "cell_type": "code",
   "execution_count": 41,
   "metadata": {},
   "outputs": [],
   "source": [
    "iv, data=calc_iv(dataset,'NAME_HOUSING_TYPE','Variable_Objetivo')\n",
    "ivtable.loc[ivtable['variable']=='NAME_HOUSING_TYPE','IV']=iv\n",
    "dataset = convert_dummy(dataset,'NAME_HOUSING_TYPE')"
   ]
  },
  {
   "cell_type": "markdown",
   "metadata": {},
   "source": [
    "#### OCCUPATION_TYPE"
   ]
  },
  {
   "cell_type": "code",
   "execution_count": 42,
   "metadata": {},
   "outputs": [
    {
     "data": {
      "text/plain": [
       "Counter({'Others': 11323,\n",
       "         'Security staff': 592,\n",
       "         'Sales staff': 3485,\n",
       "         'Accountants': 1241,\n",
       "         'Laborers': 6211,\n",
       "         'Managers': 3012,\n",
       "         'Drivers': 2138,\n",
       "         'Core staff': 3591,\n",
       "         'High skill tech staff': 1383,\n",
       "         'Cleaning staff': 551,\n",
       "         'Private service staff': 344,\n",
       "         'Cooking staff': 655,\n",
       "         'Low-skill Laborers': 175,\n",
       "         'Medicine staff': 1207,\n",
       "         'Secretaries': 151,\n",
       "         'Waiters/barmen staff': 174,\n",
       "         'HR staff': 85,\n",
       "         'Realty agents': 79,\n",
       "         'IT staff': 60})"
      ]
     },
     "execution_count": 42,
     "metadata": {},
     "output_type": "execute_result"
    }
   ],
   "source": [
    "Counter(dataset['OCCUPATION_TYPE'])"
   ]
  },
  {
   "cell_type": "markdown",
   "metadata": {},
   "source": [
    "Mapeamos 'Cleaning staff',  'Cooking staff', 'Drivers', 'Laborers', 'Low-skill Laborers', 'Security staff', 'Waiters/barmen staff' a una categoria común 'Laborwk'.\n",
    "\n",
    "También mapeamos 'Accountants', 'Core staff', 'HR staff', 'Medicine staf', 'Private service staff', 'Realty agents', 'Sales staff', 'Secretaries' a una categoría común 'officewk'.\n",
    "\n",
    "También mapeamos 'Managers', 'High skill tech staff', 'IT staff' a una categoría común 'hightecwk'."
   ]
  },
  {
   "cell_type": "code",
   "execution_count": 43,
   "metadata": {},
   "outputs": [
    {
     "name": "stdout",
     "output_type": "stream",
     "text": [
      "Others       11323\n",
      "Laborwk      10496\n",
      "officewk     10183\n",
      "hightecwk     4455\n",
      "Name: OCCUPATION_TYPE, dtype: int64\n"
     ]
    }
   ],
   "source": [
    "dataset.loc[(dataset['OCCUPATION_TYPE']=='Cleaning staff') | (dataset['OCCUPATION_TYPE']=='Cooking staff') | (dataset['OCCUPATION_TYPE']=='Drivers') | (dataset['OCCUPATION_TYPE']=='Laborers') | (dataset['OCCUPATION_TYPE']=='Low-skill Laborers') | (dataset['OCCUPATION_TYPE']=='Security staff') | (dataset['OCCUPATION_TYPE']=='Waiters/barmen staff'),'OCCUPATION_TYPE']='Laborwk'\n",
    "dataset.loc[(dataset['OCCUPATION_TYPE']=='Accountants') | (dataset['OCCUPATION_TYPE']=='Core staff') | (dataset['OCCUPATION_TYPE']=='HR staff') | (dataset['OCCUPATION_TYPE']=='Medicine staff') | (dataset['OCCUPATION_TYPE']=='Private service staff') | (dataset['OCCUPATION_TYPE']=='Realty agents') | (dataset['OCCUPATION_TYPE']=='Sales staff') | (dataset['OCCUPATION_TYPE']=='Secretaries'),'OCCUPATION_TYPE']='officewk'\n",
    "dataset.loc[(dataset['OCCUPATION_TYPE']=='Managers') | (dataset['OCCUPATION_TYPE']=='High skill tech staff') | (dataset['OCCUPATION_TYPE']=='IT staff'),'OCCUPATION_TYPE']='hightecwk'\n",
    "print(dataset['OCCUPATION_TYPE'].value_counts())\n",
    "iv, data=calc_iv(dataset,'OCCUPATION_TYPE','Variable_Objetivo')\n",
    "ivtable.loc[ivtable['variable']=='OCCUPATION_TYPE','IV']=iv\n",
    "dataset = convert_dummy(dataset,'OCCUPATION_TYPE')"
   ]
  },
  {
   "cell_type": "markdown",
   "metadata": {},
   "source": [
    "### Variables enteras\n",
    "Para las variables numéricas las vamos a convertir a categorías de acuerdo a la siguiente función:"
   ]
  },
  {
   "cell_type": "code",
   "execution_count": 44,
   "metadata": {},
   "outputs": [],
   "source": [
    "def get_category(df, col, binsnum, labels, qcut = False):\n",
    "    if qcut:\n",
    "        localdf = pd.qcut(df[col], q = binsnum, labels = labels) # Distribución en cuanto a cuantiles\n",
    "    else:\n",
    "        localdf = pd.cut(df[col], bins = binsnum, labels = labels) # Distribución en cuanto a distancias equivalentes\n",
    "        \n",
    "    localdf = pd.DataFrame(localdf)\n",
    "    name = 'gp' + '_' + col\n",
    "    localdf[name] = localdf[col]\n",
    "    df = df.join(localdf[name])\n",
    "    df[name] = df[name].astype(object)\n",
    "    return df"
   ]
  },
  {
   "cell_type": "code",
   "execution_count": 45,
   "metadata": {},
   "outputs": [
    {
     "data": {
      "text/plain": [
       "['CNT_CHILDREN',\n",
       " 'DAYS_BIRTH',\n",
       " 'DAYS_EMPLOYED',\n",
       " 'FLAG_MOBIL',\n",
       " 'FLAG_WORK_PHONE',\n",
       " 'FLAG_PHONE',\n",
       " 'FLAG_EMAIL']"
      ]
     },
     "execution_count": 45,
     "metadata": {},
     "output_type": "execute_result"
    }
   ],
   "source": [
    "Vars_type['int']"
   ]
  },
  {
   "cell_type": "markdown",
   "metadata": {},
   "source": [
    "#### CNT_CHILDREN"
   ]
  },
  {
   "cell_type": "code",
   "execution_count": 46,
   "metadata": {},
   "outputs": [
    {
     "data": {
      "text/plain": [
       "<AxesSubplot:ylabel='Frequency'>"
      ]
     },
     "execution_count": 46,
     "metadata": {},
     "output_type": "execute_result"
    },
    {
     "data": {
      "image/png": "[encoded data removed]",
      "text/plain": [
       "<Figure size 432x288 with 1 Axes>"
      ]
     },
     "metadata": {
      "needs_background": "light"
     },
     "output_type": "display_data"
    }
   ],
   "source": [
    "dataset['CNT_CHILDREN'].plot(kind='hist',bins=10,density=True)"
   ]
  },
  {
   "cell_type": "markdown",
   "metadata": {},
   "source": [
    "Vemos que agrupar a partir de dos es una buena opción."
   ]
  },
  {
   "cell_type": "code",
   "execution_count": 47,
   "metadata": {},
   "outputs": [
    {
     "name": "stdout",
     "output_type": "stream",
     "text": [
      "0        25201\n",
      "1         7492\n",
      "2More     3764\n",
      "Name: CNT_CHILDREN, dtype: int64\n"
     ]
    }
   ],
   "source": [
    "dataset.loc[dataset['CNT_CHILDREN'] >= 2,'CNT_CHILDREN']='2More'\n",
    "print(dataset['CNT_CHILDREN'].value_counts(sort=False))\n",
    "iv, data=calc_iv(dataset,'CNT_CHILDREN','Variable_Objetivo')\n",
    "ivtable.loc[ivtable['variable']=='CNT_CHILDREN','IV']=iv\n",
    "dataset = convert_dummy(dataset,'CNT_CHILDREN')"
   ]
  },
  {
   "cell_type": "markdown",
   "metadata": {},
   "source": [
    "#### DAYS_BIRTH"
   ]
  },
  {
   "cell_type": "code",
   "execution_count": 48,
   "metadata": {},
   "outputs": [
    {
     "data": {
      "text/plain": [
       "<AxesSubplot:ylabel='Frequency'>"
      ]
     },
     "execution_count": 48,
     "metadata": {},
     "output_type": "execute_result"
    },
    {
     "data": {
      "image/png": "[encoded data removed]",
      "text/plain": [
       "<Figure size 432x288 with 1 Axes>"
      ]
     },
     "metadata": {
      "needs_background": "light"
     },
     "output_type": "display_data"
    }
   ],
   "source": [
    "dataset['DAYS_BIRTH'] = -(dataset['DAYS_BIRTH'])//365\n",
    "dataset['DAYS_BIRTH'].plot(kind='hist',bins=20,density=True)"
   ]
  },
  {
   "cell_type": "markdown",
   "metadata": {},
   "source": [
    "Hacemos cambio de nombre ya que la variable fue transformada de significado."
   ]
  },
  {
   "cell_type": "code",
   "execution_count": 49,
   "metadata": {},
   "outputs": [],
   "source": [
    "dataset = dataset.rename(columns={'DAYS_BIRTH': 'Age'})\n",
    "ivtable.loc[ivtable['variable']=='DAYS_BIRTH','variable']='Age'"
   ]
  },
  {
   "cell_type": "code",
   "execution_count": 50,
   "metadata": {},
   "outputs": [],
   "source": [
    "dataset = get_category(dataset,'Age',5, [\"lowest\",\"low\",\"medium\",\"high\",\"highest\"])\n",
    "iv, data = calc_iv(dataset,'gp_Age','Variable_Objetivo')\n",
    "ivtable.loc[ivtable['variable']=='Age','IV'] = iv\n",
    "dataset = convert_dummy(dataset,'gp_Age')"
   ]
  },
  {
   "cell_type": "markdown",
   "metadata": {},
   "source": [
    "#### DAYS_EMPLOYED\n",
    "\n",
    "Hacemos un mapeo de la variable, si luego del mapeo hay valores negativos los amputamos con 'np.nan' para posteriormente llenarlos con la media de la variable."
   ]
  },
  {
   "cell_type": "code",
   "execution_count": 51,
   "metadata": {},
   "outputs": [
    {
     "name": "stderr",
     "output_type": "stream",
     "text": [
      "C:\\Users\\jose-\\Anaconda3\\envs\\tensorflowGPU\\lib\\site-packages\\ipykernel_launcher.py:3: SettingWithCopyWarning: \n",
      "A value is trying to be set on a copy of a slice from a DataFrame\n",
      "\n",
      "See the caveats in the documentation: https://pandas.pydata.org/pandas-docs/stable/user_guide/indexing.html#returning-a-view-versus-a-copy\n",
      "  This is separate from the ipykernel package so we can avoid doing imports until\n"
     ]
    },
    {
     "data": {
      "text/plain": [
       "<AxesSubplot:ylabel='Frequency'>"
      ]
     },
     "execution_count": 51,
     "metadata": {},
     "output_type": "execute_result"
    },
    {
     "data": {
      "image/png": "[encoded data removed]",
      "text/plain": [
       "<Figure size 432x288 with 1 Axes>"
      ]
     },
     "metadata": {
      "needs_background": "light"
     },
     "output_type": "display_data"
    }
   ],
   "source": [
    "dataset['DAYS_EMPLOYED'] = -(dataset['DAYS_EMPLOYED'])//365\n",
    "dataset['DAYS_EMPLOYED'].plot(kind='hist',bins=20,density=True)\n",
    "dataset['DAYS_EMPLOYED'][dataset['DAYS_EMPLOYED']<0] = np.nan\n",
    "dataset['DAYS_EMPLOYED'].fillna(dataset['DAYS_EMPLOYED'].mean(),inplace=True)\n",
    "dataset['DAYS_EMPLOYED'].plot(kind='hist',bins=20,density=True)"
   ]
  },
  {
   "cell_type": "markdown",
   "metadata": {},
   "source": [
    "Hacemos cambio de nombre ya que la variable fue transformada de significado."
   ]
  },
  {
   "cell_type": "code",
   "execution_count": 52,
   "metadata": {},
   "outputs": [],
   "source": [
    "dataset = dataset.rename(columns={'DAYS_EMPLOYED': 'WorkTime'})\n",
    "ivtable.loc[ivtable['variable']=='DAYS_EMPLOYED','variable']='WorkTime'"
   ]
  },
  {
   "cell_type": "code",
   "execution_count": 53,
   "metadata": {},
   "outputs": [],
   "source": [
    "dataset = get_category(dataset,'WorkTime',5, [\"lowest\",\"low\",\"medium\",\"high\",\"highest\"])\n",
    "iv, data = calc_iv(dataset,'gp_WorkTime','Variable_Objetivo')\n",
    "ivtable.loc[ivtable['variable']=='WorkTime','IV'] = iv\n",
    "dataset = convert_dummy(dataset,'gp_WorkTime')"
   ]
  },
  {
   "cell_type": "markdown",
   "metadata": {},
   "source": [
    "#### FLAG_MOBIL"
   ]
  },
  {
   "cell_type": "code",
   "execution_count": 54,
   "metadata": {
    "scrolled": true
   },
   "outputs": [
    {
     "data": {
      "text/plain": [
       "Counter({1: 36457})"
      ]
     },
     "execution_count": 54,
     "metadata": {},
     "output_type": "execute_result"
    }
   ],
   "source": [
    "Counter(dataset['FLAG_MOBIL'])"
   ]
  },
  {
   "cell_type": "markdown",
   "metadata": {},
   "source": [
    "Descartamos la variable."
   ]
  },
  {
   "cell_type": "code",
   "execution_count": 55,
   "metadata": {},
   "outputs": [],
   "source": [
    "namelist = ['FLAG_MOBIL']\n",
    "\n",
    "for i in namelist:\n",
    "    ivtable.drop(ivtable[ivtable['variable'] == i].index, inplace=True)"
   ]
  },
  {
   "cell_type": "markdown",
   "metadata": {},
   "source": [
    "#### FLAG_WORK_PHONE"
   ]
  },
  {
   "cell_type": "code",
   "execution_count": 56,
   "metadata": {},
   "outputs": [
    {
     "data": {
      "text/plain": [
       "Counter({1: 8222, 0: 28235})"
      ]
     },
     "execution_count": 56,
     "metadata": {},
     "output_type": "execute_result"
    }
   ],
   "source": [
    "Counter(dataset['FLAG_WORK_PHONE'])"
   ]
  },
  {
   "cell_type": "code",
   "execution_count": 57,
   "metadata": {},
   "outputs": [],
   "source": [
    "iv, data=calc_iv(dataset,'FLAG_WORK_PHONE','Variable_Objetivo')\n",
    "ivtable.loc[ivtable['variable']=='FLAG_WORK_PHONE','IV']=iv"
   ]
  },
  {
   "cell_type": "markdown",
   "metadata": {},
   "source": [
    "#### FLAG_PHONE"
   ]
  },
  {
   "cell_type": "code",
   "execution_count": 58,
   "metadata": {},
   "outputs": [
    {
     "data": {
      "text/plain": [
       "Counter({0: 25709, 1: 10748})"
      ]
     },
     "execution_count": 58,
     "metadata": {},
     "output_type": "execute_result"
    }
   ],
   "source": [
    "Counter(dataset['FLAG_PHONE'])"
   ]
  },
  {
   "cell_type": "code",
   "execution_count": 59,
   "metadata": {},
   "outputs": [],
   "source": [
    "iv, data=calc_iv(dataset,'FLAG_PHONE','Variable_Objetivo')\n",
    "ivtable.loc[ivtable['variable']=='FLAG_PHONE','IV']=iv"
   ]
  },
  {
   "cell_type": "markdown",
   "metadata": {},
   "source": [
    "#### FLAG_EMAIL"
   ]
  },
  {
   "cell_type": "code",
   "execution_count": 60,
   "metadata": {},
   "outputs": [
    {
     "data": {
      "text/plain": [
       "Counter({0: 33186, 1: 3271})"
      ]
     },
     "execution_count": 60,
     "metadata": {},
     "output_type": "execute_result"
    }
   ],
   "source": [
    "Counter(dataset['FLAG_EMAIL'])"
   ]
  },
  {
   "cell_type": "code",
   "execution_count": 61,
   "metadata": {},
   "outputs": [],
   "source": [
    "iv, data=calc_iv(dataset,'FLAG_EMAIL','Variable_Objetivo')\n",
    "ivtable.loc[ivtable['variable']=='FLAG_EMAIL','IV']=iv"
   ]
  },
  {
   "cell_type": "markdown",
   "metadata": {},
   "source": [
    "### Variables flotantes"
   ]
  },
  {
   "cell_type": "code",
   "execution_count": 62,
   "metadata": {},
   "outputs": [
    {
     "data": {
      "text/plain": [
       "['AMT_INCOME_TOTAL', 'CNT_FAM_MEMBERS', 'mes_inicial']"
      ]
     },
     "execution_count": 62,
     "metadata": {},
     "output_type": "execute_result"
    }
   ],
   "source": [
    "Vars_type['float']"
   ]
  },
  {
   "cell_type": "markdown",
   "metadata": {},
   "source": [
    "#### AMT_INCOME_TOTAL"
   ]
  },
  {
   "cell_type": "code",
   "execution_count": 63,
   "metadata": {},
   "outputs": [
    {
     "data": {
      "text/plain": [
       "<AxesSubplot:ylabel='Frequency'>"
      ]
     },
     "execution_count": 63,
     "metadata": {},
     "output_type": "execute_result"
    },
    {
     "data": {
      "image/png": "[encoded data removed]",
      "text/plain": [
       "<Figure size 432x288 with 1 Axes>"
      ]
     },
     "metadata": {
      "needs_background": "light"
     },
     "output_type": "display_data"
    }
   ],
   "source": [
    "dataset['AMT_INCOME_TOTAL'].plot(kind='hist',bins=50,density=True)"
   ]
  },
  {
   "cell_type": "markdown",
   "metadata": {},
   "source": [
    "Creamos tres categorías de ingresos según cuantiles."
   ]
  },
  {
   "cell_type": "code",
   "execution_count": 64,
   "metadata": {},
   "outputs": [],
   "source": [
    "dataset = get_category(dataset,'AMT_INCOME_TOTAL', 3, [\"low\",\"medium\", \"high\"], qcut = True)\n",
    "iv, data = calc_iv(dataset,'gp_AMT_INCOME_TOTAL','Variable_Objetivo')\n",
    "ivtable.loc[ivtable['variable']=='AMT_INCOME_TOTAL','IV']=iv\n",
    "dataset = convert_dummy(dataset,'gp_AMT_INCOME_TOTAL')"
   ]
  },
  {
   "cell_type": "markdown",
   "metadata": {},
   "source": [
    "#### CNT_FAM_MEMBERS"
   ]
  },
  {
   "cell_type": "code",
   "execution_count": 65,
   "metadata": {},
   "outputs": [
    {
     "data": {
      "text/plain": [
       "Counter({2.0: 19463,\n",
       "         1.0: 6987,\n",
       "         5.0: 397,\n",
       "         3.0: 6421,\n",
       "         4.0: 3106,\n",
       "         6.0: 58,\n",
       "         15.0: 3,\n",
       "         7.0: 19,\n",
       "         20.0: 1,\n",
       "         9.0: 2})"
      ]
     },
     "execution_count": 65,
     "metadata": {},
     "output_type": "execute_result"
    }
   ],
   "source": [
    "Counter(dataset['CNT_FAM_MEMBERS'])"
   ]
  },
  {
   "cell_type": "markdown",
   "metadata": {},
   "source": [
    "Haremos una agrupación a partir de 3."
   ]
  },
  {
   "cell_type": "code",
   "execution_count": 66,
   "metadata": {},
   "outputs": [],
   "source": [
    "dataset.loc[dataset['CNT_FAM_MEMBERS']>=3,'CNT_FAM_MEMBERS']='3more'\n",
    "iv, data = calc_iv(dataset,'CNT_FAM_MEMBERS','Variable_Objetivo')\n",
    "ivtable.loc[ivtable['variable']=='CNT_FAM_MEMBERS','IV']=iv\n",
    "dataset = convert_dummy(dataset,'CNT_FAM_MEMBERS')"
   ]
  },
  {
   "cell_type": "markdown",
   "metadata": {},
   "source": [
    "Ahora ya tenemos un dataset totalmente numérico y una estimación de la significancia de las variables."
   ]
  },
  {
   "cell_type": "code",
   "execution_count": 67,
   "metadata": {},
   "outputs": [
    {
     "data": {
      "text/html": [
       "<div>\n",
       "<style scoped>\n",
       "    .dataframe tbody tr th:only-of-type {\n",
       "        vertical-align: middle;\n",
       "    }\n",
       "\n",
       "    .dataframe tbody tr th {\n",
       "        vertical-align: top;\n",
       "    }\n",
       "\n",
       "    .dataframe thead th {\n",
       "        text-align: right;\n",
       "    }\n",
       "</style>\n",
       "<table border=\"1\" class=\"dataframe\">\n",
       "  <thead>\n",
       "    <tr style=\"text-align: right;\">\n",
       "      <th></th>\n",
       "      <th>CODE_GENDER</th>\n",
       "      <th>FLAG_OWN_CAR</th>\n",
       "      <th>FLAG_OWN_REALTY</th>\n",
       "      <th>AMT_INCOME_TOTAL</th>\n",
       "      <th>Age</th>\n",
       "      <th>WorkTime</th>\n",
       "      <th>FLAG_MOBIL</th>\n",
       "      <th>FLAG_WORK_PHONE</th>\n",
       "      <th>FLAG_PHONE</th>\n",
       "      <th>FLAG_EMAIL</th>\n",
       "      <th>...</th>\n",
       "      <th>gp_Age_lowest</th>\n",
       "      <th>gp_Age_medium</th>\n",
       "      <th>gp_WorkTime_high</th>\n",
       "      <th>gp_WorkTime_highest</th>\n",
       "      <th>gp_WorkTime_low</th>\n",
       "      <th>gp_WorkTime_medium</th>\n",
       "      <th>gp_AMT_INCOME_TOTAL_high</th>\n",
       "      <th>gp_AMT_INCOME_TOTAL_medium</th>\n",
       "      <th>CNT_FAM_MEMBERS_1.0</th>\n",
       "      <th>CNT_FAM_MEMBERS_3more</th>\n",
       "    </tr>\n",
       "    <tr>\n",
       "      <th>ID</th>\n",
       "      <th></th>\n",
       "      <th></th>\n",
       "      <th></th>\n",
       "      <th></th>\n",
       "      <th></th>\n",
       "      <th></th>\n",
       "      <th></th>\n",
       "      <th></th>\n",
       "      <th></th>\n",
       "      <th></th>\n",
       "      <th></th>\n",
       "      <th></th>\n",
       "      <th></th>\n",
       "      <th></th>\n",
       "      <th></th>\n",
       "      <th></th>\n",
       "      <th></th>\n",
       "      <th></th>\n",
       "      <th></th>\n",
       "      <th></th>\n",
       "      <th></th>\n",
       "    </tr>\n",
       "  </thead>\n",
       "  <tbody>\n",
       "    <tr>\n",
       "      <th>5008804</th>\n",
       "      <td>1</td>\n",
       "      <td>1</td>\n",
       "      <td>1</td>\n",
       "      <td>427500.0</td>\n",
       "      <td>32</td>\n",
       "      <td>12.0</td>\n",
       "      <td>1</td>\n",
       "      <td>1</td>\n",
       "      <td>0</td>\n",
       "      <td>0</td>\n",
       "      <td>...</td>\n",
       "      <td>0</td>\n",
       "      <td>0</td>\n",
       "      <td>0</td>\n",
       "      <td>0</td>\n",
       "      <td>1</td>\n",
       "      <td>0</td>\n",
       "      <td>1</td>\n",
       "      <td>0</td>\n",
       "      <td>0</td>\n",
       "      <td>0</td>\n",
       "    </tr>\n",
       "    <tr>\n",
       "      <th>5008805</th>\n",
       "      <td>1</td>\n",
       "      <td>1</td>\n",
       "      <td>1</td>\n",
       "      <td>427500.0</td>\n",
       "      <td>32</td>\n",
       "      <td>12.0</td>\n",
       "      <td>1</td>\n",
       "      <td>1</td>\n",
       "      <td>0</td>\n",
       "      <td>0</td>\n",
       "      <td>...</td>\n",
       "      <td>0</td>\n",
       "      <td>0</td>\n",
       "      <td>0</td>\n",
       "      <td>0</td>\n",
       "      <td>1</td>\n",
       "      <td>0</td>\n",
       "      <td>1</td>\n",
       "      <td>0</td>\n",
       "      <td>0</td>\n",
       "      <td>0</td>\n",
       "    </tr>\n",
       "    <tr>\n",
       "      <th>5008806</th>\n",
       "      <td>1</td>\n",
       "      <td>1</td>\n",
       "      <td>1</td>\n",
       "      <td>112500.0</td>\n",
       "      <td>58</td>\n",
       "      <td>3.0</td>\n",
       "      <td>1</td>\n",
       "      <td>0</td>\n",
       "      <td>0</td>\n",
       "      <td>0</td>\n",
       "      <td>...</td>\n",
       "      <td>0</td>\n",
       "      <td>0</td>\n",
       "      <td>0</td>\n",
       "      <td>0</td>\n",
       "      <td>0</td>\n",
       "      <td>0</td>\n",
       "      <td>0</td>\n",
       "      <td>0</td>\n",
       "      <td>0</td>\n",
       "      <td>0</td>\n",
       "    </tr>\n",
       "    <tr>\n",
       "      <th>5008808</th>\n",
       "      <td>0</td>\n",
       "      <td>0</td>\n",
       "      <td>1</td>\n",
       "      <td>270000.0</td>\n",
       "      <td>52</td>\n",
       "      <td>8.0</td>\n",
       "      <td>1</td>\n",
       "      <td>0</td>\n",
       "      <td>1</td>\n",
       "      <td>1</td>\n",
       "      <td>...</td>\n",
       "      <td>0</td>\n",
       "      <td>0</td>\n",
       "      <td>0</td>\n",
       "      <td>0</td>\n",
       "      <td>0</td>\n",
       "      <td>0</td>\n",
       "      <td>1</td>\n",
       "      <td>0</td>\n",
       "      <td>1</td>\n",
       "      <td>0</td>\n",
       "    </tr>\n",
       "    <tr>\n",
       "      <th>5008809</th>\n",
       "      <td>0</td>\n",
       "      <td>0</td>\n",
       "      <td>1</td>\n",
       "      <td>270000.0</td>\n",
       "      <td>52</td>\n",
       "      <td>8.0</td>\n",
       "      <td>1</td>\n",
       "      <td>0</td>\n",
       "      <td>1</td>\n",
       "      <td>1</td>\n",
       "      <td>...</td>\n",
       "      <td>0</td>\n",
       "      <td>0</td>\n",
       "      <td>0</td>\n",
       "      <td>0</td>\n",
       "      <td>0</td>\n",
       "      <td>0</td>\n",
       "      <td>1</td>\n",
       "      <td>0</td>\n",
       "      <td>1</td>\n",
       "      <td>0</td>\n",
       "    </tr>\n",
       "  </tbody>\n",
       "</table>\n",
       "<p>5 rows × 43 columns</p>\n",
       "</div>"
      ],
      "text/plain": [
       "         CODE_GENDER  FLAG_OWN_CAR  FLAG_OWN_REALTY  AMT_INCOME_TOTAL  Age  \\\n",
       "ID                                                                           \n",
       "5008804            1             1                1          427500.0   32   \n",
       "5008805            1             1                1          427500.0   32   \n",
       "5008806            1             1                1          112500.0   58   \n",
       "5008808            0             0                1          270000.0   52   \n",
       "5008809            0             0                1          270000.0   52   \n",
       "\n",
       "         WorkTime  FLAG_MOBIL  FLAG_WORK_PHONE  FLAG_PHONE  FLAG_EMAIL  ...  \\\n",
       "ID                                                                      ...   \n",
       "5008804      12.0           1                1           0           0  ...   \n",
       "5008805      12.0           1                1           0           0  ...   \n",
       "5008806       3.0           1                0           0           0  ...   \n",
       "5008808       8.0           1                0           1           1  ...   \n",
       "5008809       8.0           1                0           1           1  ...   \n",
       "\n",
       "         gp_Age_lowest  gp_Age_medium  gp_WorkTime_high  gp_WorkTime_highest  \\\n",
       "ID                                                                             \n",
       "5008804              0              0                 0                    0   \n",
       "5008805              0              0                 0                    0   \n",
       "5008806              0              0                 0                    0   \n",
       "5008808              0              0                 0                    0   \n",
       "5008809              0              0                 0                    0   \n",
       "\n",
       "         gp_WorkTime_low  gp_WorkTime_medium  gp_AMT_INCOME_TOTAL_high  \\\n",
       "ID                                                                       \n",
       "5008804                1                   0                         1   \n",
       "5008805                1                   0                         1   \n",
       "5008806                0                   0                         0   \n",
       "5008808                0                   0                         1   \n",
       "5008809                0                   0                         1   \n",
       "\n",
       "         gp_AMT_INCOME_TOTAL_medium  CNT_FAM_MEMBERS_1.0  \\\n",
       "ID                                                         \n",
       "5008804                           0                    0   \n",
       "5008805                           0                    0   \n",
       "5008806                           0                    0   \n",
       "5008808                           0                    1   \n",
       "5008809                           0                    1   \n",
       "\n",
       "         CNT_FAM_MEMBERS_3more  \n",
       "ID                              \n",
       "5008804                      0  \n",
       "5008805                      0  \n",
       "5008806                      0  \n",
       "5008808                      0  \n",
       "5008809                      0  \n",
       "\n",
       "[5 rows x 43 columns]"
      ]
     },
     "execution_count": 67,
     "metadata": {},
     "output_type": "execute_result"
    }
   ],
   "source": [
    "dataset.head()"
   ]
  },
  {
   "cell_type": "code",
   "execution_count": 68,
   "metadata": {},
   "outputs": [
    {
     "data": {
      "text/html": [
       "<div>\n",
       "<style scoped>\n",
       "    .dataframe tbody tr th:only-of-type {\n",
       "        vertical-align: middle;\n",
       "    }\n",
       "\n",
       "    .dataframe tbody tr th {\n",
       "        vertical-align: top;\n",
       "    }\n",
       "\n",
       "    .dataframe thead th {\n",
       "        text-align: right;\n",
       "    }\n",
       "</style>\n",
       "<table border=\"1\" class=\"dataframe\">\n",
       "  <thead>\n",
       "    <tr style=\"text-align: right;\">\n",
       "      <th></th>\n",
       "      <th>variable</th>\n",
       "      <th>IV</th>\n",
       "    </tr>\n",
       "  </thead>\n",
       "  <tbody>\n",
       "    <tr>\n",
       "      <th>0</th>\n",
       "      <td>CODE_GENDER</td>\n",
       "      <td>0.0135814</td>\n",
       "    </tr>\n",
       "    <tr>\n",
       "      <th>1</th>\n",
       "      <td>FLAG_OWN_CAR</td>\n",
       "      <td>0.0011443</td>\n",
       "    </tr>\n",
       "    <tr>\n",
       "      <th>2</th>\n",
       "      <td>FLAG_OWN_REALTY</td>\n",
       "      <td>0.0283492</td>\n",
       "    </tr>\n",
       "    <tr>\n",
       "      <th>3</th>\n",
       "      <td>CNT_CHILDREN</td>\n",
       "      <td>0.000748251</td>\n",
       "    </tr>\n",
       "    <tr>\n",
       "      <th>4</th>\n",
       "      <td>AMT_INCOME_TOTAL</td>\n",
       "      <td>0.00357237</td>\n",
       "    </tr>\n",
       "    <tr>\n",
       "      <th>5</th>\n",
       "      <td>NAME_INCOME_TYPE</td>\n",
       "      <td>0.00239048</td>\n",
       "    </tr>\n",
       "    <tr>\n",
       "      <th>6</th>\n",
       "      <td>NAME_EDUCATION_TYPE</td>\n",
       "      <td>0.00916484</td>\n",
       "    </tr>\n",
       "    <tr>\n",
       "      <th>7</th>\n",
       "      <td>NAME_FAMILY_STATUS</td>\n",
       "      <td>0.0301193</td>\n",
       "    </tr>\n",
       "    <tr>\n",
       "      <th>8</th>\n",
       "      <td>NAME_HOUSING_TYPE</td>\n",
       "      <td>0.0157111</td>\n",
       "    </tr>\n",
       "    <tr>\n",
       "      <th>9</th>\n",
       "      <td>Age</td>\n",
       "      <td>0.0089606</td>\n",
       "    </tr>\n",
       "    <tr>\n",
       "      <th>10</th>\n",
       "      <td>WorkTime</td>\n",
       "      <td>0.0200094</td>\n",
       "    </tr>\n",
       "    <tr>\n",
       "      <th>12</th>\n",
       "      <td>FLAG_WORK_PHONE</td>\n",
       "      <td>0.00186496</td>\n",
       "    </tr>\n",
       "    <tr>\n",
       "      <th>13</th>\n",
       "      <td>FLAG_PHONE</td>\n",
       "      <td>0.000150389</td>\n",
       "    </tr>\n",
       "    <tr>\n",
       "      <th>14</th>\n",
       "      <td>FLAG_EMAIL</td>\n",
       "      <td>0.000366477</td>\n",
       "    </tr>\n",
       "    <tr>\n",
       "      <th>15</th>\n",
       "      <td>OCCUPATION_TYPE</td>\n",
       "      <td>0.00340415</td>\n",
       "    </tr>\n",
       "    <tr>\n",
       "      <th>16</th>\n",
       "      <td>CNT_FAM_MEMBERS</td>\n",
       "      <td>0.00733007</td>\n",
       "    </tr>\n",
       "  </tbody>\n",
       "</table>\n",
       "</div>"
      ],
      "text/plain": [
       "               variable           IV\n",
       "0           CODE_GENDER    0.0135814\n",
       "1          FLAG_OWN_CAR    0.0011443\n",
       "2       FLAG_OWN_REALTY    0.0283492\n",
       "3          CNT_CHILDREN  0.000748251\n",
       "4      AMT_INCOME_TOTAL   0.00357237\n",
       "5      NAME_INCOME_TYPE   0.00239048\n",
       "6   NAME_EDUCATION_TYPE   0.00916484\n",
       "7    NAME_FAMILY_STATUS    0.0301193\n",
       "8     NAME_HOUSING_TYPE    0.0157111\n",
       "9                   Age    0.0089606\n",
       "10             WorkTime    0.0200094\n",
       "12      FLAG_WORK_PHONE   0.00186496\n",
       "13           FLAG_PHONE  0.000150389\n",
       "14           FLAG_EMAIL  0.000366477\n",
       "15      OCCUPATION_TYPE   0.00340415\n",
       "16      CNT_FAM_MEMBERS   0.00733007"
      ]
     },
     "execution_count": 68,
     "metadata": {},
     "output_type": "execute_result"
    }
   ],
   "source": [
    "ivtable"
   ]
  },
  {
   "cell_type": "markdown",
   "metadata": {},
   "source": [
    "Hacemos una exploración del conjunto de datos:"
   ]
  },
  {
   "cell_type": "code",
   "execution_count": 69,
   "metadata": {
    "scrolled": true
   },
   "outputs": [
    {
     "data": {
      "text/html": [
       "<div>\n",
       "<style scoped>\n",
       "    .dataframe tbody tr th:only-of-type {\n",
       "        vertical-align: middle;\n",
       "    }\n",
       "\n",
       "    .dataframe tbody tr th {\n",
       "        vertical-align: top;\n",
       "    }\n",
       "\n",
       "    .dataframe thead th {\n",
       "        text-align: right;\n",
       "    }\n",
       "</style>\n",
       "<table border=\"1\" class=\"dataframe\">\n",
       "  <thead>\n",
       "    <tr style=\"text-align: right;\">\n",
       "      <th></th>\n",
       "      <th>CODE_GENDER</th>\n",
       "      <th>FLAG_OWN_CAR</th>\n",
       "      <th>FLAG_OWN_REALTY</th>\n",
       "      <th>AMT_INCOME_TOTAL</th>\n",
       "      <th>Age</th>\n",
       "      <th>WorkTime</th>\n",
       "      <th>FLAG_MOBIL</th>\n",
       "      <th>FLAG_WORK_PHONE</th>\n",
       "      <th>FLAG_PHONE</th>\n",
       "      <th>FLAG_EMAIL</th>\n",
       "      <th>...</th>\n",
       "      <th>gp_Age_lowest</th>\n",
       "      <th>gp_Age_medium</th>\n",
       "      <th>gp_WorkTime_high</th>\n",
       "      <th>gp_WorkTime_highest</th>\n",
       "      <th>gp_WorkTime_low</th>\n",
       "      <th>gp_WorkTime_medium</th>\n",
       "      <th>gp_AMT_INCOME_TOTAL_high</th>\n",
       "      <th>gp_AMT_INCOME_TOTAL_medium</th>\n",
       "      <th>CNT_FAM_MEMBERS_1.0</th>\n",
       "      <th>CNT_FAM_MEMBERS_3more</th>\n",
       "    </tr>\n",
       "  </thead>\n",
       "  <tbody>\n",
       "    <tr>\n",
       "      <th>count</th>\n",
       "      <td>36457.000000</td>\n",
       "      <td>36457.000000</td>\n",
       "      <td>36457.000000</td>\n",
       "      <td>3.645700e+04</td>\n",
       "      <td>36457.000000</td>\n",
       "      <td>36457.000000</td>\n",
       "      <td>36457.0</td>\n",
       "      <td>36457.000000</td>\n",
       "      <td>36457.000000</td>\n",
       "      <td>36457.000000</td>\n",
       "      <td>...</td>\n",
       "      <td>36457.000000</td>\n",
       "      <td>36457.000000</td>\n",
       "      <td>36457.000000</td>\n",
       "      <td>36457.000000</td>\n",
       "      <td>36457.00000</td>\n",
       "      <td>36457.000000</td>\n",
       "      <td>36457.000000</td>\n",
       "      <td>36457.000000</td>\n",
       "      <td>36457.000000</td>\n",
       "      <td>36457.000000</td>\n",
       "    </tr>\n",
       "    <tr>\n",
       "      <th>mean</th>\n",
       "      <td>0.329895</td>\n",
       "      <td>0.379708</td>\n",
       "      <td>0.672189</td>\n",
       "      <td>1.866857e+05</td>\n",
       "      <td>43.260334</td>\n",
       "      <td>6.750544</td>\n",
       "      <td>1.0</td>\n",
       "      <td>0.225526</td>\n",
       "      <td>0.294813</td>\n",
       "      <td>0.089722</td>\n",
       "      <td>...</td>\n",
       "      <td>0.135173</td>\n",
       "      <td>0.234962</td>\n",
       "      <td>0.014346</td>\n",
       "      <td>0.003319</td>\n",
       "      <td>0.16765</td>\n",
       "      <td>0.045506</td>\n",
       "      <td>0.309460</td>\n",
       "      <td>0.293551</td>\n",
       "      <td>0.191650</td>\n",
       "      <td>0.274488</td>\n",
       "    </tr>\n",
       "    <tr>\n",
       "      <th>std</th>\n",
       "      <td>0.470181</td>\n",
       "      <td>0.485321</td>\n",
       "      <td>0.469422</td>\n",
       "      <td>1.017892e+05</td>\n",
       "      <td>11.510414</td>\n",
       "      <td>5.899153</td>\n",
       "      <td>0.0</td>\n",
       "      <td>0.417934</td>\n",
       "      <td>0.455965</td>\n",
       "      <td>0.285787</td>\n",
       "      <td>...</td>\n",
       "      <td>0.341913</td>\n",
       "      <td>0.423981</td>\n",
       "      <td>0.118913</td>\n",
       "      <td>0.057516</td>\n",
       "      <td>0.37356</td>\n",
       "      <td>0.208413</td>\n",
       "      <td>0.462278</td>\n",
       "      <td>0.455395</td>\n",
       "      <td>0.393605</td>\n",
       "      <td>0.446262</td>\n",
       "    </tr>\n",
       "    <tr>\n",
       "      <th>min</th>\n",
       "      <td>0.000000</td>\n",
       "      <td>0.000000</td>\n",
       "      <td>0.000000</td>\n",
       "      <td>2.700000e+04</td>\n",
       "      <td>20.000000</td>\n",
       "      <td>0.000000</td>\n",
       "      <td>1.0</td>\n",
       "      <td>0.000000</td>\n",
       "      <td>0.000000</td>\n",
       "      <td>0.000000</td>\n",
       "      <td>...</td>\n",
       "      <td>0.000000</td>\n",
       "      <td>0.000000</td>\n",
       "      <td>0.000000</td>\n",
       "      <td>0.000000</td>\n",
       "      <td>0.00000</td>\n",
       "      <td>0.000000</td>\n",
       "      <td>0.000000</td>\n",
       "      <td>0.000000</td>\n",
       "      <td>0.000000</td>\n",
       "      <td>0.000000</td>\n",
       "    </tr>\n",
       "    <tr>\n",
       "      <th>25%</th>\n",
       "      <td>0.000000</td>\n",
       "      <td>0.000000</td>\n",
       "      <td>0.000000</td>\n",
       "      <td>1.215000e+05</td>\n",
       "      <td>34.000000</td>\n",
       "      <td>3.000000</td>\n",
       "      <td>1.0</td>\n",
       "      <td>0.000000</td>\n",
       "      <td>0.000000</td>\n",
       "      <td>0.000000</td>\n",
       "      <td>...</td>\n",
       "      <td>0.000000</td>\n",
       "      <td>0.000000</td>\n",
       "      <td>0.000000</td>\n",
       "      <td>0.000000</td>\n",
       "      <td>0.00000</td>\n",
       "      <td>0.000000</td>\n",
       "      <td>0.000000</td>\n",
       "      <td>0.000000</td>\n",
       "      <td>0.000000</td>\n",
       "      <td>0.000000</td>\n",
       "    </tr>\n",
       "    <tr>\n",
       "      <th>50%</th>\n",
       "      <td>0.000000</td>\n",
       "      <td>0.000000</td>\n",
       "      <td>1.000000</td>\n",
       "      <td>1.575000e+05</td>\n",
       "      <td>42.000000</td>\n",
       "      <td>6.000000</td>\n",
       "      <td>1.0</td>\n",
       "      <td>0.000000</td>\n",
       "      <td>0.000000</td>\n",
       "      <td>0.000000</td>\n",
       "      <td>...</td>\n",
       "      <td>0.000000</td>\n",
       "      <td>0.000000</td>\n",
       "      <td>0.000000</td>\n",
       "      <td>0.000000</td>\n",
       "      <td>0.00000</td>\n",
       "      <td>0.000000</td>\n",
       "      <td>0.000000</td>\n",
       "      <td>0.000000</td>\n",
       "      <td>0.000000</td>\n",
       "      <td>0.000000</td>\n",
       "    </tr>\n",
       "    <tr>\n",
       "      <th>75%</th>\n",
       "      <td>1.000000</td>\n",
       "      <td>1.000000</td>\n",
       "      <td>1.000000</td>\n",
       "      <td>2.250000e+05</td>\n",
       "      <td>53.000000</td>\n",
       "      <td>8.000000</td>\n",
       "      <td>1.0</td>\n",
       "      <td>0.000000</td>\n",
       "      <td>1.000000</td>\n",
       "      <td>0.000000</td>\n",
       "      <td>...</td>\n",
       "      <td>0.000000</td>\n",
       "      <td>0.000000</td>\n",
       "      <td>0.000000</td>\n",
       "      <td>0.000000</td>\n",
       "      <td>0.00000</td>\n",
       "      <td>0.000000</td>\n",
       "      <td>1.000000</td>\n",
       "      <td>1.000000</td>\n",
       "      <td>0.000000</td>\n",
       "      <td>1.000000</td>\n",
       "    </tr>\n",
       "    <tr>\n",
       "      <th>max</th>\n",
       "      <td>1.000000</td>\n",
       "      <td>1.000000</td>\n",
       "      <td>1.000000</td>\n",
       "      <td>1.575000e+06</td>\n",
       "      <td>68.000000</td>\n",
       "      <td>43.000000</td>\n",
       "      <td>1.0</td>\n",
       "      <td>1.000000</td>\n",
       "      <td>1.000000</td>\n",
       "      <td>1.000000</td>\n",
       "      <td>...</td>\n",
       "      <td>1.000000</td>\n",
       "      <td>1.000000</td>\n",
       "      <td>1.000000</td>\n",
       "      <td>1.000000</td>\n",
       "      <td>1.00000</td>\n",
       "      <td>1.000000</td>\n",
       "      <td>1.000000</td>\n",
       "      <td>1.000000</td>\n",
       "      <td>1.000000</td>\n",
       "      <td>1.000000</td>\n",
       "    </tr>\n",
       "  </tbody>\n",
       "</table>\n",
       "<p>8 rows × 43 columns</p>\n",
       "</div>"
      ],
      "text/plain": [
       "        CODE_GENDER  FLAG_OWN_CAR  FLAG_OWN_REALTY  AMT_INCOME_TOTAL  \\\n",
       "count  36457.000000  36457.000000     36457.000000      3.645700e+04   \n",
       "mean       0.329895      0.379708         0.672189      1.866857e+05   \n",
       "std        0.470181      0.485321         0.469422      1.017892e+05   \n",
       "min        0.000000      0.000000         0.000000      2.700000e+04   \n",
       "25%        0.000000      0.000000         0.000000      1.215000e+05   \n",
       "50%        0.000000      0.000000         1.000000      1.575000e+05   \n",
       "75%        1.000000      1.000000         1.000000      2.250000e+05   \n",
       "max        1.000000      1.000000         1.000000      1.575000e+06   \n",
       "\n",
       "                Age      WorkTime  FLAG_MOBIL  FLAG_WORK_PHONE    FLAG_PHONE  \\\n",
       "count  36457.000000  36457.000000     36457.0     36457.000000  36457.000000   \n",
       "mean      43.260334      6.750544         1.0         0.225526      0.294813   \n",
       "std       11.510414      5.899153         0.0         0.417934      0.455965   \n",
       "min       20.000000      0.000000         1.0         0.000000      0.000000   \n",
       "25%       34.000000      3.000000         1.0         0.000000      0.000000   \n",
       "50%       42.000000      6.000000         1.0         0.000000      0.000000   \n",
       "75%       53.000000      8.000000         1.0         0.000000      1.000000   \n",
       "max       68.000000     43.000000         1.0         1.000000      1.000000   \n",
       "\n",
       "         FLAG_EMAIL  ...  gp_Age_lowest  gp_Age_medium  gp_WorkTime_high  \\\n",
       "count  36457.000000  ...   36457.000000   36457.000000      36457.000000   \n",
       "mean       0.089722  ...       0.135173       0.234962          0.014346   \n",
       "std        0.285787  ...       0.341913       0.423981          0.118913   \n",
       "min        0.000000  ...       0.000000       0.000000          0.000000   \n",
       "25%        0.000000  ...       0.000000       0.000000          0.000000   \n",
       "50%        0.000000  ...       0.000000       0.000000          0.000000   \n",
       "75%        0.000000  ...       0.000000       0.000000          0.000000   \n",
       "max        1.000000  ...       1.000000       1.000000          1.000000   \n",
       "\n",
       "       gp_WorkTime_highest  gp_WorkTime_low  gp_WorkTime_medium  \\\n",
       "count         36457.000000      36457.00000        36457.000000   \n",
       "mean              0.003319          0.16765            0.045506   \n",
       "std               0.057516          0.37356            0.208413   \n",
       "min               0.000000          0.00000            0.000000   \n",
       "25%               0.000000          0.00000            0.000000   \n",
       "50%               0.000000          0.00000            0.000000   \n",
       "75%               0.000000          0.00000            0.000000   \n",
       "max               1.000000          1.00000            1.000000   \n",
       "\n",
       "       gp_AMT_INCOME_TOTAL_high  gp_AMT_INCOME_TOTAL_medium  \\\n",
       "count              36457.000000                36457.000000   \n",
       "mean                   0.309460                    0.293551   \n",
       "std                    0.462278                    0.455395   \n",
       "min                    0.000000                    0.000000   \n",
       "25%                    0.000000                    0.000000   \n",
       "50%                    0.000000                    0.000000   \n",
       "75%                    1.000000                    1.000000   \n",
       "max                    1.000000                    1.000000   \n",
       "\n",
       "       CNT_FAM_MEMBERS_1.0  CNT_FAM_MEMBERS_3more  \n",
       "count         36457.000000           36457.000000  \n",
       "mean              0.191650               0.274488  \n",
       "std               0.393605               0.446262  \n",
       "min               0.000000               0.000000  \n",
       "25%               0.000000               0.000000  \n",
       "50%               0.000000               0.000000  \n",
       "75%               0.000000               1.000000  \n",
       "max               1.000000               1.000000  \n",
       "\n",
       "[8 rows x 43 columns]"
      ]
     },
     "execution_count": 69,
     "metadata": {},
     "output_type": "execute_result"
    }
   ],
   "source": [
    "dataset.describe()"
   ]
  },
  {
   "cell_type": "markdown",
   "metadata": {},
   "source": [
    "Elegimos variables de acuerdo a su valor IV, si tienen menos de 0.002 descartamos."
   ]
  },
  {
   "cell_type": "code",
   "execution_count": 70,
   "metadata": {},
   "outputs": [
    {
     "data": {
      "text/plain": [
       "['AMT_INCOME_TOTAL',\n",
       " 'Age',\n",
       " 'CNT_CHILDREN_1',\n",
       " 'CNT_CHILDREN_2More',\n",
       " 'CNT_FAM_MEMBERS_1.0',\n",
       " 'CNT_FAM_MEMBERS_3more',\n",
       " 'CODE_GENDER',\n",
       " 'FLAG_EMAIL',\n",
       " 'FLAG_MOBIL',\n",
       " 'FLAG_OWN_CAR',\n",
       " 'FLAG_OWN_REALTY',\n",
       " 'FLAG_PHONE',\n",
       " 'FLAG_WORK_PHONE',\n",
       " 'NAME_EDUCATION_TYPE_Higher education',\n",
       " 'NAME_EDUCATION_TYPE_Incomplete higher',\n",
       " 'NAME_EDUCATION_TYPE_Lower secondary',\n",
       " 'NAME_FAMILY_STATUS_Civil marriage',\n",
       " 'NAME_FAMILY_STATUS_Separated',\n",
       " 'NAME_FAMILY_STATUS_Single / not married',\n",
       " 'NAME_FAMILY_STATUS_Widow',\n",
       " 'NAME_HOUSING_TYPE_Co-op apartment',\n",
       " 'NAME_HOUSING_TYPE_Municipal apartment',\n",
       " 'NAME_HOUSING_TYPE_Office apartment',\n",
       " 'NAME_HOUSING_TYPE_Rented apartment',\n",
       " 'NAME_HOUSING_TYPE_With parents',\n",
       " 'NAME_INCOME_TYPE_Commercial associate',\n",
       " 'NAME_INCOME_TYPE_State servant',\n",
       " 'OCCUPATION_TYPE_Laborwk',\n",
       " 'OCCUPATION_TYPE_hightecwk',\n",
       " 'OCCUPATION_TYPE_officewk',\n",
       " 'Variable_Objetivo',\n",
       " 'WorkTime',\n",
       " 'gp_AMT_INCOME_TOTAL_high',\n",
       " 'gp_AMT_INCOME_TOTAL_medium',\n",
       " 'gp_Age_high',\n",
       " 'gp_Age_highest',\n",
       " 'gp_Age_lowest',\n",
       " 'gp_Age_medium',\n",
       " 'gp_WorkTime_high',\n",
       " 'gp_WorkTime_highest',\n",
       " 'gp_WorkTime_low',\n",
       " 'gp_WorkTime_medium',\n",
       " 'mes_inicial']"
      ]
     },
     "execution_count": 70,
     "metadata": {},
     "output_type": "execute_result"
    }
   ],
   "source": [
    "NombreColumnas = list(dataset.columns)\n",
    "NombreColumnas.sort()\n",
    "NombreColumnas"
   ]
  },
  {
   "cell_type": "code",
   "execution_count": 71,
   "metadata": {},
   "outputs": [
    {
     "data": {
      "text/plain": [
       "1        FLAG_OWN_CAR\n",
       "3        CNT_CHILDREN\n",
       "12    FLAG_WORK_PHONE\n",
       "13         FLAG_PHONE\n",
       "14         FLAG_EMAIL\n",
       "Name: variable, dtype: object"
      ]
     },
     "execution_count": 71,
     "metadata": {},
     "output_type": "execute_result"
    }
   ],
   "source": [
    "ivtable['variable'][ivtable['IV']<0.002]"
   ]
  },
  {
   "cell_type": "code",
   "execution_count": 72,
   "metadata": {},
   "outputs": [],
   "source": [
    "var_out = set(['AMT_INCOME_TOTAL',\n",
    " 'Age',\n",
    " 'FLAG_EMAIL',\n",
    " 'FLAG_MOBIL',\n",
    " 'FLAG_OWN_CAR',\n",
    " 'FLAG_PHONE',\n",
    " 'NAME_FAMILY_STATUS_Widow',\n",
    " 'NAME_INCOME_TYPE_Commercial associate',\n",
    " 'NAME_INCOME_TYPE_State servant',\n",
    " 'WorkTime',\n",
    " 'gp_AMT_INCOME_TOTAL_high',\n",
    " 'gp_AMT_INCOME_TOTAL_medium',\n",
    " 'mes_inicial'])"
   ]
  },
  {
   "cell_type": "code",
   "execution_count": 73,
   "metadata": {},
   "outputs": [],
   "source": [
    "NombreColumnas = list(set(NombreColumnas)-var_out)\n",
    "dataset = dataset[NombreColumnas]\n",
    "Var_x = list(dataset.columns)\n",
    "Var_x.remove(Var_y)"
   ]
  },
  {
   "cell_type": "markdown",
   "metadata": {},
   "source": [
    "Separamos el dataset en 3 conjuntos."
   ]
  },
  {
   "cell_type": "code",
   "execution_count": 74,
   "metadata": {},
   "outputs": [
    {
     "data": {
      "text/plain": [
       "(36457, 29)"
      ]
     },
     "execution_count": 74,
     "metadata": {},
     "output_type": "execute_result"
    }
   ],
   "source": [
    "dataset[Var_x].shape"
   ]
  },
  {
   "cell_type": "code",
   "execution_count": 75,
   "metadata": {},
   "outputs": [],
   "source": [
    "X_train, X_test, y_train, y_test = train_test_split(dataset[Var_x],dataset[Var_y], \n",
    "                                                    stratify=dataset[Var_y], test_size=0.2,\n",
    "                                                    random_state = 0)\n",
    "X_train, X_val, y_train, y_val = train_test_split(X_train,y_train, \n",
    "                                                    stratify=y_train, test_size=0.2,\n",
    "                                                    random_state = 0)\n",
    "X_balance,Y_balance = SMOTE().fit_sample(dataset[Var_x],dataset[Var_y])\n",
    "X_train_balance, X_val_balance, y_train_balance, y_val_balance = train_test_split(X_balance,Y_balance, \n",
    "                                                    stratify=Y_balance, test_size=0.2,\n",
    "                                                    random_state = 0)\n",
    "X_balance = pd.DataFrame(X_balance, columns = X_balance.columns)\n",
    "X_train_balance, X_test_balance, y_train_balance, y_test_balance = train_test_split(X_train_balance,y_train_balance, \n",
    "                                                    stratify=y_train_balance, test_size=0.2,\n",
    "                                                    random_state = 0)"
   ]
  },
  {
   "cell_type": "markdown",
   "metadata": {},
   "source": [
    "Calculamos pesos para utilizar en el dataset desbalanceado."
   ]
  },
  {
   "cell_type": "code",
   "execution_count": 76,
   "metadata": {},
   "outputs": [],
   "source": [
    "Class_Weight = dict(Counter(dataset[Var_y]))"
   ]
  },
  {
   "cell_type": "code",
   "execution_count": 77,
   "metadata": {},
   "outputs": [],
   "source": [
    "for i in Class_Weight:\n",
    "    Class_Weight[i] = len(dataset)/Class_Weight[i]"
   ]
  },
  {
   "cell_type": "markdown",
   "metadata": {},
   "source": [
    "### Red neuronal (Multi-layer Perceptron)\n",
    "#### Balanceo con peso\n",
    "##### Optimizador Adan"
   ]
  },
  {
   "cell_type": "code",
   "execution_count": 78,
   "metadata": {},
   "outputs": [
    {
     "name": "stdout",
     "output_type": "stream",
     "text": [
      "Model: \"sequential\"\n",
      "_________________________________________________________________\n",
      "Layer (type)                 Output Shape              Param #   \n",
      "=================================================================\n",
      "dense (Dense)                (None, 64)                1920      \n",
      "_________________________________________________________________\n",
      "dense_1 (Dense)              (None, 32)                2080      \n",
      "_________________________________________________________________\n",
      "dense_2 (Dense)              (None, 32)                1056      \n",
      "_________________________________________________________________\n",
      "dense_3 (Dense)              (None, 1)                 33        \n",
      "=================================================================\n",
      "Total params: 5,089\n",
      "Trainable params: 5,089\n",
      "Non-trainable params: 0\n",
      "_________________________________________________________________\n"
     ]
    }
   ],
   "source": [
    "if 'model' in globals():\n",
    "    del model\n",
    "model = models.Sequential()\n",
    "model.add(layers.Dense(64, activation = 'relu', input_shape=(X_train.shape[1],)))\n",
    "model.add(layers.Dense(32, activation = 'relu'))\n",
    "model.add(layers.Dense(32, activation = 'relu'))\n",
    "model.add(layers.Dense(1, activation = 'sigmoid'))\n",
    "\n",
    "model.summary()"
   ]
  },
  {
   "cell_type": "code",
   "execution_count": 79,
   "metadata": {},
   "outputs": [],
   "source": [
    "model.compile(optimizer='adam',\n",
    "    loss='binary_crossentropy',\n",
    "    metrics=['accuracy'])"
   ]
  },
  {
   "cell_type": "code",
   "execution_count": 80,
   "metadata": {},
   "outputs": [
    {
     "name": "stdout",
     "output_type": "stream",
     "text": [
      "WARNING:tensorflow:sample_weight modes were coerced from\n",
      "  ...\n",
      "    to  \n",
      "  ['...']\n",
      "WARNING:tensorflow:sample_weight modes were coerced from\n",
      "  ...\n",
      "    to  \n",
      "  ['...']\n",
      "Train on 23332 samples, validate on 5833 samples\n",
      "Epoch 1/64\n",
      "23332/23332 [==============================] - 2s 73us/sample - loss: 1.3881 - accuracy: 0.4535 - val_loss: 1.3823 - val_accuracy: 0.7291\n",
      "Epoch 2/64\n",
      "23332/23332 [==============================] - 1s 36us/sample - loss: 1.3678 - accuracy: 0.6266 - val_loss: 1.3750 - val_accuracy: 0.4967\n",
      "Epoch 3/64\n",
      "23332/23332 [==============================] - 1s 35us/sample - loss: 1.3416 - accuracy: 0.5780 - val_loss: 1.3709 - val_accuracy: 0.6652\n",
      "Epoch 4/64\n",
      "23332/23332 [==============================] - 1s 36us/sample - loss: 1.3134 - accuracy: 0.6144 - val_loss: 1.3583 - val_accuracy: 0.5515\n",
      "Epoch 5/64\n",
      "23332/23332 [==============================] - 1s 36us/sample - loss: 1.2739 - accuracy: 0.6163 - val_loss: 1.4127 - val_accuracy: 0.8430\n",
      "Epoch 6/64\n",
      "23332/23332 [==============================] - 1s 35us/sample - loss: 1.2446 - accuracy: 0.6710 - val_loss: 1.3838 - val_accuracy: 0.7315\n",
      "Epoch 7/64\n",
      "23332/23332 [==============================] - 1s 36us/sample - loss: 1.2018 - accuracy: 0.6885 - val_loss: 1.3596 - val_accuracy: 0.6607\n",
      "Epoch 8/64\n",
      "23332/23332 [==============================] - 1s 36us/sample - loss: 1.1580 - accuracy: 0.7146 - val_loss: 1.3914 - val_accuracy: 0.7128\n",
      "Epoch 9/64\n",
      "23332/23332 [==============================] - 1s 36us/sample - loss: 1.1233 - accuracy: 0.7324 - val_loss: 1.4102 - val_accuracy: 0.7123\n",
      "Epoch 10/64\n",
      "23332/23332 [==============================] - 1s 36us/sample - loss: 1.0859 - accuracy: 0.7377 - val_loss: 1.4479 - val_accuracy: 0.5945\n",
      "Epoch 11/64\n",
      "23332/23332 [==============================] - 1s 35us/sample - loss: 1.0504 - accuracy: 0.7447 - val_loss: 1.5427 - val_accuracy: 0.7684\n",
      "Epoch 12/64\n",
      "23332/23332 [==============================] - 1s 36us/sample - loss: 1.0106 - accuracy: 0.7515 - val_loss: 1.5165 - val_accuracy: 0.7420\n",
      "Epoch 13/64\n",
      "23332/23332 [==============================] - 1s 35us/sample - loss: 0.9771 - accuracy: 0.7731 - val_loss: 1.5243 - val_accuracy: 0.6398\n",
      "Epoch 14/64\n",
      "23332/23332 [==============================] - 1s 40us/sample - loss: 0.9599 - accuracy: 0.7609 - val_loss: 1.5792 - val_accuracy: 0.7115\n",
      "Epoch 15/64\n",
      "23332/23332 [==============================] - 1s 36us/sample - loss: 0.9239 - accuracy: 0.7710 - val_loss: 1.6475 - val_accuracy: 0.7103\n",
      "Epoch 16/64\n",
      "23332/23332 [==============================] - 1s 36us/sample - loss: 0.9085 - accuracy: 0.7803 - val_loss: 1.5981 - val_accuracy: 0.6755\n",
      "Epoch 17/64\n",
      "23332/23332 [==============================] - 1s 36us/sample - loss: 0.8796 - accuracy: 0.7718 - val_loss: 1.8457 - val_accuracy: 0.8424\n",
      "Epoch 18/64\n",
      "23332/23332 [==============================] - 1s 36us/sample - loss: 0.8519 - accuracy: 0.7949 - val_loss: 1.7483 - val_accuracy: 0.7500\n",
      "Epoch 19/64\n",
      "23332/23332 [==============================] - 1s 35us/sample - loss: 0.8308 - accuracy: 0.7979 - val_loss: 1.7891 - val_accuracy: 0.7358\n",
      "Epoch 20/64\n",
      "23332/23332 [==============================] - 1s 36us/sample - loss: 0.8292 - accuracy: 0.7990 - val_loss: 1.8643 - val_accuracy: 0.8059\n",
      "Epoch 21/64\n",
      "23332/23332 [==============================] - 1s 36us/sample - loss: 0.8111 - accuracy: 0.8056 - val_loss: 1.9731 - val_accuracy: 0.7955\n",
      "Epoch 22/64\n",
      "23332/23332 [==============================] - 1s 36us/sample - loss: 0.7937 - accuracy: 0.8066 - val_loss: 2.0019 - val_accuracy: 0.6991\n",
      "Epoch 23/64\n",
      "23332/23332 [==============================] - 1s 36us/sample - loss: 0.7692 - accuracy: 0.8019 - val_loss: 2.2451 - val_accuracy: 0.8188\n",
      "Epoch 24/64\n",
      "23332/23332 [==============================] - 1s 36us/sample - loss: 0.7662 - accuracy: 0.8059 - val_loss: 2.0180 - val_accuracy: 0.7977\n",
      "Epoch 25/64\n",
      "23332/23332 [==============================] - 1s 35us/sample - loss: 0.7708 - accuracy: 0.8015 - val_loss: 2.1171 - val_accuracy: 0.7706\n",
      "Epoch 26/64\n",
      "23332/23332 [==============================] - 1s 36us/sample - loss: 0.7531 - accuracy: 0.8049 - val_loss: 2.5914 - val_accuracy: 0.8647\n",
      "Epoch 27/64\n",
      "23332/23332 [==============================] - 1s 36us/sample - loss: 0.7585 - accuracy: 0.8130 - val_loss: 2.1229 - val_accuracy: 0.7524\n",
      "Epoch 28/64\n",
      "23332/23332 [==============================] - 1s 36us/sample - loss: 0.7332 - accuracy: 0.8171 - val_loss: 2.2740 - val_accuracy: 0.7838\n",
      "Epoch 29/64\n",
      "23332/23332 [==============================] - 1s 36us/sample - loss: 0.7349 - accuracy: 0.8147 - val_loss: 2.3576 - val_accuracy: 0.7979\n",
      "Epoch 30/64\n",
      "23332/23332 [==============================] - 1s 36us/sample - loss: 0.7225 - accuracy: 0.8300 - val_loss: 2.3932 - val_accuracy: 0.7401\n",
      "Epoch 31/64\n",
      "23332/23332 [==============================] - 1s 35us/sample - loss: 0.7138 - accuracy: 0.8099 - val_loss: 2.4880 - val_accuracy: 0.8044\n",
      "Epoch 32/64\n",
      "23332/23332 [==============================] - 1s 36us/sample - loss: 0.6981 - accuracy: 0.8172 - val_loss: 2.7754 - val_accuracy: 0.8568\n",
      "Epoch 33/64\n",
      "23332/23332 [==============================] - 1s 41us/sample - loss: 0.7194 - accuracy: 0.8102 - val_loss: 2.5481 - val_accuracy: 0.7464\n",
      "Epoch 34/64\n",
      "23332/23332 [==============================] - 1s 36us/sample - loss: 0.6943 - accuracy: 0.8121 - val_loss: 2.6566 - val_accuracy: 0.8037\n",
      "Epoch 35/64\n",
      "23332/23332 [==============================] - 1s 35us/sample - loss: 0.6961 - accuracy: 0.8198 - val_loss: 2.4657 - val_accuracy: 0.7696\n",
      "Epoch 36/64\n",
      "23332/23332 [==============================] - 1s 36us/sample - loss: 0.6936 - accuracy: 0.8163 - val_loss: 2.8497 - val_accuracy: 0.8421\n",
      "Epoch 37/64\n",
      "23332/23332 [==============================] - 1s 35us/sample - loss: 0.6924 - accuracy: 0.8213 - val_loss: 2.8694 - val_accuracy: 0.8395\n",
      "Epoch 38/64\n",
      "23332/23332 [==============================] - 1s 36us/sample - loss: 0.6911 - accuracy: 0.8218 - val_loss: 2.5908 - val_accuracy: 0.7950\n",
      "Epoch 39/64\n",
      "23332/23332 [==============================] - 1s 37us/sample - loss: 0.6915 - accuracy: 0.8202 - val_loss: 2.7468 - val_accuracy: 0.8282\n",
      "Epoch 40/64\n",
      "23332/23332 [==============================] - 1s 36us/sample - loss: 0.6755 - accuracy: 0.8153 - val_loss: 2.7334 - val_accuracy: 0.8124\n",
      "Epoch 41/64\n",
      "23332/23332 [==============================] - 1s 36us/sample - loss: 0.6803 - accuracy: 0.8256 - val_loss: 2.6640 - val_accuracy: 0.7725\n",
      "Epoch 42/64\n",
      "23332/23332 [==============================] - 1s 36us/sample - loss: 0.6690 - accuracy: 0.8239 - val_loss: 2.9195 - val_accuracy: 0.8140\n",
      "Epoch 43/64\n",
      "23332/23332 [==============================] - 1s 35us/sample - loss: 0.6722 - accuracy: 0.8190 - val_loss: 2.7020 - val_accuracy: 0.7725\n",
      "Epoch 44/64\n",
      "23332/23332 [==============================] - 1s 37us/sample - loss: 0.6750 - accuracy: 0.8221 - val_loss: 2.7198 - val_accuracy: 0.7399\n",
      "Epoch 45/64\n",
      "23332/23332 [==============================] - 1s 37us/sample - loss: 0.6606 - accuracy: 0.8187 - val_loss: 2.8723 - val_accuracy: 0.8088\n",
      "Epoch 46/64\n",
      "23332/23332 [==============================] - 1s 36us/sample - loss: 0.6622 - accuracy: 0.8200 - val_loss: 2.6110 - val_accuracy: 0.7319\n",
      "Epoch 47/64\n",
      "23332/23332 [==============================] - 1s 36us/sample - loss: 0.6641 - accuracy: 0.8194 - val_loss: 3.1855 - val_accuracy: 0.8556\n",
      "Epoch 48/64\n",
      "23332/23332 [==============================] - 1s 37us/sample - loss: 0.6571 - accuracy: 0.8232 - val_loss: 3.0342 - val_accuracy: 0.8011\n",
      "Epoch 49/64\n",
      "23332/23332 [==============================] - 1s 37us/sample - loss: 0.6577 - accuracy: 0.8210 - val_loss: 2.6804 - val_accuracy: 0.7303\n",
      "Epoch 50/64\n",
      "23332/23332 [==============================] - 1s 36us/sample - loss: 0.6606 - accuracy: 0.8244 - val_loss: 3.0933 - val_accuracy: 0.8015\n",
      "Epoch 51/64\n",
      "23332/23332 [==============================] - 1s 37us/sample - loss: 0.6500 - accuracy: 0.8217 - val_loss: 3.2547 - val_accuracy: 0.8063\n",
      "Epoch 52/64\n",
      "23332/23332 [==============================] - 1s 40us/sample - loss: 0.6350 - accuracy: 0.8277 - val_loss: 3.0457 - val_accuracy: 0.7603\n",
      "Epoch 53/64\n",
      "23332/23332 [==============================] - 1s 36us/sample - loss: 0.6370 - accuracy: 0.8146 - val_loss: 3.3053 - val_accuracy: 0.8277\n",
      "Epoch 54/64\n"
     ]
    },
    {
     "name": "stdout",
     "output_type": "stream",
     "text": [
      "23332/23332 [==============================] - 1s 36us/sample - loss: 0.6471 - accuracy: 0.8245 - val_loss: 3.2816 - val_accuracy: 0.8114\n",
      "Epoch 55/64\n",
      "23332/23332 [==============================] - 1s 36us/sample - loss: 0.6399 - accuracy: 0.8215 - val_loss: 3.4266 - val_accuracy: 0.8404\n",
      "Epoch 56/64\n",
      "23332/23332 [==============================] - 1s 36us/sample - loss: 0.6351 - accuracy: 0.8238 - val_loss: 3.1374 - val_accuracy: 0.7914\n",
      "Epoch 57/64\n",
      "23332/23332 [==============================] - 1s 36us/sample - loss: 0.6487 - accuracy: 0.8253 - val_loss: 3.3380 - val_accuracy: 0.8212\n",
      "Epoch 58/64\n",
      "23332/23332 [==============================] - 1s 36us/sample - loss: 0.6247 - accuracy: 0.8309 - val_loss: 3.0585 - val_accuracy: 0.7744\n",
      "Epoch 59/64\n",
      "23332/23332 [==============================] - 1s 36us/sample - loss: 0.6190 - accuracy: 0.8264 - val_loss: 3.3474 - val_accuracy: 0.8078\n",
      "Epoch 60/64\n",
      "23332/23332 [==============================] - 1s 36us/sample - loss: 0.6355 - accuracy: 0.8286 - val_loss: 3.5212 - val_accuracy: 0.8275\n",
      "Epoch 61/64\n",
      "23332/23332 [==============================] - 1s 37us/sample - loss: 0.6288 - accuracy: 0.8286 - val_loss: 3.2895 - val_accuracy: 0.7984\n",
      "Epoch 62/64\n",
      "23332/23332 [==============================] - 1s 36us/sample - loss: 0.6273 - accuracy: 0.8323 - val_loss: 3.3098 - val_accuracy: 0.7919\n",
      "Epoch 63/64\n",
      "23332/23332 [==============================] - 1s 36us/sample - loss: 0.6218 - accuracy: 0.8100 - val_loss: 3.4676 - val_accuracy: 0.8306\n",
      "Epoch 64/64\n",
      "23332/23332 [==============================] - 1s 36us/sample - loss: 0.6245 - accuracy: 0.8188 - val_loss: 3.3559 - val_accuracy: 0.7848\n"
     ]
    }
   ],
   "source": [
    "history = model.fit(X_train, y_train,\n",
    "                    epochs = 64,\n",
    "                    batch_size = 128,\n",
    "                    validation_data = (X_val, y_val),\n",
    "                    class_weight = Class_Weight\n",
    "                   )"
   ]
  },
  {
   "cell_type": "code",
   "execution_count": 81,
   "metadata": {},
   "outputs": [],
   "source": [
    "medidas = {}"
   ]
  },
  {
   "cell_type": "code",
   "execution_count": 82,
   "metadata": {},
   "outputs": [
    {
     "data": {
      "text/html": [
       "<div>\n",
       "<style scoped>\n",
       "    .dataframe tbody tr th:only-of-type {\n",
       "        vertical-align: middle;\n",
       "    }\n",
       "\n",
       "    .dataframe tbody tr th {\n",
       "        vertical-align: top;\n",
       "    }\n",
       "\n",
       "    .dataframe thead th {\n",
       "        text-align: right;\n",
       "    }\n",
       "</style>\n",
       "<table border=\"1\" class=\"dataframe\">\n",
       "  <thead>\n",
       "    <tr style=\"text-align: right;\">\n",
       "      <th>Real</th>\n",
       "      <th>0</th>\n",
       "      <th>1</th>\n",
       "    </tr>\n",
       "    <tr>\n",
       "      <th>Pred</th>\n",
       "      <th></th>\n",
       "      <th></th>\n",
       "    </tr>\n",
       "  </thead>\n",
       "  <tbody>\n",
       "    <tr>\n",
       "      <th>0</th>\n",
       "      <td>5642</td>\n",
       "      <td>55</td>\n",
       "    </tr>\n",
       "    <tr>\n",
       "      <th>1</th>\n",
       "      <td>1527</td>\n",
       "      <td>68</td>\n",
       "    </tr>\n",
       "  </tbody>\n",
       "</table>\n",
       "</div>"
      ],
      "text/plain": [
       "Real     0   1\n",
       "Pred          \n",
       "0     5642  55\n",
       "1     1527  68"
      ]
     },
     "execution_count": 82,
     "metadata": {},
     "output_type": "execute_result"
    }
   ],
   "source": [
    "pred_piv = model.predict_classes(X_test)\n",
    "pred_piv = pred_piv.reshape((-1,))\n",
    "pd.crosstab(pred_piv,y_test,colnames=['Real'],rownames=['Pred'])"
   ]
  },
  {
   "cell_type": "code",
   "execution_count": 83,
   "metadata": {},
   "outputs": [
    {
     "name": "stderr",
     "output_type": "stream",
     "text": [
      "C:\\Users\\jose-\\Anaconda3\\envs\\tensorflowGPU\\lib\\site-packages\\sklearn\\utils\\validation.py:70: FutureWarning: Pass beta=2 as keyword args. From version 0.25 passing these as positional arguments will result in an error\n",
      "  FutureWarning)\n"
     ]
    }
   ],
   "source": [
    "medidas['Pesos_Adam'] = { 'accuracy' :accuracy_score(y_test,pred_piv),'precision': precision_score(y_test,pred_piv),\n",
    "              'recall': recall_score(y_test,pred_piv),'f1':f1_score(y_test,pred_piv),\n",
    "              'f2': fbeta_score(y_test,pred_piv,2) }"
   ]
  },
  {
   "cell_type": "markdown",
   "metadata": {},
   "source": [
    "##### Optimizador RMSprop"
   ]
  },
  {
   "cell_type": "code",
   "execution_count": 84,
   "metadata": {},
   "outputs": [
    {
     "name": "stdout",
     "output_type": "stream",
     "text": [
      "Model: \"sequential_1\"\n",
      "_________________________________________________________________\n",
      "Layer (type)                 Output Shape              Param #   \n",
      "=================================================================\n",
      "dense_4 (Dense)              (None, 64)                1920      \n",
      "_________________________________________________________________\n",
      "dense_5 (Dense)              (None, 32)                2080      \n",
      "_________________________________________________________________\n",
      "dense_6 (Dense)              (None, 32)                1056      \n",
      "_________________________________________________________________\n",
      "dense_7 (Dense)              (None, 1)                 33        \n",
      "=================================================================\n",
      "Total params: 5,089\n",
      "Trainable params: 5,089\n",
      "Non-trainable params: 0\n",
      "_________________________________________________________________\n"
     ]
    }
   ],
   "source": [
    "if 'model' in globals():\n",
    "    del model\n",
    "\n",
    "model = models.Sequential()\n",
    "model.add(layers.Dense(64, activation = 'relu', input_shape=(X_train.shape[1],)))\n",
    "model.add(layers.Dense(32, activation = 'relu'))\n",
    "model.add(layers.Dense(32, activation = 'relu'))\n",
    "model.add(layers.Dense(1, activation = 'sigmoid'))\n",
    "\n",
    "model.summary()"
   ]
  },
  {
   "cell_type": "code",
   "execution_count": 85,
   "metadata": {},
   "outputs": [],
   "source": [
    "model.compile(optimizer=optimizers.RMSprop(lr=0.001),\n",
    "    loss='binary_crossentropy',\n",
    "    metrics=['accuracy'])"
   ]
  },
  {
   "cell_type": "code",
   "execution_count": 86,
   "metadata": {
    "scrolled": false
   },
   "outputs": [
    {
     "name": "stdout",
     "output_type": "stream",
     "text": [
      "WARNING:tensorflow:sample_weight modes were coerced from\n",
      "  ...\n",
      "    to  \n",
      "  ['...']\n",
      "WARNING:tensorflow:sample_weight modes were coerced from\n",
      "  ...\n",
      "    to  \n",
      "  ['...']\n",
      "Train on 23332 samples, validate on 5833 samples\n",
      "Epoch 1/64\n",
      "23332/23332 [==============================] - 2s 70us/sample - loss: 1.3853 - accuracy: 0.6122 - val_loss: 1.3911 - val_accuracy: 0.9443\n",
      "Epoch 2/64\n",
      "23332/23332 [==============================] - 1s 39us/sample - loss: 1.3717 - accuracy: 0.6890 - val_loss: 1.3776 - val_accuracy: 0.7955\n",
      "Epoch 3/64\n",
      "23332/23332 [==============================] - 1s 39us/sample - loss: 1.3508 - accuracy: 0.6209 - val_loss: 1.4126 - val_accuracy: 0.9345\n",
      "Epoch 4/64\n",
      "23332/23332 [==============================] - 1s 38us/sample - loss: 1.3399 - accuracy: 0.6531 - val_loss: 1.4211 - val_accuracy: 0.8106\n",
      "Epoch 5/64\n",
      "23332/23332 [==============================] - 1s 42us/sample - loss: 1.3338 - accuracy: 0.6262 - val_loss: 1.4063 - val_accuracy: 0.6852\n",
      "Epoch 6/64\n",
      "23332/23332 [==============================] - 1s 38us/sample - loss: 1.3181 - accuracy: 0.6054 - val_loss: 1.4145 - val_accuracy: 0.6588\n",
      "Epoch 7/64\n",
      "23332/23332 [==============================] - 1s 39us/sample - loss: 1.3052 - accuracy: 0.6072 - val_loss: 1.4108 - val_accuracy: 0.7288\n",
      "Epoch 8/64\n",
      "23332/23332 [==============================] - 1s 39us/sample - loss: 1.2947 - accuracy: 0.6353 - val_loss: 1.4253 - val_accuracy: 0.4711\n",
      "Epoch 9/64\n",
      "23332/23332 [==============================] - 1s 39us/sample - loss: 1.2735 - accuracy: 0.6380 - val_loss: 1.4426 - val_accuracy: 0.6258\n",
      "Epoch 10/64\n",
      "23332/23332 [==============================] - 1s 39us/sample - loss: 1.2667 - accuracy: 0.6492 - val_loss: 1.3914 - val_accuracy: 0.4629\n",
      "Epoch 11/64\n",
      "23332/23332 [==============================] - 1s 39us/sample - loss: 1.2409 - accuracy: 0.6484 - val_loss: 1.5122 - val_accuracy: 0.8812\n",
      "Epoch 12/64\n",
      "23332/23332 [==============================] - 1s 38us/sample - loss: 1.2360 - accuracy: 0.6662 - val_loss: 1.4215 - val_accuracy: 0.6969\n",
      "Epoch 13/64\n",
      "23332/23332 [==============================] - 1s 39us/sample - loss: 1.2172 - accuracy: 0.6798 - val_loss: 1.4304 - val_accuracy: 0.6894\n",
      "Epoch 14/64\n",
      "23332/23332 [==============================] - 1s 39us/sample - loss: 1.1981 - accuracy: 0.6883 - val_loss: 1.4283 - val_accuracy: 0.6302\n",
      "Epoch 15/64\n",
      "23332/23332 [==============================] - 1s 39us/sample - loss: 1.1833 - accuracy: 0.6933 - val_loss: 1.4388 - val_accuracy: 0.5753\n",
      "Epoch 16/64\n",
      "23332/23332 [==============================] - 1s 39us/sample - loss: 1.1668 - accuracy: 0.6923 - val_loss: 1.6290 - val_accuracy: 0.8267\n",
      "Epoch 17/64\n",
      "23332/23332 [==============================] - 1s 39us/sample - loss: 1.1640 - accuracy: 0.7023 - val_loss: 1.5731 - val_accuracy: 0.8136\n",
      "Epoch 18/64\n",
      "23332/23332 [==============================] - 1s 38us/sample - loss: 1.1595 - accuracy: 0.7081 - val_loss: 1.5980 - val_accuracy: 0.8082\n",
      "Epoch 19/64\n",
      "23332/23332 [==============================] - 1s 38us/sample - loss: 1.1430 - accuracy: 0.7118 - val_loss: 1.5136 - val_accuracy: 0.7758\n",
      "Epoch 20/64\n",
      "23332/23332 [==============================] - 1s 40us/sample - loss: 1.1280 - accuracy: 0.7113 - val_loss: 1.5364 - val_accuracy: 0.7238\n",
      "Epoch 21/64\n",
      "23332/23332 [==============================] - 1s 39us/sample - loss: 1.1351 - accuracy: 0.7197 - val_loss: 1.4229 - val_accuracy: 0.6875\n",
      "Epoch 22/64\n",
      "23332/23332 [==============================] - 1s 41us/sample - loss: 1.1246 - accuracy: 0.7207 - val_loss: 1.5532 - val_accuracy: 0.7687\n",
      "Epoch 23/64\n",
      "23332/23332 [==============================] - 1s 40us/sample - loss: 1.1168 - accuracy: 0.7231 - val_loss: 1.5254 - val_accuracy: 0.7219\n",
      "Epoch 24/64\n",
      "23332/23332 [==============================] - 1s 39us/sample - loss: 1.1162 - accuracy: 0.7224 - val_loss: 1.5768 - val_accuracy: 0.8181\n",
      "Epoch 25/64\n",
      "23332/23332 [==============================] - 1s 39us/sample - loss: 1.1135 - accuracy: 0.7135 - val_loss: 1.5098 - val_accuracy: 0.7372\n",
      "Epoch 26/64\n",
      "23332/23332 [==============================] - 1s 39us/sample - loss: 1.0985 - accuracy: 0.7239 - val_loss: 1.5402 - val_accuracy: 0.6983\n",
      "Epoch 27/64\n",
      "23332/23332 [==============================] - 1s 40us/sample - loss: 1.0900 - accuracy: 0.7363 - val_loss: 1.5294 - val_accuracy: 0.6431\n",
      "Epoch 28/64\n",
      "23332/23332 [==============================] - 1s 39us/sample - loss: 1.0940 - accuracy: 0.7276 - val_loss: 1.4782 - val_accuracy: 0.5796\n",
      "Epoch 29/64\n",
      "23332/23332 [==============================] - 1s 39us/sample - loss: 1.0821 - accuracy: 0.7258 - val_loss: 1.7509 - val_accuracy: 0.8010\n",
      "Epoch 30/64\n",
      "23332/23332 [==============================] - 1s 39us/sample - loss: 1.0861 - accuracy: 0.7186 - val_loss: 1.5990 - val_accuracy: 0.7864\n",
      "Epoch 31/64\n",
      "23332/23332 [==============================] - 1s 40us/sample - loss: 1.0792 - accuracy: 0.7323 - val_loss: 1.6654 - val_accuracy: 0.7656\n",
      "Epoch 32/64\n",
      "23332/23332 [==============================] - 1s 39us/sample - loss: 1.0856 - accuracy: 0.7248 - val_loss: 1.5549 - val_accuracy: 0.6167\n",
      "Epoch 33/64\n",
      "23332/23332 [==============================] - 1s 39us/sample - loss: 1.0781 - accuracy: 0.7214 - val_loss: 1.6922 - val_accuracy: 0.7835\n",
      "Epoch 34/64\n",
      "23332/23332 [==============================] - 1s 39us/sample - loss: 1.0725 - accuracy: 0.7288 - val_loss: 1.7605 - val_accuracy: 0.7977\n",
      "Epoch 35/64\n",
      "23332/23332 [==============================] - 1s 39us/sample - loss: 1.0640 - accuracy: 0.7293 - val_loss: 1.8145 - val_accuracy: 0.8222\n",
      "Epoch 36/64\n",
      "23332/23332 [==============================] - 1s 38us/sample - loss: 1.0537 - accuracy: 0.7307 - val_loss: 1.5749 - val_accuracy: 0.5373\n",
      "Epoch 37/64\n",
      "23332/23332 [==============================] - 1s 39us/sample - loss: 1.0615 - accuracy: 0.7263 - val_loss: 1.6024 - val_accuracy: 0.6839\n",
      "Epoch 38/64\n",
      "23332/23332 [==============================] - 1s 39us/sample - loss: 1.0598 - accuracy: 0.7323 - val_loss: 1.6488 - val_accuracy: 0.7056\n",
      "Epoch 39/64\n",
      "23332/23332 [==============================] - 1s 39us/sample - loss: 1.0461 - accuracy: 0.7180 - val_loss: 1.9192 - val_accuracy: 0.8817\n",
      "Epoch 40/64\n",
      "23332/23332 [==============================] - 1s 42us/sample - loss: 1.0445 - accuracy: 0.7446 - val_loss: 1.7634 - val_accuracy: 0.7720\n",
      "Epoch 41/64\n",
      "23332/23332 [==============================] - 1s 38us/sample - loss: 1.0468 - accuracy: 0.7373 - val_loss: 1.7446 - val_accuracy: 0.7521\n",
      "Epoch 42/64\n",
      "23332/23332 [==============================] - 1s 39us/sample - loss: 1.0422 - accuracy: 0.7415 - val_loss: 1.7909 - val_accuracy: 0.7600\n",
      "Epoch 43/64\n",
      "23332/23332 [==============================] - 1s 39us/sample - loss: 1.0273 - accuracy: 0.7407 - val_loss: 1.6480 - val_accuracy: 0.6666\n",
      "Epoch 44/64\n",
      "23332/23332 [==============================] - 1s 39us/sample - loss: 1.0242 - accuracy: 0.7368 - val_loss: 1.6921 - val_accuracy: 0.6547\n",
      "Epoch 45/64\n",
      "23332/23332 [==============================] - 1s 39us/sample - loss: 1.0188 - accuracy: 0.7389 - val_loss: 2.0308 - val_accuracy: 0.8529\n",
      "Epoch 46/64\n",
      "23332/23332 [==============================] - 1s 39us/sample - loss: 1.0229 - accuracy: 0.7383 - val_loss: 2.1262 - val_accuracy: 0.8724\n",
      "Epoch 47/64\n",
      "23332/23332 [==============================] - 1s 39us/sample - loss: 1.0375 - accuracy: 0.7381 - val_loss: 1.6814 - val_accuracy: 0.7135\n",
      "Epoch 48/64\n",
      "23332/23332 [==============================] - 1s 38us/sample - loss: 1.0248 - accuracy: 0.7356 - val_loss: 1.7204 - val_accuracy: 0.7043\n",
      "Epoch 49/64\n",
      "23332/23332 [==============================] - 1s 39us/sample - loss: 1.0142 - accuracy: 0.7334 - val_loss: 1.9497 - val_accuracy: 0.8136\n",
      "Epoch 50/64\n",
      "23332/23332 [==============================] - 1s 39us/sample - loss: 1.0116 - accuracy: 0.7424 - val_loss: 1.7958 - val_accuracy: 0.7862\n",
      "Epoch 51/64\n",
      "23332/23332 [==============================] - 1s 39us/sample - loss: 1.0323 - accuracy: 0.7368 - val_loss: 1.9279 - val_accuracy: 0.8004\n",
      "Epoch 52/64\n",
      "23332/23332 [==============================] - 1s 39us/sample - loss: 1.0306 - accuracy: 0.7265 - val_loss: 1.7764 - val_accuracy: 0.7091\n",
      "Epoch 53/64\n",
      "23332/23332 [==============================] - 1s 39us/sample - loss: 1.0297 - accuracy: 0.7337 - val_loss: 1.7910 - val_accuracy: 0.7619\n",
      "Epoch 54/64\n"
     ]
    },
    {
     "name": "stdout",
     "output_type": "stream",
     "text": [
      "23332/23332 [==============================] - 1s 38us/sample - loss: 1.0342 - accuracy: 0.7304 - val_loss: 1.8406 - val_accuracy: 0.7752\n",
      "Epoch 55/64\n",
      "23332/23332 [==============================] - 1s 39us/sample - loss: 1.0193 - accuracy: 0.7343 - val_loss: 1.9384 - val_accuracy: 0.8073\n",
      "Epoch 56/64\n",
      "23332/23332 [==============================] - 1s 38us/sample - loss: 1.0262 - accuracy: 0.7364 - val_loss: 1.7846 - val_accuracy: 0.5633\n",
      "Epoch 57/64\n",
      "23332/23332 [==============================] - 1s 39us/sample - loss: 1.0153 - accuracy: 0.7329 - val_loss: 1.7629 - val_accuracy: 0.6564\n",
      "Epoch 58/64\n",
      "23332/23332 [==============================] - 1s 41us/sample - loss: 1.0074 - accuracy: 0.7404 - val_loss: 1.8910 - val_accuracy: 0.7763\n",
      "Epoch 59/64\n",
      "23332/23332 [==============================] - 1s 39us/sample - loss: 1.0041 - accuracy: 0.7418 - val_loss: 1.6427 - val_accuracy: 0.4889\n",
      "Epoch 60/64\n",
      "23332/23332 [==============================] - 1s 38us/sample - loss: 1.0072 - accuracy: 0.7338 - val_loss: 1.7502 - val_accuracy: 0.6870\n",
      "Epoch 61/64\n",
      "23332/23332 [==============================] - 1s 39us/sample - loss: 1.0210 - accuracy: 0.7335 - val_loss: 1.9410 - val_accuracy: 0.8107\n",
      "Epoch 62/64\n",
      "23332/23332 [==============================] - 1s 39us/sample - loss: 1.0144 - accuracy: 0.7413 - val_loss: 1.9265 - val_accuracy: 0.7917\n",
      "Epoch 63/64\n",
      "23332/23332 [==============================] - 1s 39us/sample - loss: 1.0078 - accuracy: 0.7377 - val_loss: 1.9434 - val_accuracy: 0.8133\n",
      "Epoch 64/64\n",
      "23332/23332 [==============================] - 1s 39us/sample - loss: 1.0128 - accuracy: 0.7368 - val_loss: 1.7136 - val_accuracy: 0.7602\n"
     ]
    }
   ],
   "source": [
    "history = model.fit(X_train, y_train,\n",
    "                    epochs = 64,\n",
    "                    batch_size = 128,\n",
    "                    validation_data = (X_val, y_val),\n",
    "                    class_weight = Class_Weight\n",
    "                   )"
   ]
  },
  {
   "cell_type": "code",
   "execution_count": 87,
   "metadata": {},
   "outputs": [
    {
     "data": {
      "text/html": [
       "<div>\n",
       "<style scoped>\n",
       "    .dataframe tbody tr th:only-of-type {\n",
       "        vertical-align: middle;\n",
       "    }\n",
       "\n",
       "    .dataframe tbody tr th {\n",
       "        vertical-align: top;\n",
       "    }\n",
       "\n",
       "    .dataframe thead th {\n",
       "        text-align: right;\n",
       "    }\n",
       "</style>\n",
       "<table border=\"1\" class=\"dataframe\">\n",
       "  <thead>\n",
       "    <tr style=\"text-align: right;\">\n",
       "      <th>Real</th>\n",
       "      <th>0</th>\n",
       "      <th>1</th>\n",
       "    </tr>\n",
       "    <tr>\n",
       "      <th>Pred</th>\n",
       "      <th></th>\n",
       "      <th></th>\n",
       "    </tr>\n",
       "  </thead>\n",
       "  <tbody>\n",
       "    <tr>\n",
       "      <th>0</th>\n",
       "      <td>5513</td>\n",
       "      <td>60</td>\n",
       "    </tr>\n",
       "    <tr>\n",
       "      <th>1</th>\n",
       "      <td>1656</td>\n",
       "      <td>63</td>\n",
       "    </tr>\n",
       "  </tbody>\n",
       "</table>\n",
       "</div>"
      ],
      "text/plain": [
       "Real     0   1\n",
       "Pred          \n",
       "0     5513  60\n",
       "1     1656  63"
      ]
     },
     "execution_count": 87,
     "metadata": {},
     "output_type": "execute_result"
    }
   ],
   "source": [
    "pred_piv = model.predict_classes(X_test)\n",
    "pred_piv = pred_piv.reshape((-1,))\n",
    "pd.crosstab(pred_piv,y_test,colnames=['Real'],rownames=['Pred'])\n"
   ]
  },
  {
   "cell_type": "code",
   "execution_count": 88,
   "metadata": {},
   "outputs": [
    {
     "name": "stderr",
     "output_type": "stream",
     "text": [
      "C:\\Users\\jose-\\Anaconda3\\envs\\tensorflowGPU\\lib\\site-packages\\sklearn\\utils\\validation.py:70: FutureWarning: Pass beta=2 as keyword args. From version 0.25 passing these as positional arguments will result in an error\n",
      "  FutureWarning)\n"
     ]
    }
   ],
   "source": [
    "medidas['Pesos_RMS'] = { 'accuracy' :accuracy_score(y_test,pred_piv),'precision': precision_score(y_test,pred_piv),\n",
    "              'recall': recall_score(y_test,pred_piv),'f1':f1_score(y_test,pred_piv),\n",
    "              'f2': fbeta_score(y_test,pred_piv,2) }"
   ]
  },
  {
   "cell_type": "markdown",
   "metadata": {},
   "source": [
    "#### Balanceo SMOTE"
   ]
  },
  {
   "cell_type": "code",
   "execution_count": 89,
   "metadata": {},
   "outputs": [
    {
     "name": "stdout",
     "output_type": "stream",
     "text": [
      "Model: \"sequential_2\"\n",
      "_________________________________________________________________\n",
      "Layer (type)                 Output Shape              Param #   \n",
      "=================================================================\n",
      "dense_8 (Dense)              (None, 64)                1920      \n",
      "_________________________________________________________________\n",
      "dense_9 (Dense)              (None, 32)                2080      \n",
      "_________________________________________________________________\n",
      "dense_10 (Dense)             (None, 32)                1056      \n",
      "_________________________________________________________________\n",
      "dense_11 (Dense)             (None, 1)                 33        \n",
      "=================================================================\n",
      "Total params: 5,089\n",
      "Trainable params: 5,089\n",
      "Non-trainable params: 0\n",
      "_________________________________________________________________\n"
     ]
    }
   ],
   "source": [
    "if 'model' in globals():\n",
    "    del model\n",
    "\n",
    "model = models.Sequential()\n",
    "model.add(layers.Dense(64, activation = 'relu', input_shape=(X_train_balance.shape[1],)))\n",
    "model.add(layers.Dense(32, activation = 'relu'))\n",
    "model.add(layers.Dense(32, activation = 'relu'))\n",
    "model.add(layers.Dense(1, activation = 'sigmoid'))\n",
    "\n",
    "model.summary()"
   ]
  },
  {
   "cell_type": "code",
   "execution_count": 90,
   "metadata": {},
   "outputs": [],
   "source": [
    "model.compile(optimizer='adam',\n",
    "    loss='binary_crossentropy',\n",
    "    metrics=['accuracy'])"
   ]
  },
  {
   "cell_type": "code",
   "execution_count": 91,
   "metadata": {},
   "outputs": [
    {
     "name": "stdout",
     "output_type": "stream",
     "text": [
      "Train on 45876 samples, validate on 14337 samples\n",
      "Epoch 1/64\n",
      "45876/45876 [==============================] - 2s 40us/sample - loss: 0.5932 - accuracy: 0.6784 - val_loss: 0.5138 - val_accuracy: 0.7520\n",
      "Epoch 2/64\n",
      "45876/45876 [==============================] - 1s 31us/sample - loss: 0.4753 - accuracy: 0.7713 - val_loss: 0.4562 - val_accuracy: 0.7770\n",
      "Epoch 3/64\n",
      "45876/45876 [==============================] - 1s 31us/sample - loss: 0.4297 - accuracy: 0.7948 - val_loss: 0.4187 - val_accuracy: 0.7984\n",
      "Epoch 4/64\n",
      "45876/45876 [==============================] - 1s 31us/sample - loss: 0.4085 - accuracy: 0.8041 - val_loss: 0.4135 - val_accuracy: 0.8011\n",
      "Epoch 5/64\n",
      "45876/45876 [==============================] - 1s 32us/sample - loss: 0.3966 - accuracy: 0.8106 - val_loss: 0.3965 - val_accuracy: 0.8088\n",
      "Epoch 6/64\n",
      "45876/45876 [==============================] - 1s 31us/sample - loss: 0.3857 - accuracy: 0.8134 - val_loss: 0.3891 - val_accuracy: 0.8119\n",
      "Epoch 7/64\n",
      "45876/45876 [==============================] - 2s 33us/sample - loss: 0.3798 - accuracy: 0.8190 - val_loss: 0.3814 - val_accuracy: 0.8134\n",
      "Epoch 8/64\n",
      "45876/45876 [==============================] - 1s 31us/sample - loss: 0.3757 - accuracy: 0.8199 - val_loss: 0.3805 - val_accuracy: 0.8122\n",
      "Epoch 9/64\n",
      "45876/45876 [==============================] - 1s 31us/sample - loss: 0.3727 - accuracy: 0.8194 - val_loss: 0.3754 - val_accuracy: 0.8143\n",
      "Epoch 10/64\n",
      "45876/45876 [==============================] - 1s 32us/sample - loss: 0.3709 - accuracy: 0.8201 - val_loss: 0.3741 - val_accuracy: 0.8219\n",
      "Epoch 11/64\n",
      "45876/45876 [==============================] - 1s 31us/sample - loss: 0.3678 - accuracy: 0.8219 - val_loss: 0.3740 - val_accuracy: 0.8203\n",
      "Epoch 12/64\n",
      "45876/45876 [==============================] - 1s 30us/sample - loss: 0.3646 - accuracy: 0.8243 - val_loss: 0.3775 - val_accuracy: 0.8219\n",
      "Epoch 13/64\n",
      "45876/45876 [==============================] - 1s 31us/sample - loss: 0.3641 - accuracy: 0.8230 - val_loss: 0.3748 - val_accuracy: 0.8165\n",
      "Epoch 14/64\n",
      "45876/45876 [==============================] - 1s 31us/sample - loss: 0.3641 - accuracy: 0.8227 - val_loss: 0.3726 - val_accuracy: 0.8187\n",
      "Epoch 15/64\n",
      "45876/45876 [==============================] - 1s 31us/sample - loss: 0.3633 - accuracy: 0.8228 - val_loss: 0.3707 - val_accuracy: 0.8203\n",
      "Epoch 16/64\n",
      "45876/45876 [==============================] - 1s 31us/sample - loss: 0.3603 - accuracy: 0.8247 - val_loss: 0.3690 - val_accuracy: 0.8214\n",
      "Epoch 17/64\n",
      "45876/45876 [==============================] - 1s 31us/sample - loss: 0.3599 - accuracy: 0.8253 - val_loss: 0.3635 - val_accuracy: 0.8245\n",
      "Epoch 18/64\n",
      "45876/45876 [==============================] - 2s 33us/sample - loss: 0.3598 - accuracy: 0.8241 - val_loss: 0.3658 - val_accuracy: 0.8257\n",
      "Epoch 19/64\n",
      "45876/45876 [==============================] - 1s 31us/sample - loss: 0.3581 - accuracy: 0.8240 - val_loss: 0.3665 - val_accuracy: 0.8202\n",
      "Epoch 20/64\n",
      "45876/45876 [==============================] - 1s 31us/sample - loss: 0.3598 - accuracy: 0.8239 - val_loss: 0.3642 - val_accuracy: 0.8256\n",
      "Epoch 21/64\n",
      "45876/45876 [==============================] - 1s 31us/sample - loss: 0.3572 - accuracy: 0.8243 - val_loss: 0.3692 - val_accuracy: 0.8196\n",
      "Epoch 22/64\n",
      "45876/45876 [==============================] - 1s 31us/sample - loss: 0.3570 - accuracy: 0.8255 - val_loss: 0.3680 - val_accuracy: 0.8242\n",
      "Epoch 23/64\n",
      "45876/45876 [==============================] - 1s 31us/sample - loss: 0.3565 - accuracy: 0.8256 - val_loss: 0.3684 - val_accuracy: 0.8219\n",
      "Epoch 24/64\n",
      "45876/45876 [==============================] - 1s 31us/sample - loss: 0.3554 - accuracy: 0.8258 - val_loss: 0.3682 - val_accuracy: 0.8203\n",
      "Epoch 25/64\n",
      "45876/45876 [==============================] - 1s 31us/sample - loss: 0.3550 - accuracy: 0.8257 - val_loss: 0.3654 - val_accuracy: 0.8230\n",
      "Epoch 26/64\n",
      "45876/45876 [==============================] - 1s 31us/sample - loss: 0.3536 - accuracy: 0.8257 - val_loss: 0.3700 - val_accuracy: 0.8182\n",
      "Epoch 27/64\n",
      "45876/45876 [==============================] - 1s 31us/sample - loss: 0.3535 - accuracy: 0.8268 - val_loss: 0.3650 - val_accuracy: 0.8226\n",
      "Epoch 28/64\n",
      "45876/45876 [==============================] - 1s 31us/sample - loss: 0.3532 - accuracy: 0.8276 - val_loss: 0.3685 - val_accuracy: 0.8217\n",
      "Epoch 29/64\n",
      "45876/45876 [==============================] - 2s 33us/sample - loss: 0.3538 - accuracy: 0.8256 - val_loss: 0.3613 - val_accuracy: 0.8238\n",
      "Epoch 30/64\n",
      "45876/45876 [==============================] - 1s 32us/sample - loss: 0.3526 - accuracy: 0.8266 - val_loss: 0.3724 - val_accuracy: 0.8200\n",
      "Epoch 31/64\n",
      "45876/45876 [==============================] - 1s 31us/sample - loss: 0.3534 - accuracy: 0.8270 - val_loss: 0.3652 - val_accuracy: 0.8230\n",
      "Epoch 32/64\n",
      "45876/45876 [==============================] - 1s 31us/sample - loss: 0.3528 - accuracy: 0.8264 - val_loss: 0.3668 - val_accuracy: 0.8233\n",
      "Epoch 33/64\n",
      "45876/45876 [==============================] - 1s 31us/sample - loss: 0.3519 - accuracy: 0.8274 - val_loss: 0.3582 - val_accuracy: 0.8253\n",
      "Epoch 34/64\n",
      "45876/45876 [==============================] - 1s 31us/sample - loss: 0.3504 - accuracy: 0.8280 - val_loss: 0.3647 - val_accuracy: 0.8202\n",
      "Epoch 35/64\n",
      "45876/45876 [==============================] - 1s 31us/sample - loss: 0.3501 - accuracy: 0.8281 - val_loss: 0.3708 - val_accuracy: 0.8233\n",
      "Epoch 36/64\n",
      "45876/45876 [==============================] - 1s 31us/sample - loss: 0.3518 - accuracy: 0.8291 - val_loss: 0.3694 - val_accuracy: 0.8207\n",
      "Epoch 37/64\n",
      "45876/45876 [==============================] - 1s 31us/sample - loss: 0.3502 - accuracy: 0.8281 - val_loss: 0.3693 - val_accuracy: 0.8215\n",
      "Epoch 38/64\n",
      "45876/45876 [==============================] - 1s 31us/sample - loss: 0.3497 - accuracy: 0.8271 - val_loss: 0.3620 - val_accuracy: 0.8253\n",
      "Epoch 39/64\n",
      "45876/45876 [==============================] - 1s 30us/sample - loss: 0.3490 - accuracy: 0.8270 - val_loss: 0.3627 - val_accuracy: 0.8286\n",
      "Epoch 40/64\n",
      "45876/45876 [==============================] - 2s 33us/sample - loss: 0.3494 - accuracy: 0.8274 - val_loss: 0.3638 - val_accuracy: 0.8218\n",
      "Epoch 41/64\n",
      "45876/45876 [==============================] - 1s 31us/sample - loss: 0.3495 - accuracy: 0.8263 - val_loss: 0.3606 - val_accuracy: 0.8262\n",
      "Epoch 42/64\n",
      "45876/45876 [==============================] - 1s 31us/sample - loss: 0.3486 - accuracy: 0.8295 - val_loss: 0.3594 - val_accuracy: 0.8245\n",
      "Epoch 43/64\n",
      "45876/45876 [==============================] - 1s 31us/sample - loss: 0.3487 - accuracy: 0.8284 - val_loss: 0.3628 - val_accuracy: 0.8240\n",
      "Epoch 44/64\n",
      "45876/45876 [==============================] - 1s 31us/sample - loss: 0.3484 - accuracy: 0.8271 - val_loss: 0.3604 - val_accuracy: 0.8248\n",
      "Epoch 45/64\n",
      "45876/45876 [==============================] - 1s 31us/sample - loss: 0.3491 - accuracy: 0.8277 - val_loss: 0.3673 - val_accuracy: 0.8214\n",
      "Epoch 46/64\n",
      "45876/45876 [==============================] - 1s 30us/sample - loss: 0.3464 - accuracy: 0.8274 - val_loss: 0.3598 - val_accuracy: 0.8262\n",
      "Epoch 47/64\n",
      "45876/45876 [==============================] - 1s 31us/sample - loss: 0.3472 - accuracy: 0.8285 - val_loss: 0.3617 - val_accuracy: 0.8241\n",
      "Epoch 48/64\n",
      "45876/45876 [==============================] - 1s 31us/sample - loss: 0.3476 - accuracy: 0.8272 - val_loss: 0.3575 - val_accuracy: 0.8281\n",
      "Epoch 49/64\n",
      "45876/45876 [==============================] - 1s 31us/sample - loss: 0.3470 - accuracy: 0.8293 - val_loss: 0.3619 - val_accuracy: 0.8228\n",
      "Epoch 50/64\n",
      "45876/45876 [==============================] - 1s 31us/sample - loss: 0.3472 - accuracy: 0.8276 - val_loss: 0.3610 - val_accuracy: 0.8237\n",
      "Epoch 51/64\n",
      "45876/45876 [==============================] - 1s 32us/sample - loss: 0.3471 - accuracy: 0.8275 - val_loss: 0.3596 - val_accuracy: 0.8272\n",
      "Epoch 52/64\n",
      "45876/45876 [==============================] - 1s 31us/sample - loss: 0.3463 - accuracy: 0.8264 - val_loss: 0.3650 - val_accuracy: 0.8235\n",
      "Epoch 53/64\n",
      "45876/45876 [==============================] - 1s 31us/sample - loss: 0.3467 - accuracy: 0.8279 - val_loss: 0.3584 - val_accuracy: 0.8237\n",
      "Epoch 54/64\n",
      "45876/45876 [==============================] - 1s 31us/sample - loss: 0.3458 - accuracy: 0.8294 - val_loss: 0.3607 - val_accuracy: 0.8247\n",
      "Epoch 55/64\n"
     ]
    },
    {
     "name": "stdout",
     "output_type": "stream",
     "text": [
      "45876/45876 [==============================] - 1s 31us/sample - loss: 0.3457 - accuracy: 0.8280 - val_loss: 0.3649 - val_accuracy: 0.8219\n",
      "Epoch 56/64\n",
      "45876/45876 [==============================] - 1s 30us/sample - loss: 0.3460 - accuracy: 0.8283 - val_loss: 0.3650 - val_accuracy: 0.8260\n",
      "Epoch 57/64\n",
      "45876/45876 [==============================] - 1s 30us/sample - loss: 0.3459 - accuracy: 0.8296 - val_loss: 0.3652 - val_accuracy: 0.8207\n",
      "Epoch 58/64\n",
      "45876/45876 [==============================] - 1s 31us/sample - loss: 0.3449 - accuracy: 0.8297 - val_loss: 0.3602 - val_accuracy: 0.8259\n",
      "Epoch 59/64\n",
      "45876/45876 [==============================] - 1s 31us/sample - loss: 0.3451 - accuracy: 0.8297 - val_loss: 0.3567 - val_accuracy: 0.8281\n",
      "Epoch 60/64\n",
      "45876/45876 [==============================] - 1s 30us/sample - loss: 0.3445 - accuracy: 0.8292 - val_loss: 0.3597 - val_accuracy: 0.8211\n",
      "Epoch 61/64\n",
      "45876/45876 [==============================] - 1s 31us/sample - loss: 0.3442 - accuracy: 0.8307 - val_loss: 0.3614 - val_accuracy: 0.8233\n",
      "Epoch 62/64\n",
      "45876/45876 [==============================] - 1s 31us/sample - loss: 0.3442 - accuracy: 0.8306 - val_loss: 0.3593 - val_accuracy: 0.8267\n",
      "Epoch 63/64\n",
      "45876/45876 [==============================] - 2s 33us/sample - loss: 0.3437 - accuracy: 0.8296 - val_loss: 0.3603 - val_accuracy: 0.8269\n",
      "Epoch 64/64\n",
      "45876/45876 [==============================] - 1s 30us/sample - loss: 0.3439 - accuracy: 0.8286 - val_loss: 0.3589 - val_accuracy: 0.8245\n"
     ]
    }
   ],
   "source": [
    "history = model.fit(X_train_balance, y_train_balance,\n",
    "                    epochs = 64,\n",
    "                    batch_size = 128,\n",
    "                    validation_data = (X_val_balance, y_val_balance)\n",
    "                   )"
   ]
  },
  {
   "cell_type": "code",
   "execution_count": 92,
   "metadata": {},
   "outputs": [
    {
     "data": {
      "text/html": [
       "<div>\n",
       "<style scoped>\n",
       "    .dataframe tbody tr th:only-of-type {\n",
       "        vertical-align: middle;\n",
       "    }\n",
       "\n",
       "    .dataframe tbody tr th {\n",
       "        vertical-align: top;\n",
       "    }\n",
       "\n",
       "    .dataframe thead th {\n",
       "        text-align: right;\n",
       "    }\n",
       "</style>\n",
       "<table border=\"1\" class=\"dataframe\">\n",
       "  <thead>\n",
       "    <tr style=\"text-align: right;\">\n",
       "      <th>Real</th>\n",
       "      <th>0</th>\n",
       "      <th>1</th>\n",
       "    </tr>\n",
       "    <tr>\n",
       "      <th>Pred</th>\n",
       "      <th></th>\n",
       "      <th></th>\n",
       "    </tr>\n",
       "  </thead>\n",
       "  <tbody>\n",
       "    <tr>\n",
       "      <th>0</th>\n",
       "      <td>5298</td>\n",
       "      <td>21</td>\n",
       "    </tr>\n",
       "    <tr>\n",
       "      <th>1</th>\n",
       "      <td>1871</td>\n",
       "      <td>102</td>\n",
       "    </tr>\n",
       "  </tbody>\n",
       "</table>\n",
       "</div>"
      ],
      "text/plain": [
       "Real     0    1\n",
       "Pred           \n",
       "0     5298   21\n",
       "1     1871  102"
      ]
     },
     "execution_count": 92,
     "metadata": {},
     "output_type": "execute_result"
    }
   ],
   "source": [
    "pred_piv = model.predict_classes(X_test)\n",
    "pred_piv = pred_piv.reshape((-1,))\n",
    "pd.crosstab(pred_piv,y_test,colnames=['Real'],rownames=['Pred'])"
   ]
  },
  {
   "cell_type": "code",
   "execution_count": 93,
   "metadata": {},
   "outputs": [
    {
     "name": "stderr",
     "output_type": "stream",
     "text": [
      "C:\\Users\\jose-\\Anaconda3\\envs\\tensorflowGPU\\lib\\site-packages\\sklearn\\utils\\validation.py:70: FutureWarning: Pass beta=2 as keyword args. From version 0.25 passing these as positional arguments will result in an error\n",
      "  FutureWarning)\n"
     ]
    }
   ],
   "source": [
    "medidas['SMOTE_Adam'] = {'accuracy' :accuracy_score(y_test,pred_piv),'precision': precision_score(y_test,pred_piv),\n",
    "              'recall': recall_score(y_test,pred_piv),'f1':f1_score(y_test,pred_piv),\n",
    "              'f2': fbeta_score(y_test,pred_piv,2)}"
   ]
  },
  {
   "cell_type": "markdown",
   "metadata": {},
   "source": [
    "##### Optimizador RMSprop"
   ]
  },
  {
   "cell_type": "code",
   "execution_count": 94,
   "metadata": {},
   "outputs": [
    {
     "name": "stdout",
     "output_type": "stream",
     "text": [
      "Model: \"sequential_3\"\n",
      "_________________________________________________________________\n",
      "Layer (type)                 Output Shape              Param #   \n",
      "=================================================================\n",
      "dense_12 (Dense)             (None, 64)                1920      \n",
      "_________________________________________________________________\n",
      "dense_13 (Dense)             (None, 32)                2080      \n",
      "_________________________________________________________________\n",
      "dense_14 (Dense)             (None, 32)                1056      \n",
      "_________________________________________________________________\n",
      "dense_15 (Dense)             (None, 1)                 33        \n",
      "=================================================================\n",
      "Total params: 5,089\n",
      "Trainable params: 5,089\n",
      "Non-trainable params: 0\n",
      "_________________________________________________________________\n"
     ]
    }
   ],
   "source": [
    "if 'model' in globals():\n",
    "    del model\n",
    "\n",
    "model = models.Sequential()\n",
    "model.add(layers.Dense(64, activation = 'relu', input_shape=(X_train_balance.shape[1],)))\n",
    "model.add(layers.Dense(32, activation = 'relu'))\n",
    "model.add(layers.Dense(32, activation = 'relu'))\n",
    "model.add(layers.Dense(1, activation = 'sigmoid'))\n",
    "\n",
    "model.summary()"
   ]
  },
  {
   "cell_type": "code",
   "execution_count": 95,
   "metadata": {},
   "outputs": [],
   "source": [
    "model.compile(optimizer=optimizers.RMSprop(lr=0.01),\n",
    "    loss='binary_crossentropy',\n",
    "    metrics=['accuracy'])"
   ]
  },
  {
   "cell_type": "code",
   "execution_count": 96,
   "metadata": {},
   "outputs": [
    {
     "name": "stdout",
     "output_type": "stream",
     "text": [
      "Train on 45876 samples, validate on 14337 samples\n",
      "Epoch 1/64\n",
      "45876/45876 [==============================] - 2s 44us/sample - loss: 0.5210 - accuracy: 0.7287 - val_loss: 0.4742 - val_accuracy: 0.7624\n",
      "Epoch 2/64\n",
      "45876/45876 [==============================] - 2s 35us/sample - loss: 0.4248 - accuracy: 0.7950 - val_loss: 0.4046 - val_accuracy: 0.8077\n",
      "Epoch 3/64\n",
      "45876/45876 [==============================] - 2s 34us/sample - loss: 0.3979 - accuracy: 0.8076 - val_loss: 0.3932 - val_accuracy: 0.8050\n",
      "Epoch 4/64\n",
      "45876/45876 [==============================] - 2s 33us/sample - loss: 0.3849 - accuracy: 0.8151 - val_loss: 0.3848 - val_accuracy: 0.8158\n",
      "Epoch 5/64\n",
      "45876/45876 [==============================] - 2s 33us/sample - loss: 0.3774 - accuracy: 0.8178 - val_loss: 0.3874 - val_accuracy: 0.8115\n",
      "Epoch 6/64\n",
      "45876/45876 [==============================] - 2s 33us/sample - loss: 0.3729 - accuracy: 0.8193 - val_loss: 0.3713 - val_accuracy: 0.8202\n",
      "Epoch 7/64\n",
      "45876/45876 [==============================] - 2s 33us/sample - loss: 0.3692 - accuracy: 0.8224 - val_loss: 0.3808 - val_accuracy: 0.8196\n",
      "Epoch 8/64\n",
      "45876/45876 [==============================] - 2s 33us/sample - loss: 0.3656 - accuracy: 0.8255 - val_loss: 0.3731 - val_accuracy: 0.8228\n",
      "Epoch 9/64\n",
      "45876/45876 [==============================] - 2s 34us/sample - loss: 0.3639 - accuracy: 0.8229 - val_loss: 0.3757 - val_accuracy: 0.8219\n",
      "Epoch 10/64\n",
      "45876/45876 [==============================] - 1s 33us/sample - loss: 0.3631 - accuracy: 0.8256 - val_loss: 0.3792 - val_accuracy: 0.8199\n",
      "Epoch 11/64\n",
      "45876/45876 [==============================] - 1s 33us/sample - loss: 0.3610 - accuracy: 0.8261 - val_loss: 0.3832 - val_accuracy: 0.8207\n",
      "Epoch 12/64\n",
      "45876/45876 [==============================] - 2s 33us/sample - loss: 0.3607 - accuracy: 0.8261 - val_loss: 0.3718 - val_accuracy: 0.8184\n",
      "Epoch 13/64\n",
      "45876/45876 [==============================] - 1s 32us/sample - loss: 0.3591 - accuracy: 0.8273 - val_loss: 0.3681 - val_accuracy: 0.8217\n",
      "Epoch 14/64\n",
      "45876/45876 [==============================] - 2s 33us/sample - loss: 0.3592 - accuracy: 0.8265 - val_loss: 0.3746 - val_accuracy: 0.8168\n",
      "Epoch 15/64\n",
      "45876/45876 [==============================] - 2s 33us/sample - loss: 0.3575 - accuracy: 0.8255 - val_loss: 0.3849 - val_accuracy: 0.8228\n",
      "Epoch 16/64\n",
      "45876/45876 [==============================] - 2s 33us/sample - loss: 0.3579 - accuracy: 0.8279 - val_loss: 0.3691 - val_accuracy: 0.8213\n",
      "Epoch 17/64\n",
      "45876/45876 [==============================] - 2s 33us/sample - loss: 0.3573 - accuracy: 0.8266 - val_loss: 0.3726 - val_accuracy: 0.8195\n",
      "Epoch 18/64\n",
      "45876/45876 [==============================] - 2s 33us/sample - loss: 0.3574 - accuracy: 0.8262 - val_loss: 0.3666 - val_accuracy: 0.8201\n",
      "Epoch 19/64\n",
      "45876/45876 [==============================] - 2s 35us/sample - loss: 0.3563 - accuracy: 0.8287 - val_loss: 0.3749 - val_accuracy: 0.8220\n",
      "Epoch 20/64\n",
      "45876/45876 [==============================] - 2s 35us/sample - loss: 0.3572 - accuracy: 0.8275 - val_loss: 0.3754 - val_accuracy: 0.8208\n",
      "Epoch 21/64\n",
      "45876/45876 [==============================] - 2s 35us/sample - loss: 0.3563 - accuracy: 0.8269 - val_loss: 0.3872 - val_accuracy: 0.8192\n",
      "Epoch 22/64\n",
      "45876/45876 [==============================] - 1s 32us/sample - loss: 0.3570 - accuracy: 0.8272 - val_loss: 0.3842 - val_accuracy: 0.8198\n",
      "Epoch 23/64\n",
      "45876/45876 [==============================] - 2s 35us/sample - loss: 0.3558 - accuracy: 0.8277 - val_loss: 0.3709 - val_accuracy: 0.8255\n",
      "Epoch 24/64\n",
      "45876/45876 [==============================] - 2s 33us/sample - loss: 0.3557 - accuracy: 0.8283 - val_loss: 0.3802 - val_accuracy: 0.8245\n",
      "Epoch 25/64\n",
      "45876/45876 [==============================] - 2s 33us/sample - loss: 0.3558 - accuracy: 0.8288 - val_loss: 0.3757 - val_accuracy: 0.8281\n",
      "Epoch 26/64\n",
      "45876/45876 [==============================] - 2s 33us/sample - loss: 0.3551 - accuracy: 0.8283 - val_loss: 0.3801 - val_accuracy: 0.8250\n",
      "Epoch 27/64\n",
      "45876/45876 [==============================] - 2s 33us/sample - loss: 0.3555 - accuracy: 0.8294 - val_loss: 0.3748 - val_accuracy: 0.8249\n",
      "Epoch 28/64\n",
      "45876/45876 [==============================] - 2s 33us/sample - loss: 0.3554 - accuracy: 0.8286 - val_loss: 0.3760 - val_accuracy: 0.8273\n",
      "Epoch 29/64\n",
      "45876/45876 [==============================] - 2s 34us/sample - loss: 0.3557 - accuracy: 0.8291 - val_loss: 0.3701 - val_accuracy: 0.8256\n",
      "Epoch 30/64\n",
      "45876/45876 [==============================] - 2s 34us/sample - loss: 0.3567 - accuracy: 0.8276 - val_loss: 0.3749 - val_accuracy: 0.8250\n",
      "Epoch 31/64\n",
      "45876/45876 [==============================] - 2s 33us/sample - loss: 0.3564 - accuracy: 0.8290 - val_loss: 0.3773 - val_accuracy: 0.8235\n",
      "Epoch 32/64\n",
      "45876/45876 [==============================] - 2s 33us/sample - loss: 0.3552 - accuracy: 0.8293 - val_loss: 0.3726 - val_accuracy: 0.8246\n",
      "Epoch 33/64\n",
      "45876/45876 [==============================] - 2s 34us/sample - loss: 0.3551 - accuracy: 0.8284 - val_loss: 0.3693 - val_accuracy: 0.8265\n",
      "Epoch 34/64\n",
      "45876/45876 [==============================] - 2s 33us/sample - loss: 0.3561 - accuracy: 0.8272 - val_loss: 0.3771 - val_accuracy: 0.8251\n",
      "Epoch 35/64\n",
      "45876/45876 [==============================] - 2s 33us/sample - loss: 0.3564 - accuracy: 0.8286 - val_loss: 0.3715 - val_accuracy: 0.8253\n",
      "Epoch 36/64\n",
      "45876/45876 [==============================] - 2s 33us/sample - loss: 0.3582 - accuracy: 0.8270 - val_loss: 0.3817 - val_accuracy: 0.8223\n",
      "Epoch 37/64\n",
      "45876/45876 [==============================] - 2s 34us/sample - loss: 0.3559 - accuracy: 0.8280 - val_loss: 0.3842 - val_accuracy: 0.8217\n",
      "Epoch 38/64\n",
      "45876/45876 [==============================] - 2s 33us/sample - loss: 0.3569 - accuracy: 0.8273 - val_loss: 0.3873 - val_accuracy: 0.8225\n",
      "Epoch 39/64\n",
      "45876/45876 [==============================] - 2s 33us/sample - loss: 0.3588 - accuracy: 0.8286 - val_loss: 0.3917 - val_accuracy: 0.8193\n",
      "Epoch 40/64\n",
      "45876/45876 [==============================] - 2s 35us/sample - loss: 0.3582 - accuracy: 0.8267 - val_loss: 0.4206 - val_accuracy: 0.8205\n",
      "Epoch 41/64\n",
      "45876/45876 [==============================] - 2s 33us/sample - loss: 0.3584 - accuracy: 0.8280 - val_loss: 0.3871 - val_accuracy: 0.8246\n",
      "Epoch 42/64\n",
      "45876/45876 [==============================] - 2s 33us/sample - loss: 0.3590 - accuracy: 0.8273 - val_loss: 0.3855 - val_accuracy: 0.8215\n",
      "Epoch 43/64\n",
      "45876/45876 [==============================] - 2s 33us/sample - loss: 0.3586 - accuracy: 0.8272 - val_loss: 0.3842 - val_accuracy: 0.8186\n",
      "Epoch 44/64\n",
      "45876/45876 [==============================] - 2s 33us/sample - loss: 0.3582 - accuracy: 0.8297 - val_loss: 0.3978 - val_accuracy: 0.8264\n",
      "Epoch 45/64\n",
      "45876/45876 [==============================] - 2s 34us/sample - loss: 0.3634 - accuracy: 0.8277 - val_loss: 0.3757 - val_accuracy: 0.8222\n",
      "Epoch 46/64\n",
      "45876/45876 [==============================] - 2s 33us/sample - loss: 0.3613 - accuracy: 0.8259 - val_loss: 0.3865 - val_accuracy: 0.8279\n",
      "Epoch 47/64\n",
      "45876/45876 [==============================] - 2s 33us/sample - loss: 0.3597 - accuracy: 0.8267 - val_loss: 0.4090 - val_accuracy: 0.8196\n",
      "Epoch 48/64\n",
      "45876/45876 [==============================] - 1s 33us/sample - loss: 0.3618 - accuracy: 0.8266 - val_loss: 0.3938 - val_accuracy: 0.8261\n",
      "Epoch 49/64\n",
      "45876/45876 [==============================] - 2s 33us/sample - loss: 0.3644 - accuracy: 0.8285 - val_loss: 0.3897 - val_accuracy: 0.8274\n",
      "Epoch 50/64\n",
      "45876/45876 [==============================] - 2s 35us/sample - loss: 0.3602 - accuracy: 0.8269 - val_loss: 0.4159 - val_accuracy: 0.8138\n",
      "Epoch 51/64\n",
      "45876/45876 [==============================] - 2s 34us/sample - loss: 0.3607 - accuracy: 0.8256 - val_loss: 0.3991 - val_accuracy: 0.8223\n",
      "Epoch 52/64\n",
      "45876/45876 [==============================] - 2s 33us/sample - loss: 0.3654 - accuracy: 0.8276 - val_loss: 0.4436 - val_accuracy: 0.8168\n",
      "Epoch 53/64\n",
      "45876/45876 [==============================] - 2s 33us/sample - loss: 0.3664 - accuracy: 0.8264 - val_loss: 0.4101 - val_accuracy: 0.8207\n",
      "Epoch 54/64\n",
      "45876/45876 [==============================] - 2s 33us/sample - loss: 0.3626 - accuracy: 0.8261 - val_loss: 0.4285 - val_accuracy: 0.8245\n",
      "Epoch 55/64\n"
     ]
    },
    {
     "name": "stdout",
     "output_type": "stream",
     "text": [
      "45876/45876 [==============================] - 1s 33us/sample - loss: 0.3665 - accuracy: 0.8269 - val_loss: 0.4455 - val_accuracy: 0.8223\n",
      "Epoch 56/64\n",
      "45876/45876 [==============================] - 2s 33us/sample - loss: 0.3664 - accuracy: 0.8287 - val_loss: 0.4231 - val_accuracy: 0.8228\n",
      "Epoch 57/64\n",
      "45876/45876 [==============================] - 1s 33us/sample - loss: 0.3644 - accuracy: 0.8256 - val_loss: 0.4294 - val_accuracy: 0.8213\n",
      "Epoch 58/64\n",
      "45876/45876 [==============================] - 1s 32us/sample - loss: 0.3707 - accuracy: 0.8261 - val_loss: 0.4920 - val_accuracy: 0.8212\n",
      "Epoch 59/64\n",
      "45876/45876 [==============================] - 2s 33us/sample - loss: 0.3645 - accuracy: 0.8267 - val_loss: 0.5033 - val_accuracy: 0.8037\n",
      "Epoch 60/64\n",
      "45876/45876 [==============================] - 1s 32us/sample - loss: 0.3642 - accuracy: 0.8255 - val_loss: 0.4560 - val_accuracy: 0.8227\n",
      "Epoch 61/64\n",
      "45876/45876 [==============================] - 2s 35us/sample - loss: 0.3662 - accuracy: 0.8258 - val_loss: 0.4599 - val_accuracy: 0.8226\n",
      "Epoch 62/64\n",
      "45876/45876 [==============================] - 1s 32us/sample - loss: 0.3707 - accuracy: 0.8266 - val_loss: 0.4394 - val_accuracy: 0.8189\n",
      "Epoch 63/64\n",
      "45876/45876 [==============================] - 1s 33us/sample - loss: 0.3682 - accuracy: 0.8262 - val_loss: 0.5127 - val_accuracy: 0.8166\n",
      "Epoch 64/64\n",
      "45876/45876 [==============================] - 1s 32us/sample - loss: 0.3709 - accuracy: 0.8266 - val_loss: 0.4814 - val_accuracy: 0.8242\n"
     ]
    }
   ],
   "source": [
    "history = model.fit(X_train_balance, y_train_balance,\n",
    "                    epochs = 64,\n",
    "                    batch_size = 128,\n",
    "                    validation_data = (X_val_balance, y_val_balance)\n",
    "                   )"
   ]
  },
  {
   "cell_type": "code",
   "execution_count": 97,
   "metadata": {},
   "outputs": [
    {
     "data": {
      "text/html": [
       "<div>\n",
       "<style scoped>\n",
       "    .dataframe tbody tr th:only-of-type {\n",
       "        vertical-align: middle;\n",
       "    }\n",
       "\n",
       "    .dataframe tbody tr th {\n",
       "        vertical-align: top;\n",
       "    }\n",
       "\n",
       "    .dataframe thead th {\n",
       "        text-align: right;\n",
       "    }\n",
       "</style>\n",
       "<table border=\"1\" class=\"dataframe\">\n",
       "  <thead>\n",
       "    <tr style=\"text-align: right;\">\n",
       "      <th>Real</th>\n",
       "      <th>0</th>\n",
       "      <th>1</th>\n",
       "    </tr>\n",
       "    <tr>\n",
       "      <th>Pred</th>\n",
       "      <th></th>\n",
       "      <th></th>\n",
       "    </tr>\n",
       "  </thead>\n",
       "  <tbody>\n",
       "    <tr>\n",
       "      <th>0</th>\n",
       "      <td>5181</td>\n",
       "      <td>25</td>\n",
       "    </tr>\n",
       "    <tr>\n",
       "      <th>1</th>\n",
       "      <td>1988</td>\n",
       "      <td>98</td>\n",
       "    </tr>\n",
       "  </tbody>\n",
       "</table>\n",
       "</div>"
      ],
      "text/plain": [
       "Real     0   1\n",
       "Pred          \n",
       "0     5181  25\n",
       "1     1988  98"
      ]
     },
     "execution_count": 97,
     "metadata": {},
     "output_type": "execute_result"
    }
   ],
   "source": [
    "pred_piv = model.predict_classes(X_test)\n",
    "pred_piv = pred_piv.reshape((-1,))\n",
    "pd.crosstab(pred_piv,y_test,colnames=['Real'],rownames=['Pred'])"
   ]
  },
  {
   "cell_type": "code",
   "execution_count": 98,
   "metadata": {},
   "outputs": [
    {
     "name": "stderr",
     "output_type": "stream",
     "text": [
      "C:\\Users\\jose-\\Anaconda3\\envs\\tensorflowGPU\\lib\\site-packages\\sklearn\\utils\\validation.py:70: FutureWarning: Pass beta=2 as keyword args. From version 0.25 passing these as positional arguments will result in an error\n",
      "  FutureWarning)\n"
     ]
    }
   ],
   "source": [
    "medidas['SMOTE_RMS'] = {'accuracy' :accuracy_score(y_test,pred_piv),'precision': precision_score(y_test,pred_piv),\n",
    "              'recall': recall_score(y_test,pred_piv),'f1':f1_score(y_test,pred_piv),\n",
    "              'f2': fbeta_score(y_test,pred_piv,2)}"
   ]
  },
  {
   "cell_type": "code",
   "execution_count": 99,
   "metadata": {},
   "outputs": [
    {
     "data": {
      "text/plain": [
       "{'Pesos_Adam': {'accuracy': 0.7830499177180472,\n",
       "  'precision': 0.042633228840125395,\n",
       "  'recall': 0.5528455284552846,\n",
       "  'f1': 0.07916181606519208,\n",
       "  'f2': 0.16291327264015332},\n",
       " 'Pesos_RMS': {'accuracy': 0.7646736149204608,\n",
       "  'precision': 0.03664921465968586,\n",
       "  'recall': 0.5121951219512195,\n",
       "  'f1': 0.06840390879478828,\n",
       "  'f2': 0.14246947082767977},\n",
       " 'SMOTE_Adam': {'accuracy': 0.7405375754251234,\n",
       "  'precision': 0.051697921946274705,\n",
       "  'recall': 0.8292682926829268,\n",
       "  'f1': 0.09732824427480917,\n",
       "  'f2': 0.2068965517241379},\n",
       " 'SMOTE_RMS': {'accuracy': 0.723944048272079,\n",
       "  'precision': 0.04697986577181208,\n",
       "  'recall': 0.7967479674796748,\n",
       "  'f1': 0.08872793119058398,\n",
       "  'f2': 0.19006982156710628}}"
      ]
     },
     "execution_count": 99,
     "metadata": {},
     "output_type": "execute_result"
    }
   ],
   "source": [
    "medidas"
   ]
  },
  {
   "cell_type": "markdown",
   "metadata": {},
   "source": [
    "## Conclusiones y Recomendaciones\n",
    "- Es posible Construir un modelo de Perceptron Multi Capa para predecir si un individuo solicitando crédito es \"bueno\" o \"malo\" en el dataset obtenido.\n",
    "- La mejor configuración de las intentadas es la de usar balanceo SMOTE para el entrenamiento y combinarlo con n optimizador ADAM, ésto ya que es la que más observaciones negativas fue capaz de reconocer sin sacrificar tantas buenas.\n",
    "- Sería un buen ejercicio consierar otras topologías de red neuronal para obtener una mejor clasificación en el conjunto de datos."
   ]
  }
 ],
 "metadata": {
  "kernelspec": {
   "display_name": "Python 3.7 (tensorflowGPU)",
   "language": "python",
   "name": "tensorflow"
  },
  "language_info": {
   "codemirror_mode": {
    "name": "ipython",
    "version": 3
   },
   "file_extension": ".py",
   "mimetype": "text/x-python",
   "name": "python",
   "nbconvert_exporter": "python",
   "pygments_lexer": "ipython3",
   "version": "3.7.9"
  }
 },
 "nbformat": 4,
 "nbformat_minor": 4
}
