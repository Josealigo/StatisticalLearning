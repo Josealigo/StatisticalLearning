{
 "cells": [
  {
   "cell_type": "markdown",
   "metadata": {},
   "source": [
    "# José Ligorría\n",
    "##  KMeans"
   ]
  },
  {
   "cell_type": "code",
   "execution_count": 28,
   "metadata": {},
   "outputs": [],
   "source": [
    "import numpy as np\n",
    "import pandas as pd\n",
    "from datetime import datetime\n",
    "import matplotlib.pyplot as plt\n",
    "import matplotlib.cm as cm\n",
    "from sklearn.cluster import KMeans\n",
    "from sklearn.mixture import GaussianMixture\n",
    "from numpy import genfromtxt\n",
    "from scipy.stats import multivariate_normal\n",
    "from sklearn.metrics import f1_score"
   ]
  },
  {
   "cell_type": "code",
   "execution_count": 2,
   "metadata": {},
   "outputs": [],
   "source": [
    "data = pd.read_csv('C:/Users/jose-/Documents/Maestria/Statistical_Learning2/Practica1/estaturas.csv')"
   ]
  },
  {
   "cell_type": "code",
   "execution_count": 3,
   "metadata": {},
   "outputs": [
    {
     "data": {
      "text/html": [
       "<div>\n",
       "<style scoped>\n",
       "    .dataframe tbody tr th:only-of-type {\n",
       "        vertical-align: middle;\n",
       "    }\n",
       "\n",
       "    .dataframe tbody tr th {\n",
       "        vertical-align: top;\n",
       "    }\n",
       "\n",
       "    .dataframe thead th {\n",
       "        text-align: right;\n",
       "    }\n",
       "</style>\n",
       "<table border=\"1\" class=\"dataframe\">\n",
       "  <thead>\n",
       "    <tr style=\"text-align: right;\">\n",
       "      <th></th>\n",
       "      <th>Estatura</th>\n",
       "      <th>Edad</th>\n",
       "    </tr>\n",
       "  </thead>\n",
       "  <tbody>\n",
       "    <tr>\n",
       "      <th>0</th>\n",
       "      <td>1.77</td>\n",
       "      <td>26</td>\n",
       "    </tr>\n",
       "    <tr>\n",
       "      <th>1</th>\n",
       "      <td>1.74</td>\n",
       "      <td>31</td>\n",
       "    </tr>\n",
       "    <tr>\n",
       "      <th>2</th>\n",
       "      <td>1.72</td>\n",
       "      <td>24</td>\n",
       "    </tr>\n",
       "    <tr>\n",
       "      <th>3</th>\n",
       "      <td>1.78</td>\n",
       "      <td>34</td>\n",
       "    </tr>\n",
       "    <tr>\n",
       "      <th>4</th>\n",
       "      <td>1.65</td>\n",
       "      <td>32</td>\n",
       "    </tr>\n",
       "  </tbody>\n",
       "</table>\n",
       "</div>"
      ],
      "text/plain": [
       "   Estatura  Edad\n",
       "0      1.77    26\n",
       "1      1.74    31\n",
       "2      1.72    24\n",
       "3      1.78    34\n",
       "4      1.65    32"
      ]
     },
     "execution_count": 3,
     "metadata": {},
     "output_type": "execute_result"
    }
   ],
   "source": [
    "data.head()"
   ]
  },
  {
   "cell_type": "markdown",
   "metadata": {},
   "source": [
    "Normalizamos las observaciones"
   ]
  },
  {
   "cell_type": "code",
   "execution_count": 4,
   "metadata": {},
   "outputs": [],
   "source": [
    "Columns_name = list(data.columns)"
   ]
  },
  {
   "cell_type": "code",
   "execution_count": 5,
   "metadata": {},
   "outputs": [],
   "source": [
    "dataset = data.copy()\n",
    "for i in Columns_name:\n",
    "    dataset[i] = (data[i] - np.mean(data[i]))/np.std(data[i])"
   ]
  },
  {
   "cell_type": "markdown",
   "metadata": {},
   "source": [
    "Procedemos a crear la función que devuelve el costo, los centroides y el identificador del cluster al que pertenece cada observación del dataset inidicado."
   ]
  },
  {
   "cell_type": "code",
   "execution_count": 6,
   "metadata": {},
   "outputs": [],
   "source": [
    "def Hard_Kmeans(dataset,k = 5,seed = 1):\n",
    "    n_obs = len(dataset)\n",
    "    centroids = dataset.sample(n = k, random_state = seed)\n",
    "    n_iter = 0\n",
    "    #tmp = datetime.now()\n",
    "    while n_iter < 100: \n",
    "        n_iter += 1\n",
    "        dist = pd.DataFrame(index=dataset.index)\n",
    "        for i in range(k):\n",
    "            piv_centroid = np.array(centroids.iloc[i])\n",
    "            piv_df = (dataset-piv_centroid)**2\n",
    "            piv_df = pd.DataFrame({i:piv_df.sum(axis=1)})\n",
    "            dist = dist.join(piv_df)    \n",
    "            #print(piv_centroid)\n",
    "        min_dists = np.array(dist.min(axis=1))\n",
    "        cost = np.mean(min_dists)\n",
    "        centroids_list = np.array(dist.idxmin(axis=1))\n",
    "        new_centroids = pd.DataFrame(index=list(range(k)), columns=['Estatura','Edad']).fillna(0)\n",
    "        for i in range(k):\n",
    "            piv_list = np.array(range(n_obs))[centroids_list==i]\n",
    "            #print(piv_list)\n",
    "            #print(i,len(piv_list))\n",
    "            new_centroids.iloc[i] = dataset.iloc[piv_list].mean()\n",
    "        df = pd.concat([centroids, new_centroids])\n",
    "        df = df.reset_index(drop=True)\n",
    "        df_gpby = df.groupby(list(df.columns))\n",
    "        idx = [x[0] for x in df_gpby.groups.values() if len(x) == 2]\n",
    "        if n_iter % 5 ==0:\n",
    "            print('vamos por la iteracion ', n_iter, ' con los centroides: ',centroids)\n",
    "        if len(idx) == k:\n",
    "            break\n",
    "        centroids = new_centroids\n",
    "    #tmp-datetime.now()\n",
    "    return cost,centroids,centroids_list"
   ]
  },
  {
   "cell_type": "code",
   "execution_count": 7,
   "metadata": {},
   "outputs": [],
   "source": [
    "cost1,centroids1,centroids_list1 = Hard_Kmeans(dataset,k=2)\n",
    "cost2,centroids2,centroids_list2 = Hard_Kmeans(dataset,k=3)\n",
    "cost3,centroids3,centroids_list3 = Hard_Kmeans(dataset,k=4)\n",
    "cost4,centroids4,centroids_list4 = Hard_Kmeans(dataset,k=5)\n",
    "cost5,centroids5,centroids_list5 = Hard_Kmeans(dataset,k=6)"
   ]
  },
  {
   "cell_type": "code",
   "execution_count": 8,
   "metadata": {},
   "outputs": [
    {
     "data": {
      "text/plain": [
       "(1.212397359623414,\n",
       " 0.5426103757551495,\n",
       " 0.45863203589820195,\n",
       " 0.4128993433946882,\n",
       " 0.3053226090620766)"
      ]
     },
     "execution_count": 8,
     "metadata": {},
     "output_type": "execute_result"
    }
   ],
   "source": [
    "cost1,cost2,cost3,cost4,cost5"
   ]
  },
  {
   "cell_type": "markdown",
   "metadata": {},
   "source": [
    "Comparamos los resultados obtenidos de la función creada con el resultado obtenido por la función en sklearn."
   ]
  },
  {
   "cell_type": "code",
   "execution_count": 9,
   "metadata": {},
   "outputs": [],
   "source": [
    "np_dataset = np.array(dataset).astype('float')\n",
    "sk_kmeans = {} \n",
    "for i in range(2,7):\n",
    "    kmeans = KMeans(n_clusters = i,random_state = 0).fit(np_dataset)\n",
    "    piv_str = 'sk_centroids_list' + str(i-1)\n",
    "    sk_kmeans[piv_str] = kmeans.labels_\n",
    "    piv_str = 'sk_centroids' + str(i-1)\n",
    "    sk_kmeans[piv_str] = kmeans.cluster_centers_"
   ]
  },
  {
   "cell_type": "code",
   "execution_count": 10,
   "metadata": {},
   "outputs": [
    {
     "name": "stdout",
     "output_type": "stream",
     "text": [
      "sklearn   0  1\n",
      "Creado        \n",
      "0        21  0\n",
      "1         0  8\n",
      "sklearn   0  1  2\n",
      "Creado           \n",
      "0        12  0  0\n",
      "1         0  8  0\n",
      "2         0  0  9\n",
      "sklearn  0  1  2  3\n",
      "Creado             \n",
      "0        6  0  6  0\n",
      "1        0  2  0  0\n",
      "2        0  0  1  8\n",
      "3        0  6  0  0\n",
      "sklearn  0  1  2  3  4\n",
      "Creado                \n",
      "0        0  6  0  0  6\n",
      "1        0  0  0  2  0\n",
      "2        0  0  7  0  1\n",
      "3        3  0  0  1  0\n",
      "4        2  0  1  0  0\n",
      "sklearn  0  1  2  3  4  5\n",
      "Creado                   \n",
      "0        0  0  0  0  6  0\n",
      "1        0  2  0  0  0  0\n",
      "2        0  0  5  0  0  2\n",
      "3        0  1  0  3  0  0\n",
      "4        0  0  0  3  0  0\n",
      "5        6  0  1  0  0  0\n"
     ]
    }
   ],
   "source": [
    "print(pd.crosstab(np.array(centroids_list1), np.array(sk_kmeans['sk_centroids_list1']), rownames = ['Creado'], colnames = ['sklearn']))\n",
    "print(pd.crosstab(np.array(centroids_list2), np.array(sk_kmeans['sk_centroids_list2']), rownames = ['Creado'], colnames = ['sklearn']))\n",
    "print(pd.crosstab(np.array(centroids_list3), np.array(sk_kmeans['sk_centroids_list3']), rownames = ['Creado'], colnames = ['sklearn']))\n",
    "print(pd.crosstab(np.array(centroids_list4), np.array(sk_kmeans['sk_centroids_list4']), rownames = ['Creado'], colnames = ['sklearn']))\n",
    "print(pd.crosstab(np.array(centroids_list5), np.array(sk_kmeans['sk_centroids_list5']), rownames = ['Creado'], colnames = ['sklearn']))"
   ]
  },
  {
   "cell_type": "markdown",
   "metadata": {},
   "source": [
    "Donde podemos ver que no se crean los mismos grupos, por lo que el modelo opera de forma diferente."
   ]
  },
  {
   "cell_type": "markdown",
   "metadata": {},
   "source": [
    "Creamos una gráfica con el cluster que nos dio menos costo."
   ]
  },
  {
   "cell_type": "code",
   "execution_count": 11,
   "metadata": {},
   "outputs": [
    {
     "data": {
      "text/plain": [
       "<matplotlib.collections.PathCollection at 0x2695f6015c8>"
      ]
     },
     "execution_count": 11,
     "metadata": {},
     "output_type": "execute_result"
    },
    {
     "data": {
      "image/png": "[encoded data removed]",
      "text/plain": [
       "<Figure size 432x288 with 1 Axes>"
      ]
     },
     "metadata": {
      "needs_background": "light"
     },
     "output_type": "display_data"
    }
   ],
   "source": [
    "colors = cm.rainbow(np.linspace(0, 1, 6))\n",
    "plt.scatter(data['Estatura'], data['Edad'],c = centroids_list5)"
   ]
  },
  {
   "cell_type": "raw",
   "metadata": {},
   "source": [
    "Procedemos al calculo de los cluster utilizando GMM de dklearnn."
   ]
  },
  {
   "cell_type": "code",
   "execution_count": 12,
   "metadata": {},
   "outputs": [],
   "source": [
    "sk_gmm = {} \n",
    "for i in range(2,7):\n",
    "    gmm = GaussianMixture(n_components = i).fit(np_dataset)\n",
    "    labels = gmm.predict(np_dataset)\n",
    "    probs = gmm.predict_proba(np_dataset)\n",
    "    piv_str = 'sk_centroids_list' + str(i-1)\n",
    "    sk_gmm[piv_str] = labels\n",
    "    piv_str = 'sk_prob_centroids_list' + str(i-1)\n",
    "    sk_gmm[piv_str] = probs\n",
    "    \n"
   ]
  },
  {
   "cell_type": "code",
   "execution_count": 13,
   "metadata": {},
   "outputs": [
    {
     "name": "stdout",
     "output_type": "stream",
     "text": [
      "sklearn   0  1\n",
      "Creado        \n",
      "0        18  3\n",
      "1         0  8\n",
      "sklearn  0  1  2\n",
      "Creado          \n",
      "0        8  0  4\n",
      "1        0  8  0\n",
      "2        0  1  8\n",
      "sklearn  0  1  2  3\n",
      "Creado             \n",
      "0        5  0  1  6\n",
      "1        0  2  0  0\n",
      "2        0  1  8  0\n",
      "3        0  6  0  0\n",
      "sklearn  0   1  2  3  4\n",
      "Creado                 \n",
      "0        0  12  0  0  0\n",
      "1        0   0  2  0  0\n",
      "2        5   1  0  2  0\n",
      "3        0   0  0  0  4\n",
      "4        1   0  2  0  0\n",
      "sklearn  0  1  2  3  4  5\n",
      "Creado                   \n",
      "0        6  0  0  0  0  0\n",
      "1        0  2  0  0  0  0\n",
      "2        0  0  5  0  2  0\n",
      "3        0  0  0  3  0  1\n",
      "4        0  0  1  2  0  0\n",
      "5        7  0  0  0  0  0\n"
     ]
    }
   ],
   "source": [
    "print(pd.crosstab(np.array(centroids_list1), np.array(sk_gmm['sk_centroids_list1']), rownames = ['Creado'], colnames = ['sklearn']))\n",
    "print(pd.crosstab(np.array(centroids_list2), np.array(sk_gmm['sk_centroids_list2']), rownames = ['Creado'], colnames = ['sklearn']))\n",
    "print(pd.crosstab(np.array(centroids_list3), np.array(sk_gmm['sk_centroids_list3']), rownames = ['Creado'], colnames = ['sklearn']))\n",
    "print(pd.crosstab(np.array(centroids_list4), np.array(sk_gmm['sk_centroids_list4']), rownames = ['Creado'], colnames = ['sklearn']))\n",
    "print(pd.crosstab(np.array(centroids_list5), np.array(sk_gmm['sk_centroids_list5']), rownames = ['Creado'], colnames = ['sklearn']))"
   ]
  },
  {
   "cell_type": "markdown",
   "metadata": {},
   "source": [
    "Donde podemos ver que los cluster creados son distintos."
   ]
  },
  {
   "cell_type": "code",
   "execution_count": 14,
   "metadata": {},
   "outputs": [
    {
     "data": {
      "text/plain": [
       "{'covariance_type': 'full',\n",
       " 'init_params': 'kmeans',\n",
       " 'max_iter': 100,\n",
       " 'means_init': None,\n",
       " 'n_components': 6,\n",
       " 'n_init': 1,\n",
       " 'precisions_init': None,\n",
       " 'random_state': None,\n",
       " 'reg_covar': 1e-06,\n",
       " 'tol': 0.001,\n",
       " 'verbose': 0,\n",
       " 'verbose_interval': 10,\n",
       " 'warm_start': False,\n",
       " 'weights_init': None}"
      ]
     },
     "execution_count": 14,
     "metadata": {},
     "output_type": "execute_result"
    }
   ],
   "source": [
    "gmm.get_params()"
   ]
  },
  {
   "cell_type": "code",
   "execution_count": 15,
   "metadata": {},
   "outputs": [],
   "source": [
    "gmm_cost = {}\n",
    "for k in range(2,7):\n",
    "    new_centroids = pd.DataFrame(index=list(range(k)), columns=['Estatura','Edad']).fillna(0)\n",
    "    n_obs = len(dataset)\n",
    "    dist = pd.DataFrame(index=dataset.index)\n",
    "    for i in range(k):\n",
    "        piv_list = np.array(range(n_obs))[labels==i]\n",
    "        #print(piv_list)\n",
    "        #print(i,len(piv_list))\n",
    "        new_centroids.iloc[i] = dataset.iloc[piv_list].mean()\n",
    "        piv_centroid = np.array(new_centroids.iloc[i])\n",
    "        piv_df = (dataset-piv_centroid)**2\n",
    "        piv_df = pd.DataFrame({i:piv_df.sum(axis=1)})\n",
    "        dist = dist.join(piv_df)    \n",
    "        #print(piv_centroid)\n",
    "    min_dists = np.array(dist.min(axis=1))\n",
    "    cost = np.mean(min_dists)\n",
    "    gmm_cost[k] = cost"
   ]
  },
  {
   "cell_type": "code",
   "execution_count": 16,
   "metadata": {},
   "outputs": [
    {
     "data": {
      "text/plain": [
       "{2: 1.8209052411865798,\n",
       " 3: 0.7611372477325898,\n",
       " 4: 0.48831375664208115,\n",
       " 5: 0.3776496761384344,\n",
       " 6: 0.3152211411094742}"
      ]
     },
     "execution_count": 16,
     "metadata": {},
     "output_type": "execute_result"
    }
   ],
   "source": [
    "gmm_cost"
   ]
  },
  {
   "cell_type": "code",
   "execution_count": 17,
   "metadata": {},
   "outputs": [
    {
     "data": {
      "text/plain": [
       "(1.212397359623414,\n",
       " 0.5426103757551495,\n",
       " 0.45863203589820195,\n",
       " 0.4128993433946882,\n",
       " 0.3053226090620766)"
      ]
     },
     "execution_count": 17,
     "metadata": {},
     "output_type": "execute_result"
    }
   ],
   "source": [
    "cost1,cost2,cost3,cost4,cost5"
   ]
  },
  {
   "cell_type": "markdown",
   "metadata": {},
   "source": [
    "De los costos anteriores podemos ver que ambos modelos tienen resultados similares hasta que se consideran 6 cluster. "
   ]
  },
  {
   "cell_type": "code",
   "execution_count": 20,
   "metadata": {},
   "outputs": [
    {
     "data": {
      "image/png": "[encoded data removed]",
      "text/plain": [
       "<Figure size 576x396 with 2 Axes>"
      ]
     },
     "metadata": {},
     "output_type": "display_data"
    },
    {
     "data": {
      "text/plain": [
       "<matplotlib.axes._subplots.AxesSubplot at 0x2695fd3bfc8>"
      ]
     },
     "execution_count": 20,
     "metadata": {},
     "output_type": "execute_result"
    }
   ],
   "source": [
    "from yellowbrick.cluster import KElbowVisualizer\n",
    "model = KElbowVisualizer(KMeans(), k=10)\n",
    "model.fit(np_dataset)\n",
    "model.show()"
   ]
  },
  {
   "cell_type": "code",
   "execution_count": 24,
   "metadata": {},
   "outputs": [
    {
     "data": {
      "text/plain": [
       "<matplotlib.collections.PathCollection at 0x2695ff77748>"
      ]
     },
     "execution_count": 24,
     "metadata": {},
     "output_type": "execute_result"
    },
    {
     "data": {
      "image/png": "[encoded data removed]",
      "text/plain": [
       "<Figure size 576x396 with 1 Axes>"
      ]
     },
     "metadata": {},
     "output_type": "display_data"
    }
   ],
   "source": [
    "colors = cm.rainbow(np.linspace(0, 1, 3))\n",
    "plt.scatter(data['Estatura'], data['Edad'],c = centroids_list2)"
   ]
  },
  {
   "cell_type": "code",
   "execution_count": 25,
   "metadata": {},
   "outputs": [
    {
     "data": {
      "text/plain": [
       "<matplotlib.collections.PathCollection at 0x2695ffc9948>"
      ]
     },
     "execution_count": 25,
     "metadata": {},
     "output_type": "execute_result"
    },
    {
     "data": {
      "image/png": "[encoded data removed]",
      "text/plain": [
       "<Figure size 576x396 with 1 Axes>"
      ]
     },
     "metadata": {},
     "output_type": "display_data"
    }
   ],
   "source": [
    "colors = cm.rainbow(np.linspace(0, 1, 3))\n",
    "plt.scatter(data['Estatura'], data['Edad'],c = sk_gmm['sk_centroids_list2'])"
   ]
  },
  {
   "cell_type": "markdown",
   "metadata": {},
   "source": [
    "## Detencción de Anomalías"
   ]
  },
  {
   "cell_type": "code",
   "execution_count": 86,
   "metadata": {},
   "outputs": [],
   "source": [
    "def estimateGaussian(dataset):\n",
    "    mu = np.mean(dataset, axis=0)\n",
    "    sigma = np.cov(dataset.T)\n",
    "    return mu, sigma\n",
    "    \n",
    "def multivariateGaussian(dataset,mu,sigma):\n",
    "    p = multivariate_normal(mean=mu, cov=sigma)\n",
    "    return p.pdf(dataset)\n",
    "\n",
    "def selectThresholdByCV(probs,gt):\n",
    "    best_epsilon = 0\n",
    "    best_f1 = 0\n",
    "    f = 0\n",
    "    stepsize = (max(probs) - min(probs)) / 1000\n",
    "    epsilons = np.arange(min(probs),max(probs),stepsize)\n",
    "    for epsilon in np.nditer(epsilons):\n",
    "\n",
    "        predictions = (probs < epsilon) \n",
    "        #print(predictions)\n",
    "        #break\n",
    "        f = f1_score(gt, predictions,average='binary')\n",
    "        #print(f)\n",
    "        #print('------')\n",
    "        if f > best_f1:\n",
    "            #print('----')\n",
    "            best_f1 = f\n",
    "            best_epsilon = epsilon\n",
    "    #return 1\n",
    "    return best_f1, best_epsilon"
   ]
  },
  {
   "cell_type": "code",
   "execution_count": 82,
   "metadata": {},
   "outputs": [],
   "source": [
    "cv = pd.read_csv('C:/Users/jose-/Documents/Maestria/Statistical_Learning2/Practica1/validacion.csv')\n",
    "gt = pd.read_csv('C:/Users/jose-/Documents/Maestria/Statistical_Learning2/Practica1/anomalias.csv')\n",
    "cv_data = np.array(cv).astype('float')\n",
    "gt_data = np.array(gt).astype('float')"
   ]
  },
  {
   "cell_type": "code",
   "execution_count": 83,
   "metadata": {},
   "outputs": [
    {
     "data": {
      "text/plain": [
       "array([[1.820e+00, 2.500e+01],\n",
       "       [1.800e+00, 2.700e+01],\n",
       "       [1.600e+00, 3.100e+01],\n",
       "       [1.600e+00, 3.500e+01],\n",
       "       [1.820e+00, 3.000e+01],\n",
       "       [1.760e+00, 3.200e+01],\n",
       "       [1.790e+00, 3.100e+01],\n",
       "       [1.610e+00, 3.100e+01],\n",
       "       [2.500e-01, 2.400e+00],\n",
       "       [1.751e+02, 2.500e+00],\n",
       "       [1.500e-01, 2.500e+02],\n",
       "       [1.500e+02, 1.400e+01]])"
      ]
     },
     "execution_count": 83,
     "metadata": {},
     "output_type": "execute_result"
    }
   ],
   "source": [
    "cv_data"
   ]
  },
  {
   "cell_type": "code",
   "execution_count": 84,
   "metadata": {},
   "outputs": [],
   "source": [
    "mu, sigma = estimateGaussian(np_dataset)\n",
    "p = multivariateGaussian(np_dataset,mu,sigma)"
   ]
  },
  {
   "cell_type": "code",
   "execution_count": 88,
   "metadata": {},
   "outputs": [
    {
     "name": "stdout",
     "output_type": "stream",
     "text": [
      "9.528833693224913e-06\n"
     ]
    }
   ],
   "source": [
    "p_cv = multivariateGaussian(cv_data,mu,sigma)\n",
    "fscore, ep = selectThresholdByCV(p_cv,gt_data)\n",
    "print(ep)"
   ]
  },
  {
   "cell_type": "code",
   "execution_count": 89,
   "metadata": {},
   "outputs": [
    {
     "data": {
      "text/plain": [
       "0.39999999999999997"
      ]
     },
     "execution_count": 89,
     "metadata": {},
     "output_type": "execute_result"
    }
   ],
   "source": [
    "fscore"
   ]
  },
  {
   "cell_type": "markdown",
   "metadata": {},
   "source": [
    "De donde podemos ver que no realizamos el mejor trabajo detectando anomalías."
   ]
  }
 ],
 "metadata": {
  "kernelspec": {
   "display_name": "Python 3",
   "language": "python",
   "name": "python3"
  },
  "language_info": {
   "codemirror_mode": {
    "name": "ipython",
    "version": 3
   },
   "file_extension": ".py",
   "mimetype": "text/x-python",
   "name": "python",
   "nbconvert_exporter": "python",
   "pygments_lexer": "ipython3",
   "version": "3.7.7"
  }
 },
 "nbformat": 4,
 "nbformat_minor": 4
}
