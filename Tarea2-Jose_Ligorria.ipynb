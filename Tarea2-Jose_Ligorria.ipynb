{
 "cells": [
  {
   "cell_type": "markdown",
   "metadata": {},
   "source": [
    "## Regresion Polinomial & Feature engineering\n",
    "\n",
    "### Parte 1 - Modelo exponencial de covid-19 usando feature-eng"
   ]
  },
  {
   "cell_type": "markdown",
   "metadata": {},
   "source": [
    "Utilizando un dataset de incidencias de covid-19 se desea crear un modelo de covid-19 para Guatemala, como propuesta se tiene el analizar la tendencia de los casos confirmados y en base a ello estimar un modelo con múltiples variables y en base a ese modelo se desea encontrar un mínimo estimado de casos confirmados para el día 30 de mayo del año 2020."
   ]
  },
  {
   "cell_type": "markdown",
   "metadata": {},
   "source": [
    "Para ésto procedemos cargando librerías y las consideraciones de compatibilidad de las mismas:"
   ]
  },
  {
   "cell_type": "code",
   "execution_count": 1,
   "metadata": {},
   "outputs": [],
   "source": [
    "import numpy as np\n",
    "import pandas as pd\n",
    "from matplotlib import pyplot as plt\n",
    "import tensorflow as tf\n",
    "import seaborn as sns\n",
    "import itertools\n",
    "from datetime import datetime\n",
    "%load_ext tensorboard"
   ]
  },
  {
   "cell_type": "code",
   "execution_count": 2,
   "metadata": {},
   "outputs": [
    {
     "name": "stdout",
     "output_type": "stream",
     "text": [
      "WARNING:tensorflow:From C:\\Users\\jose-\\Anaconda3\\envs\\Clases_tensorflow_env2\\lib\\site-packages\\tensorflow_core\\python\\compat\\v2_compat.py:88: disable_resource_variables (from tensorflow.python.ops.variable_scope) is deprecated and will be removed in a future version.\n",
      "Instructions for updating:\n",
      "non-resource variables are not supported in the long term\n",
      "Enabled compatitility to tf1.x\n"
     ]
    }
   ],
   "source": [
    "if tf.__version__.startswith(\"2.\"):\n",
    "    import tensorflow.compat.v1 as tf\n",
    "    tf.compat.v1.disable_v2_behavior()\n",
    "    tf.compat.v1.disable_eager_execution()\n",
    "    print(\"Enabled compatitility to tf1.x\")"
   ]
  },
  {
   "cell_type": "markdown",
   "metadata": {},
   "source": [
    "Cargamos el dataset y visualizamos un ejemplo de los datos:"
   ]
  },
  {
   "cell_type": "code",
   "execution_count": 3,
   "metadata": {
    "scrolled": true
   },
   "outputs": [
    {
     "data": {
      "text/html": [
       "<div>\n",
       "<style scoped>\n",
       "    .dataframe tbody tr th:only-of-type {\n",
       "        vertical-align: middle;\n",
       "    }\n",
       "\n",
       "    .dataframe tbody tr th {\n",
       "        vertical-align: top;\n",
       "    }\n",
       "\n",
       "    .dataframe thead th {\n",
       "        text-align: right;\n",
       "    }\n",
       "</style>\n",
       "<table border=\"1\" class=\"dataframe\">\n",
       "  <thead>\n",
       "    <tr style=\"text-align: right;\">\n",
       "      <th></th>\n",
       "      <th>Province/State</th>\n",
       "      <th>Country/Region</th>\n",
       "      <th>Lat</th>\n",
       "      <th>Long</th>\n",
       "      <th>Date</th>\n",
       "      <th>Confirmed</th>\n",
       "      <th>Deaths</th>\n",
       "      <th>Recovered</th>\n",
       "    </tr>\n",
       "  </thead>\n",
       "  <tbody>\n",
       "    <tr>\n",
       "      <th>0</th>\n",
       "      <td>NaN</td>\n",
       "      <td>Afghanistan</td>\n",
       "      <td>33.0000</td>\n",
       "      <td>65.0000</td>\n",
       "      <td>2020-01-22</td>\n",
       "      <td>0</td>\n",
       "      <td>0</td>\n",
       "      <td>0</td>\n",
       "    </tr>\n",
       "    <tr>\n",
       "      <th>1</th>\n",
       "      <td>NaN</td>\n",
       "      <td>Albania</td>\n",
       "      <td>41.1533</td>\n",
       "      <td>20.1683</td>\n",
       "      <td>2020-01-22</td>\n",
       "      <td>0</td>\n",
       "      <td>0</td>\n",
       "      <td>0</td>\n",
       "    </tr>\n",
       "    <tr>\n",
       "      <th>2</th>\n",
       "      <td>NaN</td>\n",
       "      <td>Algeria</td>\n",
       "      <td>28.0339</td>\n",
       "      <td>1.6596</td>\n",
       "      <td>2020-01-22</td>\n",
       "      <td>0</td>\n",
       "      <td>0</td>\n",
       "      <td>0</td>\n",
       "    </tr>\n",
       "    <tr>\n",
       "      <th>3</th>\n",
       "      <td>NaN</td>\n",
       "      <td>Andorra</td>\n",
       "      <td>42.5063</td>\n",
       "      <td>1.5218</td>\n",
       "      <td>2020-01-22</td>\n",
       "      <td>0</td>\n",
       "      <td>0</td>\n",
       "      <td>0</td>\n",
       "    </tr>\n",
       "    <tr>\n",
       "      <th>4</th>\n",
       "      <td>NaN</td>\n",
       "      <td>Angola</td>\n",
       "      <td>-11.2027</td>\n",
       "      <td>17.8739</td>\n",
       "      <td>2020-01-22</td>\n",
       "      <td>0</td>\n",
       "      <td>0</td>\n",
       "      <td>0</td>\n",
       "    </tr>\n",
       "  </tbody>\n",
       "</table>\n",
       "</div>"
      ],
      "text/plain": [
       "  Province/State Country/Region      Lat     Long       Date  Confirmed  \\\n",
       "0            NaN    Afghanistan  33.0000  65.0000 2020-01-22          0   \n",
       "1            NaN        Albania  41.1533  20.1683 2020-01-22          0   \n",
       "2            NaN        Algeria  28.0339   1.6596 2020-01-22          0   \n",
       "3            NaN        Andorra  42.5063   1.5218 2020-01-22          0   \n",
       "4            NaN         Angola -11.2027  17.8739 2020-01-22          0   \n",
       "\n",
       "   Deaths  Recovered  \n",
       "0       0          0  \n",
       "1       0          0  \n",
       "2       0          0  \n",
       "3       0          0  \n",
       "4       0          0  "
      ]
     },
     "execution_count": 3,
     "metadata": {},
     "output_type": "execute_result"
    }
   ],
   "source": [
    "covid19_data = pd.read_csv('./covid_19_clean_complete.csv')\n",
    "covid19_data[\"Date\"] = pd.to_datetime(covid19_data[\"Date\"],infer_datetime_format = True)\n",
    "covid19_data.head()"
   ]
  },
  {
   "cell_type": "markdown",
   "metadata": {},
   "source": [
    "Podemos ver que del dataset completo el alcance de nuestra investigación se limita al \"Country/Region\" de \"Guatemala\" y solo las incidencias con casos confirmados. Para generar el dataset resultante corremos los siguientes filtros: "
   ]
  },
  {
   "cell_type": "code",
   "execution_count": 4,
   "metadata": {},
   "outputs": [],
   "source": [
    "GT_confirmed = covid19_data[(covid19_data[\"Country/Region\"] == 'Guatemala')& (covid19_data[\"Confirmed\"] > 0)].copy()"
   ]
  },
  {
   "cell_type": "markdown",
   "metadata": {},
   "source": [
    "Con objetivo de analizar el comportamiento de la cantidad de casos confirmados a lo largo del tiempo procedemos creando una gráfica para estimar a partir de ella un modelo que se ajuste a dico comportamiento."
   ]
  },
  {
   "cell_type": "code",
   "execution_count": 5,
   "metadata": {},
   "outputs": [
    {
     "data": {
      "text/plain": [
       "<matplotlib.axes._subplots.AxesSubplot at 0x1f993b27788>"
      ]
     },
     "execution_count": 5,
     "metadata": {},
     "output_type": "execute_result"
    },
    {
     "data": {
      "image/png": "[encoded data removed]",
      "text/plain": [
       "<Figure size 432x288 with 1 Axes>"
      ]
     },
     "metadata": {
      "needs_background": "light"
     },
     "output_type": "display_data"
    }
   ],
   "source": [
    "GT_confirmed.plot.scatter(x = \"Date\",y=\"Confirmed\")"
   ]
  },
  {
   "cell_type": "markdown",
   "metadata": {},
   "source": [
    "De donde podemos ver que tiene un aspecto de crecimiento exponencial, entonces considerando la búsqueda de una optimización de un modelo lineal (por las bondades que tiene el modelo) utilizaremos la variable del logaritmo natural de la cantidad de casos confirmados, ya que si la cantidad es exponencial entonces su logaritmo es lineal, lo cual lo vemos en lo siguiente:"
   ]
  },
  {
   "cell_type": "code",
   "execution_count": 6,
   "metadata": {},
   "outputs": [
    {
     "data": {
      "text/plain": [
       "<matplotlib.axes._subplots.AxesSubplot at 0x1f993e54b88>"
      ]
     },
     "execution_count": 6,
     "metadata": {},
     "output_type": "execute_result"
    },
    {
     "data": {
      "image/png": "[encoded data removed]",
      "text/plain": [
       "<Figure size 432x288 with 1 Axes>"
      ]
     },
     "metadata": {
      "needs_background": "light"
     },
     "output_type": "display_data"
    }
   ],
   "source": [
    "GT_confirmed[\"ln(confirmed)\"] = np.log(GT_confirmed[\"Confirmed\"])\n",
    "GT_confirmed.plot.scatter(x = \"Date\",y=\"ln(confirmed)\")"
   ]
  },
  {
   "cell_type": "markdown",
   "metadata": {},
   "source": [
    "La gráfica anterior nos confirma que la hipótesis de convertir a logaritmo la variable nos daría un comportamiento similar a uno lineal.\n",
    "\n",
    "Con el objetivo de utilizar la variable de tiempo en el modelo, necesitamos que sea representada por un valor numérico y proponemos a la variable que denote la cantidad de días transcurridos desde la primera ocasión de casos confirmados hasta la fecha de registro de la incidencia."
   ]
  },
  {
   "cell_type": "code",
   "execution_count": 7,
   "metadata": {},
   "outputs": [],
   "source": [
    "GT_confirmed[\"Dia_n\"] =  (pd.to_datetime(GT_confirmed.Date) - pd.to_datetime(np.min(GT_confirmed.Date))).dt.days"
   ]
  },
  {
   "cell_type": "markdown",
   "metadata": {},
   "source": [
    "Limpiamos nuestro dataset de variables categóricas que dada su distribución inducida por su significado consideramos no son capaces de generar aporte al modelo."
   ]
  },
  {
   "cell_type": "code",
   "execution_count": 8,
   "metadata": {},
   "outputs": [],
   "source": [
    "dataset = GT_confirmed[[\"Lat\",\"Long\",\"Dia_n\",\"Deaths\",\"Recovered\",\"ln(confirmed)\"]]"
   ]
  },
  {
   "cell_type": "code",
   "execution_count": 9,
   "metadata": {},
   "outputs": [
    {
     "data": {
      "text/html": [
       "<div>\n",
       "<style scoped>\n",
       "    .dataframe tbody tr th:only-of-type {\n",
       "        vertical-align: middle;\n",
       "    }\n",
       "\n",
       "    .dataframe tbody tr th {\n",
       "        vertical-align: top;\n",
       "    }\n",
       "\n",
       "    .dataframe thead th {\n",
       "        text-align: right;\n",
       "    }\n",
       "</style>\n",
       "<table border=\"1\" class=\"dataframe\">\n",
       "  <thead>\n",
       "    <tr style=\"text-align: right;\">\n",
       "      <th></th>\n",
       "      <th>Lat</th>\n",
       "      <th>Long</th>\n",
       "      <th>Dia_n</th>\n",
       "      <th>Deaths</th>\n",
       "      <th>Recovered</th>\n",
       "      <th>ln(confirmed)</th>\n",
       "    </tr>\n",
       "  </thead>\n",
       "  <tbody>\n",
       "    <tr>\n",
       "      <th>13851</th>\n",
       "      <td>15.7835</td>\n",
       "      <td>-90.2308</td>\n",
       "      <td>0</td>\n",
       "      <td>0</td>\n",
       "      <td>0</td>\n",
       "      <td>0.000000</td>\n",
       "    </tr>\n",
       "    <tr>\n",
       "      <th>14115</th>\n",
       "      <td>15.7835</td>\n",
       "      <td>-90.2308</td>\n",
       "      <td>1</td>\n",
       "      <td>0</td>\n",
       "      <td>0</td>\n",
       "      <td>0.000000</td>\n",
       "    </tr>\n",
       "    <tr>\n",
       "      <th>14379</th>\n",
       "      <td>15.7835</td>\n",
       "      <td>-90.2308</td>\n",
       "      <td>2</td>\n",
       "      <td>1</td>\n",
       "      <td>0</td>\n",
       "      <td>0.693147</td>\n",
       "    </tr>\n",
       "    <tr>\n",
       "      <th>14643</th>\n",
       "      <td>15.7835</td>\n",
       "      <td>-90.2308</td>\n",
       "      <td>3</td>\n",
       "      <td>1</td>\n",
       "      <td>0</td>\n",
       "      <td>1.791759</td>\n",
       "    </tr>\n",
       "    <tr>\n",
       "      <th>14907</th>\n",
       "      <td>15.7835</td>\n",
       "      <td>-90.2308</td>\n",
       "      <td>4</td>\n",
       "      <td>1</td>\n",
       "      <td>0</td>\n",
       "      <td>1.791759</td>\n",
       "    </tr>\n",
       "  </tbody>\n",
       "</table>\n",
       "</div>"
      ],
      "text/plain": [
       "           Lat     Long  Dia_n  Deaths  Recovered  ln(confirmed)\n",
       "13851  15.7835 -90.2308      0       0          0       0.000000\n",
       "14115  15.7835 -90.2308      1       0          0       0.000000\n",
       "14379  15.7835 -90.2308      2       1          0       0.693147\n",
       "14643  15.7835 -90.2308      3       1          0       1.791759\n",
       "14907  15.7835 -90.2308      4       1          0       1.791759"
      ]
     },
     "execution_count": 9,
     "metadata": {},
     "output_type": "execute_result"
    }
   ],
   "source": [
    "dataset.head()"
   ]
  },
  {
   "cell_type": "markdown",
   "metadata": {},
   "source": [
    "Realizamos un breve análisis exploratorio de las variables para visualizar relación entre ellas:"
   ]
  },
  {
   "cell_type": "code",
   "execution_count": 10,
   "metadata": {},
   "outputs": [
    {
     "data": {
      "text/plain": [
       "<seaborn.axisgrid.PairGrid at 0x1f993ef1688>"
      ]
     },
     "execution_count": 10,
     "metadata": {},
     "output_type": "execute_result"
    },
    {
     "data": {
      "image/png": "[encoded data removed]",
      "text/plain": [
       "<Figure size 900x900 with 30 Axes>"
      ]
     },
     "metadata": {
      "needs_background": "light"
     },
     "output_type": "display_data"
    }
   ],
   "source": [
    "sns.pairplot(dataset[[\"Lat\",\"Long\",\"Dia_n\",\"Deaths\",\"Recovered\"]], diag_kind=\"kde\")"
   ]
  },
  {
   "cell_type": "markdown",
   "metadata": {},
   "source": [
    "De dicha gráfica podemos comprobar que las variables longitud y latitud no tienen vaciación, por lo que las excluimos de nuestro análisis."
   ]
  },
  {
   "cell_type": "code",
   "execution_count": 11,
   "metadata": {},
   "outputs": [],
   "source": [
    "dataset = dataset[[\"Dia_n\",\"Deaths\",\"Recovered\",\"ln(confirmed)\"]]"
   ]
  },
  {
   "cell_type": "markdown",
   "metadata": {},
   "source": [
    "Para realizar el modelo consideramos particionar la data en un 80% de las observaciones para el entrenamiento del mismo y el 20% restante para validar que los hiperparámetros obtenidos presenten un error bajo, de onde decidiremos si el modelo es útil o no."
   ]
  },
  {
   "cell_type": "code",
   "execution_count": 12,
   "metadata": {},
   "outputs": [],
   "source": [
    "tf.compat.v1.set_random_seed( 1 )\n",
    "train_dataset = dataset.sample(frac=0.8,random_state=0)\n",
    "test_dataset = dataset.drop(train_dataset.index)"
   ]
  },
  {
   "cell_type": "code",
   "execution_count": 13,
   "metadata": {},
   "outputs": [
    {
     "data": {
      "text/html": [
       "<div>\n",
       "<style scoped>\n",
       "    .dataframe tbody tr th:only-of-type {\n",
       "        vertical-align: middle;\n",
       "    }\n",
       "\n",
       "    .dataframe tbody tr th {\n",
       "        vertical-align: top;\n",
       "    }\n",
       "\n",
       "    .dataframe thead th {\n",
       "        text-align: right;\n",
       "    }\n",
       "</style>\n",
       "<table border=\"1\" class=\"dataframe\">\n",
       "  <thead>\n",
       "    <tr style=\"text-align: right;\">\n",
       "      <th></th>\n",
       "      <th>Dia_n</th>\n",
       "      <th>Deaths</th>\n",
       "      <th>Recovered</th>\n",
       "      <th>ln(confirmed)</th>\n",
       "    </tr>\n",
       "  </thead>\n",
       "  <tbody>\n",
       "    <tr>\n",
       "      <th>13851</th>\n",
       "      <td>0</td>\n",
       "      <td>0</td>\n",
       "      <td>0</td>\n",
       "      <td>0.000000</td>\n",
       "    </tr>\n",
       "    <tr>\n",
       "      <th>14115</th>\n",
       "      <td>1</td>\n",
       "      <td>0</td>\n",
       "      <td>0</td>\n",
       "      <td>0.000000</td>\n",
       "    </tr>\n",
       "    <tr>\n",
       "      <th>14379</th>\n",
       "      <td>2</td>\n",
       "      <td>1</td>\n",
       "      <td>0</td>\n",
       "      <td>0.693147</td>\n",
       "    </tr>\n",
       "    <tr>\n",
       "      <th>14643</th>\n",
       "      <td>3</td>\n",
       "      <td>1</td>\n",
       "      <td>0</td>\n",
       "      <td>1.791759</td>\n",
       "    </tr>\n",
       "    <tr>\n",
       "      <th>14907</th>\n",
       "      <td>4</td>\n",
       "      <td>1</td>\n",
       "      <td>0</td>\n",
       "      <td>1.791759</td>\n",
       "    </tr>\n",
       "  </tbody>\n",
       "</table>\n",
       "</div>"
      ],
      "text/plain": [
       "       Dia_n  Deaths  Recovered  ln(confirmed)\n",
       "13851      0       0          0       0.000000\n",
       "14115      1       0          0       0.000000\n",
       "14379      2       1          0       0.693147\n",
       "14643      3       1          0       1.791759\n",
       "14907      4       1          0       1.791759"
      ]
     },
     "execution_count": 13,
     "metadata": {},
     "output_type": "execute_result"
    }
   ],
   "source": [
    "dataset.head()"
   ]
  },
  {
   "cell_type": "markdown",
   "metadata": {},
   "source": [
    "Puesto que la librerría a utilizar es tensorflow y la metodología a optimizar será un \"Batch Gradient Descent\" creamos la clase ModeloLineal con el siguiente código para capacitarla de lo necesario según lo deseado."
   ]
  },
  {
   "cell_type": "code",
   "execution_count": 14,
   "metadata": {},
   "outputs": [],
   "source": [
    "class ModeloLineal:\n",
    "  def __init__(self):\n",
    "    tf.reset_default_graph()\n",
    "    self.m = tf.get_variable(\"pendiente\",dtype=tf.float32,shape=[1,3],initializer=tf.zeros_initializer())\n",
    "    self.b = tf.get_variable(\"intercepto\",dtype=tf.float32,shape=[],initializer=tf.zeros_initializer())\n",
    "\n",
    "  def __call__(self,x):\n",
    "    return tf.linalg.matmul(x, self.m,transpose_b=True) + self.b\n",
    "\n",
    "  def actualizar(self,x,y,learning_rate):\n",
    "    prediccion = self(x)\n",
    "    error = 1/2*tf.reduce_mean(tf.math.square(y - prediccion) )\n",
    "    gradiente = tf.gradients(error,[self.m,self.b])\n",
    "    actualizacion_m = tf.assign(self.m, self.m - learning_rate*gradiente[0] )\n",
    "    actualizacion_b = tf.assign(self.b, self.b - learning_rate*gradiente[1] )\n",
    "    actualizacion_parametros = tf.group(actualizacion_m,actualizacion_b)\n",
    "\n",
    "    return actualizacion_parametros"
   ]
  },
  {
   "cell_type": "markdown",
   "metadata": {},
   "source": [
    "Creamos los arreglos del dataset de entrenamiento que serán utilizadas por la clase previamente descrita yel algoritmo siguiente para la optimización de hiperparámetros."
   ]
  },
  {
   "cell_type": "code",
   "execution_count": 15,
   "metadata": {},
   "outputs": [],
   "source": [
    "x = train_dataset.loc[:,[\"Dia_n\",\"Deaths\",\"Recovered\"]]\n",
    "y = train_dataset.loc[:,[\"ln(confirmed)\"]]"
   ]
  },
  {
   "cell_type": "code",
   "execution_count": 16,
   "metadata": {},
   "outputs": [
    {
     "name": "stdout",
     "output_type": "stream",
     "text": [
      "INFO:tensorflow:Graph was finalized.\n",
      "INFO:tensorflow:Running local_init_op.\n",
      "INFO:tensorflow:Done running local_init_op.\n"
     ]
    }
   ],
   "source": [
    "modelo = ModeloLineal()\n",
    "tamaño_muestra = len(x)\n",
    "\n",
    "learning_rate = 0.000001\n",
    "\n",
    "tensor_x = tf.placeholder(tf.float32,[tamaño_muestra,3],\"tensor_x\")\n",
    "tensor_y = tf.placeholder(tf.float32,[tamaño_muestra,1],\"tensor_y\")\n",
    "\n",
    "prediccion = modelo(tensor_x)\n",
    "actualizacion_parametros = modelo.actualizar(tensor_x,tensor_y,learning_rate)\n",
    "\n",
    "with tf.train.MonitoredSession() as session:\n",
    "    feed_dict = {tensor_x:x, tensor_y:y}\n",
    "\n",
    "    for i in range(500):\n",
    "    \n",
    "        session.run(actualizacion_parametros,feed_dict=feed_dict)\n",
    "        predicciones = session.run(prediccion,feed_dict=feed_dict)\n",
    "\n",
    "    pendiente_final,intercepto_final = session.run([modelo.m,modelo.b],feed_dict=feed_dict)\n",
    "    "
   ]
  },
  {
   "cell_type": "markdown",
   "metadata": {},
   "source": [
    "Observamos los hiperparámetros resultantes."
   ]
  },
  {
   "cell_type": "code",
   "execution_count": 17,
   "metadata": {
    "scrolled": true
   },
   "outputs": [
    {
     "data": {
      "text/plain": [
       "(array([[0.04602113, 0.01122416, 0.04412961]], dtype=float32), 0.0015119675)"
      ]
     },
     "execution_count": 17,
     "metadata": {},
     "output_type": "execute_result"
    }
   ],
   "source": [
    "pendiente_final,intercepto_final"
   ]
  },
  {
   "cell_type": "markdown",
   "metadata": {},
   "source": [
    "Con los valores obtenidos de hiperparámetros construimos el error del modelo aplicado al conjunto de datos de prueba y observamos los mismos."
   ]
  },
  {
   "cell_type": "code",
   "execution_count": 18,
   "metadata": {},
   "outputs": [],
   "source": [
    "x_test = test_dataset.loc[:,[\"Dia_n\",\"Deaths\",\"Recovered\"]]\n",
    "y_test = test_dataset.loc[:,[\"ln(confirmed)\"]]\n",
    "prediccion_test =tf.linalg.matmul(tf.cast(x_test, tf.float32), pendiente_final,transpose_b=True) + intercepto_final\n",
    "error = 1/2*tf.reduce_mean(tf.math.square(tf.cast(y_test, tf.float32) - prediccion_test) )\n",
    "error2 = 1/2*tf.reduce_mean(tf.math.square(tf.cast(np.e**y_test, tf.float32) - np.e**prediccion_test) )\n",
    "error3 = 1/2*tf.reduce_mean(tf.math.square(tf.cast(np.e**y_test, tf.float32) - np.e**np.mean(y)) )"
   ]
  },
  {
   "cell_type": "code",
   "execution_count": 19,
   "metadata": {},
   "outputs": [
    {
     "name": "stdout",
     "output_type": "stream",
     "text": [
      "Error al aplicar el modelo sobre el conjunto de prueba, en la escala logarirmica:  2.0381896\n",
      "Error al aplicar el modelo sobre el conjunto de prueba, en la escala normal:  34209.34\n",
      "Error al aplicar un fit del promedio sobre el conjunto de pueba:  68775.914\n"
     ]
    }
   ],
   "source": [
    "with tf.Session() as sess: \n",
    "    print(\"Error al aplicar el modelo sobre el conjunto de prueba, en la escala logarirmica: \", error.eval())\n",
    "    print(\"Error al aplicar el modelo sobre el conjunto de prueba, en la escala normal: \",error2.eval())\n",
    "    print(\"Error al aplicar un fit del promedio sobre el conjunto de pueba: \",error3.eval()) "
   ]
  },
  {
   "cell_type": "markdown",
   "metadata": {},
   "source": [
    "De los errore obtenidos vemos que nuestra estimación por medio del modelo lineal es significativamente mejor que utilizar el promedio como valor de estimación. Por lo que ahora procedemos a estimar el valor de casos confirmados en Guatemala para el 30 de mayo del 2020."
   ]
  },
  {
   "cell_type": "code",
   "execution_count": 20,
   "metadata": {},
   "outputs": [],
   "source": [
    "Dia_D = (pd.to_datetime('2020-05-30') - min(GT_confirmed.Date)).days\n",
    "max_death = np.max(dataset[\"Deaths\"])\n",
    "max_recover = np.max(dataset[\"Recovered\"])"
   ]
  },
  {
   "cell_type": "code",
   "execution_count": 21,
   "metadata": {},
   "outputs": [
    {
     "name": "stdout",
     "output_type": "stream",
     "text": [
      "5950.45857017506\n"
     ]
    }
   ],
   "source": [
    "confirmados_hat_DD = np.dot(pendiente_final[0], [Dia_D,max_death,max_recover]) + intercepto_final\n",
    "print(np.e**confirmados_hat_DD)"
   ]
  },
  {
   "cell_type": "markdown",
   "metadata": {},
   "source": [
    "Por lo tanto el estimado de casos según el modelo aplicado es de al menos 5950, ya que al no tener una estimación de los casos de muertes y recuperados y aprovechando el valor del coeficiente en estas variables es positivo entonces a más casos en esa variable más casos en nuestra variable objetivo, entonces al tomar el valor máximo obtenemos un mínimo para nuestra estimación."
   ]
  },
  {
   "cell_type": "markdown",
   "metadata": {},
   "source": [
    "### Parte 2 - Modelo polinomial de calidad de vinos"
   ]
  },
  {
   "cell_type": "code",
   "execution_count": 22,
   "metadata": {},
   "outputs": [],
   "source": [
    "data = pd.read_csv('winequality-red.csv')"
   ]
  },
  {
   "cell_type": "code",
   "execution_count": 23,
   "metadata": {},
   "outputs": [
    {
     "data": {
      "text/html": [
       "<div>\n",
       "<style scoped>\n",
       "    .dataframe tbody tr th:only-of-type {\n",
       "        vertical-align: middle;\n",
       "    }\n",
       "\n",
       "    .dataframe tbody tr th {\n",
       "        vertical-align: top;\n",
       "    }\n",
       "\n",
       "    .dataframe thead th {\n",
       "        text-align: right;\n",
       "    }\n",
       "</style>\n",
       "<table border=\"1\" class=\"dataframe\">\n",
       "  <thead>\n",
       "    <tr style=\"text-align: right;\">\n",
       "      <th></th>\n",
       "      <th>fixed acidity</th>\n",
       "      <th>volatile acidity</th>\n",
       "      <th>citric acid</th>\n",
       "      <th>residual sugar</th>\n",
       "      <th>chlorides</th>\n",
       "      <th>free sulfur dioxide</th>\n",
       "      <th>total sulfur dioxide</th>\n",
       "      <th>density</th>\n",
       "      <th>pH</th>\n",
       "      <th>sulphates</th>\n",
       "      <th>alcohol</th>\n",
       "      <th>quality</th>\n",
       "    </tr>\n",
       "  </thead>\n",
       "  <tbody>\n",
       "    <tr>\n",
       "      <th>0</th>\n",
       "      <td>7.4</td>\n",
       "      <td>0.70</td>\n",
       "      <td>0.00</td>\n",
       "      <td>1.9</td>\n",
       "      <td>0.076</td>\n",
       "      <td>11.0</td>\n",
       "      <td>34.0</td>\n",
       "      <td>0.9978</td>\n",
       "      <td>3.51</td>\n",
       "      <td>0.56</td>\n",
       "      <td>9.4</td>\n",
       "      <td>5</td>\n",
       "    </tr>\n",
       "    <tr>\n",
       "      <th>1</th>\n",
       "      <td>7.8</td>\n",
       "      <td>0.88</td>\n",
       "      <td>0.00</td>\n",
       "      <td>2.6</td>\n",
       "      <td>0.098</td>\n",
       "      <td>25.0</td>\n",
       "      <td>67.0</td>\n",
       "      <td>0.9968</td>\n",
       "      <td>3.20</td>\n",
       "      <td>0.68</td>\n",
       "      <td>9.8</td>\n",
       "      <td>5</td>\n",
       "    </tr>\n",
       "    <tr>\n",
       "      <th>2</th>\n",
       "      <td>7.8</td>\n",
       "      <td>0.76</td>\n",
       "      <td>0.04</td>\n",
       "      <td>2.3</td>\n",
       "      <td>0.092</td>\n",
       "      <td>15.0</td>\n",
       "      <td>54.0</td>\n",
       "      <td>0.9970</td>\n",
       "      <td>3.26</td>\n",
       "      <td>0.65</td>\n",
       "      <td>9.8</td>\n",
       "      <td>5</td>\n",
       "    </tr>\n",
       "    <tr>\n",
       "      <th>3</th>\n",
       "      <td>11.2</td>\n",
       "      <td>0.28</td>\n",
       "      <td>0.56</td>\n",
       "      <td>1.9</td>\n",
       "      <td>0.075</td>\n",
       "      <td>17.0</td>\n",
       "      <td>60.0</td>\n",
       "      <td>0.9980</td>\n",
       "      <td>3.16</td>\n",
       "      <td>0.58</td>\n",
       "      <td>9.8</td>\n",
       "      <td>6</td>\n",
       "    </tr>\n",
       "    <tr>\n",
       "      <th>4</th>\n",
       "      <td>7.4</td>\n",
       "      <td>0.70</td>\n",
       "      <td>0.00</td>\n",
       "      <td>1.9</td>\n",
       "      <td>0.076</td>\n",
       "      <td>11.0</td>\n",
       "      <td>34.0</td>\n",
       "      <td>0.9978</td>\n",
       "      <td>3.51</td>\n",
       "      <td>0.56</td>\n",
       "      <td>9.4</td>\n",
       "      <td>5</td>\n",
       "    </tr>\n",
       "  </tbody>\n",
       "</table>\n",
       "</div>"
      ],
      "text/plain": [
       "   fixed acidity  volatile acidity  citric acid  residual sugar  chlorides  \\\n",
       "0            7.4              0.70         0.00             1.9      0.076   \n",
       "1            7.8              0.88         0.00             2.6      0.098   \n",
       "2            7.8              0.76         0.04             2.3      0.092   \n",
       "3           11.2              0.28         0.56             1.9      0.075   \n",
       "4            7.4              0.70         0.00             1.9      0.076   \n",
       "\n",
       "   free sulfur dioxide  total sulfur dioxide  density    pH  sulphates  \\\n",
       "0                 11.0                  34.0   0.9978  3.51       0.56   \n",
       "1                 25.0                  67.0   0.9968  3.20       0.68   \n",
       "2                 15.0                  54.0   0.9970  3.26       0.65   \n",
       "3                 17.0                  60.0   0.9980  3.16       0.58   \n",
       "4                 11.0                  34.0   0.9978  3.51       0.56   \n",
       "\n",
       "   alcohol  quality  \n",
       "0      9.4        5  \n",
       "1      9.8        5  \n",
       "2      9.8        5  \n",
       "3      9.8        6  \n",
       "4      9.4        5  "
      ]
     },
     "execution_count": 23,
     "metadata": {},
     "output_type": "execute_result"
    }
   ],
   "source": [
    "data.head()"
   ]
  },
  {
   "cell_type": "code",
   "execution_count": 24,
   "metadata": {},
   "outputs": [
    {
     "data": {
      "image/png": "[encoded data removed]",
      "text/plain": [
       "<Figure size 180x1980 with 11 Axes>"
      ]
     },
     "metadata": {
      "needs_background": "light"
     },
     "output_type": "display_data"
    }
   ],
   "source": [
    "pp = sns.pairplot(data=data,\n",
    "                  x_vars=['quality'],\n",
    "                  y_vars=['fixed acidity', 'volatile acidity',\n",
    "                          'citric acid','residual sugar','chlorides',\n",
    "                         'free sulfur dioxide','total sulfur dioxide',\n",
    "                         'density','pH','sulphates','alcohol'])"
   ]
  },
  {
   "cell_type": "markdown",
   "metadata": {},
   "source": [
    "De la imagen vemos que no podemos proceder con la eliminación de variable alguna, por lo que procedemos con una sencilla manipulación de las mismsas con la esperanza que la combinación genere algún valor a nosotros. Dicho valor lo consideraremos como el ajuste que la variable tiene sobre nuestra variable obtenida, considerando el ajuste como un modelo lineal con los conjuntos de entrenamiento y validación."
   ]
  },
  {
   "cell_type": "code",
   "execution_count": 25,
   "metadata": {},
   "outputs": [],
   "source": [
    "class ModeloLineal:\n",
    "  def __init__(self):\n",
    "    tf.reset_default_graph()\n",
    "    self.m = tf.get_variable(\"pendiente\",dtype=tf.float32,shape=[1,5],initializer=tf.zeros_initializer())\n",
    "    self.b = tf.get_variable(\"intercepto\",dtype=tf.float32,shape=[],initializer=tf.zeros_initializer())\n",
    "\n",
    "  def __call__(self,x):\n",
    "    return tf.linalg.matmul(x, self.m,transpose_b=True) + self.b\n",
    "\n",
    "  def actualizar(self,x,y,learning_rate):\n",
    "    prediccion = self(x)\n",
    "    error = 1/2*tf.reduce_mean(tf.math.square(y - prediccion) )\n",
    "    with tf.name_scope(\"Error\"):\n",
    "            error_summary = tf.summary.scalar(name = \"ErrorSummary\", tensor = error)\n",
    "    gradiente = tf.gradients(error,[self.m,self.b])\n",
    "    actualizacion_m = tf.assign(self.m, self.m - learning_rate*gradiente[0] )\n",
    "    actualizacion_b = tf.assign(self.b, self.b - learning_rate*gradiente[1] )\n",
    "    actualizacion_parametros = tf.group(actualizacion_m,actualizacion_b)\n",
    "\n",
    "    return actualizacion_parametros,error_summary"
   ]
  },
  {
   "cell_type": "code",
   "execution_count": 26,
   "metadata": {},
   "outputs": [],
   "source": [
    "def Probar_Variable(var1,var2,x_train,y_train,x_test,y_test,learning_rate = 0.000001,epochs = 500):\n",
    "\n",
    "    modelo = ModeloLineal()\n",
    "    tamaño_muestra = len(x_train)\n",
    "    \n",
    "    tensor_x = tf.placeholder(tf.float32,[tamaño_muestra,5],\"tensor_x\")\n",
    "    tensor_y = tf.placeholder(tf.float32,[tamaño_muestra,],\"tensor_y\")\n",
    "    now = datetime.now()\n",
    "    logdir = \"./tf_logs/\" + now.strftime(\"%Y%m%d-%H%M%S\") +\"_lr_\"+str(learning_rate) + \"_epochs_\" + str(epochs) + \"_var1_\" + str(var1) + \"_var2_\" + str(var2) \n",
    "    prediccion = modelo(tensor_x)\n",
    "    actualizacion_parametros = modelo.actualizar(tensor_x,tensor_y,learning_rate)\n",
    "\n",
    "    with tf.train.MonitoredSession() as session:\n",
    "        train_writer = tf.summary.FileWriter( logdir, session.graph)\n",
    "        \n",
    "        feed_dict = {tensor_x:x_train, tensor_y:y_train}\n",
    "\n",
    "        for i in range(epochs):\n",
    "\n",
    "            la_actualizacion = session.run(actualizacion_parametros,feed_dict=feed_dict)\n",
    "            #merge = tf.summary.merge_all()\n",
    "            train_writer.add_summary(la_actualizacion[1],i)\n",
    "            predicciones = session.run(prediccion,feed_dict=feed_dict)\n",
    "\n",
    "        pendiente_final,intercepto_final = session.run([modelo.m,modelo.b],feed_dict=feed_dict)\n",
    "        \n",
    "        prediccion_test = session.run(prediccion,feed_dict=feed_dict)\n",
    "        \n",
    "        \n",
    "        \n",
    "    return  1/2*tf.reduce_mean(tf.math.square(tf.cast(y_test, tf.float32) - prediccion_test) ),pendiente_final,intercepto_final\n",
    "    "
   ]
  },
  {
   "cell_type": "code",
   "execution_count": 27,
   "metadata": {},
   "outputs": [],
   "source": [
    "#errores = []\n",
    "#for i in list(itertools.combinations(range(data.shape[1]-1), 2)):\n",
    "#    d = {'a': np.array(data.iloc[:,i[0]]),\n",
    "#         'b': np.array(data.iloc[:,i[1]]),\n",
    "#         'a^2': np.array(data.iloc[:,i[0]])*np.array(data.iloc[:,i[0]]),\n",
    "#         'b^2': np.array(data.iloc[:,i[1]])*np.array(data.iloc[:,i[1]]),\n",
    "#         'ab': np.array(data.iloc[:,i[0]])*np.array(data.iloc[:,i[1]]),\n",
    "#         'y' : np.array(data.iloc[:,11])}\n",
    "#    dataset = pd.DataFrame(data=d)\n",
    "#    tf.compat.v1.set_random_seed( 2 )\n",
    "#    train_dataset = dataset.sample(frac=0.8,random_state=0)\n",
    "#    test_dataset = dataset.drop(train_dataset.index)\n",
    "#    x_train = train_dataset[[\"a\",\"b\",\"a^2\",\"b^2\",\"ab\"]]\n",
    "#    y_train = train_dataset[\"y\"]\n",
    "#    x_test = test_dataset[[\"a\",\"b\",\"a^2\",\"b^2\",\"ab\"]]\n",
    "#    y_test = test_dataset[\"y\"]\n",
    "#    resultados_i = Probar_Variable(i[0],i[1],x_train,y_train,x_test,y_test)\n",
    "#    errores.append([i,resultados_i])"
   ]
  },
  {
   "cell_type": "code",
   "execution_count": 28,
   "metadata": {},
   "outputs": [
    {
     "data": {
      "text/plain": [
       "Reusing TensorBoard on port 6006 (pid 24452), started 0:14:32 ago. (Use '!kill 24452' to kill it.)"
      ]
     },
     "metadata": {},
     "output_type": "display_data"
    },
    {
     "data": {
      "text/html": [
       "\n",
       "      <iframe id=\"tensorboard-frame-6a079ff2cb9c9efd\" width=\"100%\" height=\"800\" frameborder=\"0\">\n",
       "      </iframe>\n",
       "      <script>\n",
       "        (function() {\n",
       "          const frame = document.getElementById(\"tensorboard-frame-6a079ff2cb9c9efd\");\n",
       "          const url = new URL(\"/\", window.location);\n",
       "          url.port = 6006;\n",
       "          frame.src = url;\n",
       "        })();\n",
       "      </script>\n",
       "  "
      ],
      "text/plain": [
       "<IPython.core.display.HTML object>"
      ]
     },
     "metadata": {},
     "output_type": "display_data"
    }
   ],
   "source": [
    "%tensorboard --logdir .tf_logs"
   ]
  },
  {
   "cell_type": "markdown",
   "metadata": {},
   "source": [
    "Ahora podemos visualizar las gráficas de errores apoyados en la herramienta Tensorboard, de manera que veremos a cada variable y cómo interactúa con las demás para así determinar que parejas de variables hacen el mejor fit."
   ]
  },
  {
   "cell_type": "markdown",
   "metadata": {},
   "source": [
    "#### Errores variable 0 (fixed acidity)\n",
    "<img src=\"Graphs/Errores_v0_all.png\">\n",
    "\n",
    "#### Errores variable 1 (volatile acidity)\n",
    "<img src=\"Graphs/Errores_v1_all.png\">\n",
    "\n",
    "#### Errores variable 2 (citric acid)\n",
    "<img src=\"Graphs/Errores_v2_all.png\">\n",
    "\n",
    "#### Errores variable 3 (residual sugar)\n",
    "<img src=\"Graphs/Errores_v3_all.png\">\n",
    "\n",
    "#### Errores variable 4 (chlorides)\n",
    "<img src=\"Graphs/Errores_v4_all.png\">\n",
    "\n",
    "#### Errores variable 5 (free sulfur dioxide)\n",
    "<img src=\"Graphs/Errores_v5_all.png\">\n",
    "\n",
    "#### Errores variable 6 (total sulfur dioxide )\n",
    "<img src=\"Graphs/Errores_v6_all.png\">\n",
    "\n",
    "#### Errores variable 7 (density)\n",
    "<img src=\"Graphs/Errores_v7_all.png\">\n",
    "\n",
    "#### Errores variable 8 (pH)\n",
    "<img src=\"Graphs/Errores_v8_all.png\">\n",
    "\n",
    "#### Errores variable 9 (sulphates)\n",
    "<img src=\"Graphs/Errores_v9_all.png\">\n",
    "\n",
    "#### Errores variable 10 (alcohol)\n",
    "<img src=\"Graphs/Errores_v10_all.png\">\n",
    "\n",
    "De las gráficas vemos que la variable que es capaz de mejorar a las demás es la variable 10 que es la que denota el alcohol, entonces para minimizar computación procedemos con las mejores 2 parejas de la combinación con la variable 10, que son la variable 8 (pH)  y la variable 0 (fixed acidity).\n"
   ]
  },
  {
   "cell_type": "code",
   "execution_count": 29,
   "metadata": {},
   "outputs": [],
   "source": [
    "vect_piv = [0,8,10]\n",
    "data2 = data[[\"fixed acidity\",\"pH\",\"alcohol\",\"quality\"]]"
   ]
  },
  {
   "cell_type": "code",
   "execution_count": 30,
   "metadata": {},
   "outputs": [
    {
     "name": "stdout",
     "output_type": "stream",
     "text": [
      "INFO:tensorflow:Graph was finalized.\n",
      "INFO:tensorflow:Running local_init_op.\n",
      "INFO:tensorflow:Done running local_init_op.\n",
      "INFO:tensorflow:Graph was finalized.\n",
      "INFO:tensorflow:Running local_init_op.\n",
      "INFO:tensorflow:Done running local_init_op.\n",
      "INFO:tensorflow:Graph was finalized.\n",
      "INFO:tensorflow:Running local_init_op.\n",
      "INFO:tensorflow:Done running local_init_op.\n"
     ]
    }
   ],
   "source": [
    "errores2 = []\n",
    "for i in list(itertools.combinations(range(data2.shape[1]-1), 2)):\n",
    "    d = {'a': np.array(data2.iloc[:,i[0]]),\n",
    "         'b': np.array(data2.iloc[:,i[1]]),\n",
    "         'a^2': np.array(data2.iloc[:,i[0]])*np.array(data.iloc[:,i[0]]),\n",
    "         'b^2': np.array(data2.iloc[:,i[1]])*np.array(data.iloc[:,i[1]]),\n",
    "         'ab': np.array(data2.iloc[:,i[0]])*np.array(data.iloc[:,i[1]]),\n",
    "         'y' : np.array(data2.iloc[:,3])}\n",
    "    dataset = pd.DataFrame(data=d)\n",
    "    tf.compat.v1.set_random_seed( 2 )\n",
    "    train_dataset = dataset.sample(frac=0.8,random_state=0)\n",
    "    test_dataset = dataset.drop(train_dataset.index)\n",
    "    x_train = train_dataset[[\"a\",\"b\",\"a^2\",\"b^2\",\"ab\"]]\n",
    "    y_train = train_dataset[\"y\"]\n",
    "    x_test = test_dataset[[\"a\",\"b\",\"a^2\",\"b^2\",\"ab\"]]\n",
    "    y_test = test_dataset[\"y\"]\n",
    "    resultados_i = Probar_Variable(vect_piv[i[0]],vect_piv[i[1]],x_train,y_train,x_test,y_test,learning_rate = 0.00001,epochs = 1000)\n",
    "    errores2.append([i,resultados_i])"
   ]
  },
  {
   "cell_type": "code",
   "execution_count": 34,
   "metadata": {},
   "outputs": [
    {
     "data": {
      "text/plain": [
       "ERROR: Failed to launch TensorBoard (exited with 2).\n",
       "Contents of stderr:\n",
       "usage: tensorboard [-h] [--helpfull] [--logdir PATH] [--logdir_spec PATH_SPEC]\n",
       "                   [--host ADDR] [--bind_all] [--port PORT]\n",
       "                   [--purge_orphaned_data BOOL] [--db URI] [--db_import]\n",
       "                   [--inspect] [--version_tb] [--tag TAG] [--event_file PATH]\n",
       "                   [--path_prefix PATH] [--window_title TEXT]\n",
       "                   [--max_reload_threads COUNT] [--reload_interval SECONDS]\n",
       "                   [--reload_task TYPE] [--reload_multifile BOOL]\n",
       "                   [--reload_multifile_inactive_secs SECONDS]\n",
       "                   [--generic_data TYPE]\n",
       "                   [--samples_per_plugin SAMPLES_PER_PLUGIN]\n",
       "                   [--debugger_data_server_grpc_port PORT]\n",
       "                   [--debugger_port PORT] [--master_tpu_unsecure_channel ADDR]\n",
       "                   {serve,dev} ...\n",
       "tensorboard: error: unrecognized arguments: --6006"
      ]
     },
     "metadata": {},
     "output_type": "display_data"
    }
   ],
   "source": [
    "%tensorboard --logdir .tf_logs --6006"
   ]
  }
 ],
 "metadata": {
  "kernelspec": {
   "display_name": "Python 3",
   "language": "python",
   "name": "python3"
  },
  "language_info": {
   "codemirror_mode": {
    "name": "ipython",
    "version": 3
   },
   "file_extension": ".py",
   "mimetype": "text/x-python",
   "name": "python",
   "nbconvert_exporter": "python",
   "pygments_lexer": "ipython3",
   "version": "3.7.7"
  }
 },
 "nbformat": 4,
 "nbformat_minor": 4
}
